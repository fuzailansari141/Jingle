{
 "cells": [
  {
   "cell_type": "code",
   "execution_count": 1,
   "id": "da917be9",
   "metadata": {},
   "outputs": [],
   "source": [
    "import requests"
   ]
  },
  {
   "cell_type": "code",
   "execution_count": 2,
   "id": "7540321b",
   "metadata": {},
   "outputs": [],
   "source": [
    "from bs4 import BeautifulSoup"
   ]
  },
  {
   "cell_type": "code",
   "execution_count": 3,
   "id": "20dafe2e",
   "metadata": {},
   "outputs": [],
   "source": [
    "url='https://hunthalloween.com/mumbai/christmas'"
   ]
  },
  {
   "cell_type": "code",
   "execution_count": 4,
   "id": "938ff0e1",
   "metadata": {},
   "outputs": [
    {
     "data": {
      "text/plain": [
       "<Response [200]>"
      ]
     },
     "execution_count": 4,
     "metadata": {},
     "output_type": "execute_result"
    }
   ],
   "source": [
    "r=requests.get(url)\n",
    "r"
   ]
  },
  {
   "cell_type": "code",
   "execution_count": 5,
   "id": "9bd6807c",
   "metadata": {},
   "outputs": [],
   "source": [
    "content=r.content"
   ]
  },
  {
   "cell_type": "code",
   "execution_count": 6,
   "id": "e98fc9fc",
   "metadata": {},
   "outputs": [
    {
     "data": {
      "text/plain": [
       "b'<!doctype html>\\n<html lang=\"en\">\\n  <head>\\n  \\t<meta charset=\"utf-8\">\\n<meta name=\"viewport\" content=\"width=device-width, initial-scale=1\">\\n<link rel=\"apple-touch-icon\" sizes=\"180x180\" href=\"https://hunthalloween.com/assets/img/apple-touch-icon.png\">\\n<link rel=\"icon\" type=\"image/png\" sizes=\"32x32\" href=\"https://hunthalloween.com/assets/img/favicon-32x32.png\">\\n<link rel=\"icon\" type=\"image/png\" sizes=\"16x16\" href=\"https://hunthalloween.com/assets/img/favicon-16x16.png\">\\n<link rel=\"manifest\" href=\"https://hunthalloween.com/assets/img/site.webmanifest\">\\n<link rel=\"mask-icon\" href=\"https://hunthalloween.com/assets/img/safari-pinned-tab.svg\" color=\"#5bbad5\">\\n<link rel=\"shortcut icon\" href=\"https://hunthalloween.com/assets/img/favicon.ico\">\\n<meta name=\"msapplication-TileColor\" content=\"#ffffff\">\\n<meta name=\"msapplication-config\" content=\"https://hunthalloween.com/assets/img/browserconfig.xml\">\\n<meta name=\"theme-color\" content=\"#ffffff\">\\n<title>Best Christmas 2022 Events & Parties Near Mumbai,MH</title><meta name=\"description\" content=\"Discover Christmas in Mumbai, MH, India. Explore Christmas events nearby Mumbai\" ><link rel=\"canonical\" href=\"https://hunthalloween.com/mumbai/christmas\" > <!-- Bootstrap CSS -->\\n<link rel=\"preload\" href=\"https://hunthalloween.com/assets/css/hhtheme.css?v=4\" as=\"style\">\\n<link rel=\"preload\" as=\"image\" href=\"https://hunthalloween.com/assets/img/HuntHalloween.svg\">\\n<link rel=\"preconnect\" href=\"https://fonts.googleapis.com\">\\n<link rel=\"preconnect\" href=\"https://fonts.gstatic.com\" crossorigin>\\n<script>\\n  window.dataLayer = window.dataLayer || [];\\n  function gtag(){dataLayer.push(arguments);}\\n  gtag(\\'js\\', new Date());\\n\\n  gtag(\\'config\\', \\'G-KH8C231NFW\\');\\n</script>\\n\\n<link rel=\"preload\" as=\"image\" href=\"https://cdn.hunthalloween.com/events4/banners/63de6d461b200e602a0f310812cb4ff7973162c769dd6e4142c7c95dc4668535-rimg-w960-h960-gmir?v=1671362863\"><style type=\"text/css\">\\n\\n/*  .bg-light-2{background: #FCF7F8;}\\n  h1,h2,h3,h4,h5,h6{color: #FE7D17;font-family: \\'Shadows Into Light Two\\';}\\n  .bg-theme{}\\n  .text-theme{color: #FE7D17;}\\n  a,body a,.nav-links {color: #409c9b;}\\n  a:hover,body a:hover,.nav-links: hover{color: #0d605f;}\\n  body{color: #22282F;}*/\\n\\n</style>  \\t<style type=\"text/css\">.list-group-item-action{width: 100%;color: #495057;text-align: inherit}.list-group-item{position: relative;display: block;padding: .5rem 1rem;color: #212529;background-color: #fff;border: 1px solid rgba(0,0,0,0.125)}.list-group-item:first-child{border-top-left-radius: inherit;border-top-right-radius: inherit}.list-group-item:last-child{border-bottom-right-radius: inherit;border-bottom-left-radius: inherit}.clearfix::after{display: block;clear: both;content: \"\"}.stretched-link::after{position: absolute;top: 0;right: 0;bottom: 0;left: 0;z-index: 1;content: \"\"}.overflow-hidden{overflow: hidden!important}.d-block{display: block!important}.d-flex{display: flex!important}.d-none{display: none!important}.position-relative{position: relative!important}.h-100{height: 100%!important}.justify-content-center{justify-content: center!important}.justify-content-between{justify-content: space-between!important}.align-items-center{align-items: center!important}.m-0{margin: 0!important}.mx-auto{margin-right: auto!important;margin-left: auto!important}.mt-0{margin-top: 0!important}.mt-1{margin-top: .25rem!important}.mt-2{margin-top: .5rem!important}.mt-3{margin-top: 1rem!important}.mt-4{margin-top: 1.5rem!important}.mb-1{margin-bottom: .25rem!important}.mb-2{margin-bottom: .5rem!important}.mb-3{margin-bottom: 1rem!important}.mb-4{margin-bottom: 1.5rem!important}.mb-5{margin-bottom: 3rem!important}.p-2{padding: .5rem!important}.p-3{padding: 1rem!important}.px-4{padding-right: 1.5rem!important;padding-left: 1.5rem!important}.py-3{padding-top: 1rem!important;padding-bottom: 1rem!important}.pt-4{padding-top: 1.5rem!important}.pt-5{padding-top: 3rem!important}.pb-4{padding-bottom: 1.5rem!important}.text-center{text-align: center!important}.text-decoration-none{text-decoration: none!important}.text-primary{color: #fe7d17!important}.text-dark{color: #212529!important}.text-white{color: #fff!important}.bg-primary{background-color: #fe7d17!important}.bg-secondary{background-color: #7bc8c7!important}.bg-light{background-color: #f8f9fa!important}.bg-white{background-color: #fff!important}@media (min-width:768px){.justify-content-md-end{justify-content: flex-end!important}.justify-content-md-center{justify-content: center!important}.justify-content-md-between{justify-content: space-between!important}.mt-md-0{margin-top: 0!important}.p-md-5{padding: 3rem!important}}@media (min-width:992px){.d-lg-block{display: block!important}.d-lg-none{display: none!important}}@charset \"UTF-8\";button::-moz-focus-inner{border: 0}button{outline: 0}button{padding: 0}ul,ol{list-style: none;padding: 0;margin: 0}ul li,ol li{display: block}.bg-primary,.bg-secondary,.bg-primary h1{color: #fff}*+h2{margin-top: 20px}*+.row{margin-top: 30px}.text-primary{color: #fe7d17!important}.bg-primary{background-color: #fe7d17}.bg-secondary{background-color: #7bc8c7}.bg-primary-light{background-color: rgba(254,234,199,0.3)}body{font-family: \"Montserrat\",-apple-system,BlinkMacSystemFont,\"Segoe UI\",Roboto,\"Helvetica Neue\",Arial,sans-serif;font-size: 18px;line-height: 1.62222;font-weight: 400;color: #22282f;background-color: #fff;-webkit-text-size-adjust: none;-webkit-font-smoothing: subpixel-antialiased}h1,h2,h3,.h5{margin-bottom: 0}h1{font-size: 3rem;line-height: 1;color: #fe7d17}@media (min-width:768px){h1{font-size: 3rem}}@media (min-width:1200px){h1{font-size: 3.5rem}}h2{font-size: 2.8rem;line-height: 1;color: #fe7d17}@media (min-width:768px){h2{font-size: 2.5rem}}@media (min-width:1200px){h2{font-size: 2.8rem}}h3{font-family: \"Montserrat\",-apple-system,BlinkMacSystemFont,\"Segoe UI\",Roboto,\"Helvetica Neue\",Arial,sans-serif;font-size: 30px;font-weight: 600;line-height: 1.3}.h5{font-family: \"Montserrat\",-apple-system,BlinkMacSystemFont,\"Segoe UI\",Roboto,\"Helvetica Neue\",Arial,sans-serif;font-size: 20px;font-weight: 600;line-height: 1.3}small{display: block;font-size: 16px;line-height: 1.5625}a{text-decoration: none}a{color: #fe7d17}img{display: inline-block;max-width: 100%;height: auto}:root{--bs-blue: #0d6efd;--bs-indigo: #6610f2;--bs-purple: #6f42c1;--bs-pink: #d63384;--bs-red: #dc3545;--bs-orange: #fd7e14;--bs-yellow: #ffc107;--bs-green: #198754;--bs-teal: #20c997;--bs-cyan: #0dcaf0;--bs-white: #fff;--bs-gray: #6c757d;--bs-gray-dark: #343a40;--bs-primary: #fe7d17;--bs-secondary: #7bc8c7;--bs-success: #198754;--bs-info: #0dcaf0;--bs-warning: #ffc107;--bs-danger: #dc3545;--bs-light: #f8f9fa;--bs-dark: #212529;--bs-font-sans-serif: \"Montserrat\",-apple-system,BlinkMacSystemFont,\"Segoe UI\",Roboto,\"Helvetica Neue\",Arial,sans-serif;--bs-font-monospace: \"Menlo\",Monaco,Consolas,\"Liberation Mono\",\"Courier New\",monospace;--bs-gradient: linear-gradient(180deg,rgba(255,255,255,0.15),rgba(255,255,255,0))}*,*::before,*::after{box-sizing: border-box}body{margin: 0;font-family: \"Montserrat\",-apple-system,BlinkMacSystemFont,\"Segoe UI\",Roboto,\"Helvetica Neue\",Arial,sans-serif;font-size: 1rem;font-weight: 400;line-height: 1.62222;color: #22282f;background-color: #fff;-webkit-text-size-adjust: 100%}h1,h2,h3,.h5{margin-top: 0;margin-bottom: .5rem;font-family: \"Shadows Into Light\",-apple-system,BlinkMacSystemFont,\"Segoe UI\",Roboto,\"Helvetica Neue\",Arial,sans-serif;font-weight: 400;line-height: 1.1;color: #151515}h1{font-size: calc(2rem+9vw)}@media (min-width:1200px){h1{font-size: 3.5rem}}h2{font-size: calc(1.5625rem+3.75vw)}@media (min-width:1200px){h2{font-size: 3rem}}h3{font-size: calc(1.3125rem+0.75vw)}@media (min-width:1200px){h3{font-size: 1.875rem}}.h5{font-size: 1.25rem}ol,ul{padding-left: 2rem}ol,ul{margin-top: 0;margin-bottom: 1rem}small{font-size: .875em}a{color: #fe7d17;text-decoration: none}img,svg{vertical-align: middle}button{border-radius: 0}button{margin: 0;font-family: inherit;font-size: inherit;line-height: inherit}button{text-transform: none}button,[type=\"button\"]{-webkit-appearance: button}::-moz-focus-inner{padding: 0;border-style: none}::-webkit-datetime-edit-fields-wrapper,::-webkit-datetime-edit-text,::-webkit-datetime-edit-minute,::-webkit-datetime-edit-hour-field,::-webkit-datetime-edit-day-field,::-webkit-datetime-edit-month-field,::-webkit-datetime-edit-year-field{padding: 0}::-webkit-inner-spin-button{height: auto}::-webkit-search-decoration{-webkit-appearance: none}::-webkit-color-swatch-wrapper{padding: 0}::file-selector-button{font: inherit}::-webkit-file-upload-button{font: inherit;-webkit-appearance: button}iframe{border: 0}.container{width: 100%;padding-right: var(--bs-gutter-x,15px);padding-left: var(--bs-gutter-x,15px);margin-right: auto;margin-left: auto}@media (min-width:576px){.container{max-width: 540px}}@media (min-width:768px){.container{max-width: 720px}}@media (min-width:992px){.container{max-width: 960px}}@media (min-width:1200px){.container{max-width: 1200px}}.row{--bs-gutter-x: 30px;--bs-gutter-y: 0;display: flex;flex-wrap: wrap;margin-top: calc(var(--bs-gutter-y) * -1);margin-right: calc(var(--bs-gutter-x) / -2);margin-left: calc(var(--bs-gutter-x) / -2)}.row>*{flex-shrink: 0;width: 100%;max-width: 100%;padding-right: calc(var(--bs-gutter-x) / 2);padding-left: calc(var(--bs-gutter-x) / 2);margin-top: var(--bs-gutter-y)}@media (min-width:768px){.col-md-4{flex: 0 0 auto;width: 33.33333%}.col-md-5{flex: 0 0 auto;width: 41.66667%}.col-md-7{flex: 0 0 auto;width: 58.33333%}.col-md-11{flex: 0 0 auto;width: 91.66667%}}.nav{display: flex;flex-wrap: wrap;padding-left: 0;margin-bottom: 0;list-style: none}.nav-link{display: block;padding: .5rem 1rem;color: #0d6efd}@media (prefers-reduced-motion:reduce){}.navbar{position: relative;display: flex;flex-wrap: wrap;align-items: center;justify-content: space-between;padding-top: .5rem;padding-bottom: .5rem}.navbar-brand{padding-top: .3125rem;padding-bottom: .3125rem;margin-right: 1rem;font-size: 1.25rem;white-space: nowrap}.navbar-nav{display: flex;flex-direction: column;padding-left: 0;margin-bottom: 0;list-style: none}.navbar-nav .nav-link{padding-right: 0;padding-left: 0}.navbar-collapse{flex-basis: 100%;flex-grow: 1;align-items: center}.navbar-toggler{padding: .25rem .75rem;font-size: 1.25rem;line-height: 1;background-color: transparent;border: 1px solid transparent;border-radius: .25rem}@media (prefers-reduced-motion:reduce){}.navbar-toggler-icon{display: inline-block;width: 1.5em;height: 1.5em;vertical-align: middle;background-repeat: no-repeat;background-position: center;background-size: 100%}@media (min-width:992px){.navbar-expand-lg{flex-wrap: nowrap;justify-content: flex-start}.navbar-expand-lg .navbar-nav{flex-direction: row}.navbar-expand-lg .navbar-nav .nav-link{padding-right: .5rem;padding-left: .5rem}.navbar-expand-lg .navbar-collapse{display: flex!important;flex-basis: auto}.navbar-expand-lg .navbar-toggler{display: none}}.navbar-light .navbar-brand{color: rgba(0,0,0,0.9)}.navbar-light .navbar-nav .nav-link{color: rgba(0,0,0,0.55)}.navbar-light .navbar-toggler{color: rgba(0,0,0,0.55);border-color: rgba(0,0,0,0.1)}.navbar-light .navbar-toggler-icon{background-image: url(\"data:image/svg+xml,%3csvg xmlns=\\'http://www.w3.org/2000/svg\\' viewBox=\\'0 0 30 30\\'%3e%3cpath stroke=\\'rgba%280,0,0,0.55%29\\' stroke-linecap=\\'round\\' stroke-miterlimit=\\'10\\' stroke-width=\\'2\\' d=\\'M4 7h22M4 15h22M4 23h22\\'/%3e%3c/svg%3e\")}.card{position: relative;display: flex;flex-direction: column;min-width: 0;word-wrap: break-word;background-color: #fff;background-clip: border-box;border: 1px solid rgba(0,0,0,0.125);border-radius: .25rem}.card-body{flex: 1 1 auto;padding: 1rem 1rem}.breadcrumb{display: flex;flex-wrap: wrap;padding: 0;margin-bottom: 1rem;list-style: none}.breadcrumb-item+.breadcrumb-item{padding-left: .5rem}.breadcrumb-item+.breadcrumb-item::before{float: left;padding-right: .5rem;color: #6c757d;content: var(--bs-breadcrumb-divider,\"/\")}.breadcrumb-item.active{color: #6c757d}.badge{display: inline-block;padding: .35em .65em;font-size: .75em;font-weight: 700;line-height: 1;color: #fff;text-align: center;white-space: nowrap;vertical-align: baseline;border-radius: .25rem}.list-group-item-action{width: 100%;color: #495057;text-align: inherit}.list-group-item{position: relative;display: block;padding: .5rem 1rem;color: #212529;background-color: #fff;border: 1px solid rgba(0,0,0,0.125)}.list-group-item:first-child{border-top-left-radius: inherit;border-top-right-radius: inherit}.list-group-item:last-child{border-bottom-right-radius: inherit;border-bottom-left-radius: inherit}.clearfix::after{display: block;clear: both;content: \"\"}.stretched-link::after{position: absolute;top: 0;right: 0;bottom: 0;left: 0;z-index: 1;content: \"\"}.overflow-hidden{overflow: hidden!important}.d-block{display: block!important}.d-flex{display: flex!important}.d-none{display: none!important}.position-relative{position: relative!important}.h-100{height: 100%!important}.justify-content-center{justify-content: center!important}.justify-content-between{justify-content: space-between!important}.align-items-center{align-items: center!important}.m-0{margin: 0!important}.mx-auto{margin-right: auto!important;margin-left: auto!important}.mt-0{margin-top: 0!important}.mt-1{margin-top: .25rem!important}.mt-2{margin-top: .5rem!important}.mt-3{margin-top: 1rem!important}.mt-4{margin-top: 1.5rem!important}.mb-1{margin-bottom: .25rem!important}.mb-2{margin-bottom: .5rem!important}.mb-3{margin-bottom: 1rem!important}.mb-4{margin-bottom: 1.5rem!important}.mb-5{margin-bottom: 3rem!important}.p-2{padding: .5rem!important}.p-3{padding: 1rem!important}.px-4{padding-right: 1.5rem!important;padding-left: 1.5rem!important}.py-3{padding-top: 1rem!important;padding-bottom: 1rem!important}.pt-4{padding-top: 1.5rem!important}.pt-5{padding-top: 3rem!important}.pb-4{padding-bottom: 1.5rem!important}.text-center{text-align: center!important}.text-decoration-none{text-decoration: none!important}.text-primary{color: #fe7d17!important}.text-dark{color: #212529!important}.text-white{color: #fff!important}.bg-primary{background-color: #fe7d17!important}.bg-secondary{background-color: #7bc8c7!important}.bg-light{background-color: #f8f9fa!important}.bg-white{background-color: #fff!important}@media (min-width:768px){.justify-content-md-end{justify-content: flex-end!important}.justify-content-md-center{justify-content: center!important}.justify-content-md-between{justify-content: space-between!important}.mt-md-0{margin-top: 0!important}.p-md-5{padding: 3rem!important}}@media (min-width:992px){.d-lg-block{display: block!important}.d-lg-none{display: none!important}}@charset \"UTF-8\";button::-moz-focus-inner{border: 0}button{outline: 0}button{padding: 0}ul,ol{list-style: none;padding: 0;margin: 0}ul li,ol li{display: block}.bg-primary,.bg-secondary,.bg-primary h1{color: #fff}*+h2{margin-top: 20px}*+.row{margin-top: 30px}.text-primary{color: #fe7d17!important}.bg-primary{background-color: #fe7d17}.bg-secondary{background-color: #7bc8c7}.bg-primary-light{background-color: rgba(254,234,199,0.3)}body{font-family: \"Montserrat\",-apple-system,BlinkMacSystemFont,\"Segoe UI\",Roboto,\"Helvetica Neue\",Arial,sans-serif;font-size: 18px;line-height: 1.62222;font-weight: 400;color: #22282f;background-color: #fff;-webkit-text-size-adjust: none;-webkit-font-smoothing: subpixel-antialiased}h1,h2,h3,.h5{margin-bottom: 0}h1{font-size: 3rem;line-height: 1;color: #fe7d17}@media (min-width:768px){h1{font-size: 3rem}}@media (min-width:1200px){h1{font-size: 3.5rem}}h2{font-size: 2.8rem;line-height: 1;color: #fe7d17}@media (min-width:768px){h2{font-size: 2.5rem}}@media (min-width:1200px){h2{font-size: 2.8rem}}h3{font-family: \"Montserrat\",-apple-system,BlinkMacSystemFont,\"Segoe UI\",Roboto,\"Helvetica Neue\",Arial,sans-serif;font-size: 30px;font-weight: 600;line-height: 1.3}.h5{font-family: \"Montserrat\",-apple-system,BlinkMacSystemFont,\"Segoe UI\",Roboto,\"Helvetica Neue\",Arial,sans-serif;font-size: 20px;font-weight: 600;line-height: 1.3}small{display: block;font-size: 16px;line-height: 1.5625}a{text-decoration: none}a{color: #fe7d17}img{display: inline-block;max-width: 100%;height: auto}</style>\\n  \\t<style type=\"text/css\">.ads-block-1{height: 280px;}@media only screen and (max-width: 480px) and (min-width: 360px){.ads-block-1{height: 83.3333vw;}}</style>\\n  </head>\\n  \\n  <body class=\"bg-light-2\">\\n    \\n\\t<!-- topbar -->\\n\\t <header id=header-main>\\n\\t <nav class=\"navbar navbar-expand-lg navbar-light bg-white\">\\n\\t    <a class=\"navbar-brand d-lg-none p-2\" href=\"https://hunthalloween.com/mumbai\" title=\"Holidays Events in Mumbai\"><img alt=\"HuntHalloween Logo\" width=\"312\" height=\"40\" src=\"https://hunthalloween.com/assets/img/HuntHalloween.svg\" id=\"navbar-logo\" fetchpriority=\"high\" style=\"max-width: 280px;margin-left: 10px;\"></a>\\n\\t    <button class=\"navbar-toggler d-none\" type=\"button\" data-toggle=\"collapse\" data-target=\"#fjNav\"\\n\\t        aria-controls=\"fjNav\" aria-expanded=\"false\" aria-label=\"Toggle navigation\">\\n\\t        <span class=\"navbar-toggler-icon\"></span>\\n\\t    </button>\\n\\t    <div class=\"collapse navbar-collapse collapse show\" id=\"fjNav\">\\n\\t        <ul class=\"navbar-nav mx-auto\">\\n\\t            <li><a class=\"d-none d-lg-block p-2\"  href=\"https://hunthalloween.com/mumbai\" title=\"Holidays Events in Mumbai\"><img alt=\"Halloween Events\" width=\"312\" height=\"40\" src=\"https://hunthalloween.com/assets/img/HuntHalloween.svg\"></a></li>\\n\\t            <li class=\"nav-item ml-5\" style=\"position: absolute; right: 0; top: 10px; width: 10%;\">\\n\\t             \\t<a class=\"nav-link track\" title=\"Share this Page\" rel=\"noopener noreferrer nofollow\" target=\"_blank\" data-track=\"TopBar|clicks|Share-eventlist\" href=\"https://www.facebook.com/sharer/sharer.php?u=https://hunthalloween.com/mumbai/christmas\">\\n\\t             \\t\\t<svg version=\"1.1\" id=\"Capa_1\" xmlns=\"http://www.w3.org/2000/svg\" xmlns:xlink=\"http://www.w3.org/1999/xlink\" x=\"0px\" y=\"0px\" viewBox=\"0 0 512 512\" style=\"enable-background:new 0 0 512 512;max-width: 25px;height: 20px;\" xml:space=\"preserve\">\\n\\t\\t\\t\\t\\t\\t<g>\\n\\t\\t\\t\\t\\t\\t\\t<g>\\n\\t\\t\\t\\t\\t\\t\\t\\t<path d=\"M406,332c-29.636,0-55.969,14.402-72.378,36.571l-141.27-72.195C194.722,288.324,196,279.809,196,271\\n\\t\\t\\t\\t\\t\\t\\t\\t\\tc0-11.931-2.339-23.324-6.574-33.753l148.06-88.958C354.006,167.679,378.59,180,406,180c49.626,0,90-40.374,90-90\\n\\t\\t\\t\\t\\t\\t\\t\\t\\tc0-49.626-40.374-90-90-90c-49.626,0-90,40.374-90,90c0,11.47,2.161,22.443,6.09,32.54l-148.43,89.18\\n\\t\\t\\t\\t\\t\\t\\t\\t\\tC157.152,192.902,132.941,181,106,181c-49.626,0-90,40.374-90,90c0,49.626,40.374,90,90,90c30.122,0,56.832-14.876,73.177-37.666\\n\\t\\t\\t\\t\\t\\t\\t\\t\\tl140.86,71.985C317.414,403.753,316,412.714,316,422c0,49.626,40.374,90,90,90c49.626,0,90-40.374,90-90\\n\\t\\t\\t\\t\\t\\t\\t\\t\\tC496,372.374,455.626,332,406,332z M406,30c33.084,0,60,26.916,60,60s-26.916,60-60,60s-60-26.916-60-60S372.916,30,406,30z\\n\\t\\t\\t\\t\\t\\t\\t\\t\\t M106,331c-33.084,0-60-26.916-60-60s26.916-60,60-60s60,26.916,60,60S139.084,331,106,331z M406,482c-33.084,0-60-26.916-60-60\\n\\t\\t\\t\\t\\t\\t\\t\\t\\ts26.916-60,60-60s60,26.916,60,60S439.084,482,406,482z\"/>\\n\\t\\t\\t\\t\\t\\t\\t</g></g><g></g><g></g><g></g><g></g><g></g><g></g><g></g><g></g><g></g><g></g><g></g><g></g><g></g><g></g><g></g>\\n\\t\\t\\t\\t\\t\\t</svg>\\n\\t            \\t</a>\\n\\t         \\t</li>\\n\\t        </ul>\\n\\t    </div> \\n\\t</nav>\\n</header>\\t<!-- topbar -->\\n\\n\\n\\t<style type=\"text/css\">\\n\\t      \\t.eventList .event-item .bottom{}\\n\\t      \\t.eventList .event-item{border: 0;box-shadow: 0 .125rem .25rem rgba(0,0,0,.075)!important;}\\n\\t      \\t.eventList .event-item:hover{box-shadow: 0 .5rem 1rem rgba(0,0,0,.15)!important;}\\n\\n\\t\\t\\t\\t\\t.eventList .event-item .banner-sec a{\\n\\t      \\t\\tbackground-position: top center;\\n\\t      \\t\\twidth: 100%;\\n\\t      \\t\\tpadding-bottom: 50%;\\n\\t      \\t}\\n\\t      \\t.left-sec-menu{position: sticky; top:20px;}\\n\\t      \\t.custom-content .ccc img{width: 100%;height: 100%;margin-bottom: 20px;}\\n\\t      \\t.custom-content ul{list-style: disc;}\\n\\t      \\t.custom-content ul li{display: list-item;margin-bottom: 10px;}\\n\\t</style>\\n\\t\\n\\t\\t<section class=\"text-center py-2\">\\n\\t\\t<div class=\"ads-block-1\">\\n\\t\\t\\t<script async src=\"https://pagead2.googlesyndication.com/pagead/js/adsbygoogle.js?client=ca-pub-4300580573096565\" crossorigin=\"anonymous\"></script> <!-- HH-Eventlist-Top --> <ins class=\"adsbygoogle\" style=\"display:block\" data-ad-client=\"ca-pub-4300580573096565\" data-ad-slot=\"3021171273\" data-ad-format=\"auto\" data-full-width-responsive=\"true\"></ins> <script> (adsbygoogle = window.adsbygoogle || []).push({}); </script>\\n\\t\\t</div>\\n\\t</section>\\n \\t<section class=\"slice pt-5 pb-7 bg-primary-light\">\\n         <div class=\"container mb-5\">\\n      \\n            <div class=\"row eventList justify-content-center\">\\n            \\t\\n                \\n                                <div class=\"col-md-11 left-sec\">\\n                \\t<h1 class=\"mb-2  text-center text-primary\">Christmas Events in Mumbai 2022</h1>\\n                \\t<h2 class=\"h5 mb-5 text-center text-dark\">Explore The Best Of Christmas Markets, Parties & Parades in Mumbai</h2>\\n                \\t<div class=\"row eventlist-row justify-content-md-center\">\\n\\t\\t\\t               \\t\\n\\t\\t\\t              \\t<div class=\"col-md-4 mb-3\">\\n\\t\\t\\t                  <div class=\"event-item card overflow-hidden h-100\">\\n\\t\\t\\t                     <div class=\"overflow-hidden banner-sec\">\\n\\t\\t\\t                     \\t\\t\\t\\t                     \\t\\t<a target=\"_blank\" href=\"https://hunthalloween.com/event/wed-21st-dec-latin-twist-socials-antisocial-mumbai-christmas-edition-eid4a7btkc42j\" title=\"Wed 21st Dec\\' Latin Twist Socials @AntiSocial Mumbai ? Christmas Edition ?\" class=\"bg-light d-block\" style=\"background: url(https://cdn.hunthalloween.com/events4/banners/63de6d461b200e602a0f310812cb4ff7973162c769dd6e4142c7c95dc4668535-rimg-w960-h960-gmir?v=1671362863);background-size: cover; background-position: top center;\"></a>\\n\\t\\t\\t                     \\t\\t\\t\\t                     </div>\\n\\t\\t\\t                     <div class=\"card-body py-3\">\\n\\t\\t\\t                        <a target=\"_blank\" href=\"https://hunthalloween.com/event/wed-21st-dec-latin-twist-socials-antisocial-mumbai-christmas-edition-eid4a7btkc42j\" title=\"Wed 21st Dec\\' Latin Twist Socials @AntiSocial Mumbai ? Christmas Edition ?\" class=\"stretched-link lh-150 t-darkred text-decoration-none\"><h3 class=\"h5 mt-1\">Wed 21st Dec\\' Latin Twist Socials @AntiSocial Mumbai ? Christmas Edition ?</h3></a>\\n\\t\\t\\t                       \\t<small class=\"mt-0 mb-1 lh-170 clearfix\">antiSOCIAL</small>\\n\\t\\t\\t                        <small class=\"d-block text-sm mt-2\">21 Dec 2022</small>\\n\\t\\t\\t                        <div class=\"bottom\">\\n\\t\\t\\t                     \\t\\t\\t\\t                     \\t</div>\\n\\t\\t\\t                     </div>\\n\\t\\t\\t                  </div>\\n\\t\\t\\t                </div>\\n\\t\\t\\t               \\n\\t\\t\\t               \\n\\t\\t\\t               \\t\\n\\t\\t\\t              \\t<div class=\"col-md-4 mb-3\">\\n\\t\\t\\t                  <div class=\"event-item card overflow-hidden h-100\">\\n\\t\\t\\t                     <div class=\"overflow-hidden banner-sec\">\\n\\t\\t\\t                     \\t\\t\\t\\t                     \\t\\t<a target=\"_blank\" href=\"https://hunthalloween.com/event/santas-christmas-workshop-for-kids-1yr-3-yrs-eid1nt5u59tee\" title=\"Santa\\'s Christmas Workshop for kids (1yr - 3 yrs)\" class=\"bg-light d-block lozard\" data-background-image=\"https://cdn-alt.hunthalloween.com/thumbs/thumb6380f4adbf07c.jpg\" style=\"background-size: cover; background-position: top center;\"></a>\\n\\t\\t\\t                     \\t\\t\\t\\t                     </div>\\n\\t\\t\\t                     <div class=\"card-body py-3\">\\n\\t\\t\\t                        <a target=\"_blank\" href=\"https://hunthalloween.com/event/santas-christmas-workshop-for-kids-1yr-3-yrs-eid1nt5u59tee\" title=\"Santa\\'s Christmas Workshop for kids (1yr - 3 yrs)\" class=\"stretched-link lh-150 t-darkred text-decoration-none\"><h3 class=\"h5 mt-1\">Santa\\'s Christmas Workshop for kids (1yr - 3 yrs)</h3></a>\\n\\t\\t\\t                       \\t<small class=\"mt-0 mb-1 lh-170 clearfix\">Little Amigos Montessori, Model JP Road, Seven Bunglow, Andheri West, Mumbai, Maharashtra, India</small>\\n\\t\\t\\t                        <small class=\"d-block text-sm mt-2\">22 Dec 2022</small>\\n\\t\\t\\t                        <div class=\"bottom\">\\n\\t\\t\\t                     \\t<span class=\"badge bg-light light t-gray mt-3 text-dark\">FREE</span>\\t\\t\\t                     \\t</div>\\n\\t\\t\\t                     </div>\\n\\t\\t\\t                  </div>\\n\\t\\t\\t                </div>\\n\\t\\t\\t               \\n\\t\\t\\t               \\n\\t\\t\\t               \\t\\n\\t\\t\\t              \\t<div class=\"col-md-4 mb-3\">\\n\\t\\t\\t                  <div class=\"event-item card overflow-hidden h-100\">\\n\\t\\t\\t                     <div class=\"overflow-hidden banner-sec\">\\n\\t\\t\\t                     \\t\\t\\t\\t                     \\t\\t<a target=\"_blank\" href=\"https://hunthalloween.com/event/christmas-party-eid4a7bv3fa5w\" title=\"Christmas Party\" class=\"bg-light d-block lozard\" data-background-image=\"https://cdn.hunthalloween.com/events6/banners/7f005c8a1f731fbd5b60826499edd9176fa3374f425fe05e3011bb3dbf2c55f9-rimg-w640-h328-gmir.jpg?v=1671337134\" style=\"background-size: cover; background-position: top center;\"></a>\\n\\t\\t\\t                     \\t\\t\\t\\t                     </div>\\n\\t\\t\\t                     <div class=\"card-body py-3\">\\n\\t\\t\\t                        <a target=\"_blank\" href=\"https://hunthalloween.com/event/christmas-party-eid4a7bv3fa5w\" title=\"Christmas Party\" class=\"stretched-link lh-150 t-darkred text-decoration-none\"><h3 class=\"h5 mt-1\">Christmas Party</h3></a>\\n\\t\\t\\t                       \\t<small class=\"mt-0 mb-1 lh-170 clearfix\">Club Aquaria</small>\\n\\t\\t\\t                        <small class=\"d-block text-sm mt-2\">22 Dec 2022</small>\\n\\t\\t\\t                        <div class=\"bottom\">\\n\\t\\t\\t                     \\t\\t\\t\\t                     \\t</div>\\n\\t\\t\\t                     </div>\\n\\t\\t\\t                  </div>\\n\\t\\t\\t                </div>\\n\\t\\t\\t               \\n\\t\\t\\t               \\n\\t\\t\\t               \\t\\n\\t\\t\\t              \\t<div class=\"col-md-4 mb-3\">\\n\\t\\t\\t                  <div class=\"event-item card overflow-hidden h-100\">\\n\\t\\t\\t                     <div class=\"overflow-hidden banner-sec\">\\n\\t\\t\\t                     \\t\\t\\t\\t                     \\t\\t<a target=\"_blank\" href=\"https://hunthalloween.com/event/christmas-andamp-new-year-utsav-2022-eid1nt91kilat\" title=\"Christmas &amp;amp; New Year Utsav 2022\" class=\"bg-light d-block lozard\" data-background-image=\"https://cdn-alt.hunthalloween.com/thumbs/thumb6378deb5b48b4.jpg\" style=\"background-size: cover; background-position: top center;\"></a>\\n\\t\\t\\t                     \\t\\t\\t\\t                     </div>\\n\\t\\t\\t                     <div class=\"card-body py-3\">\\n\\t\\t\\t                        <a target=\"_blank\" href=\"https://hunthalloween.com/event/christmas-andamp-new-year-utsav-2022-eid1nt91kilat\" title=\"Christmas &amp;amp; New Year Utsav 2022\" class=\"stretched-link lh-150 t-darkred text-decoration-none\"><h3 class=\"h5 mt-1\">Christmas &amp; New Year Utsav 2022</h3></a>\\n\\t\\t\\t                       \\t<small class=\"mt-0 mb-1 lh-170 clearfix\">Scout Pavilion Hall </small>\\n\\t\\t\\t                        <small class=\"d-block text-sm mt-2\">23 Dec 2022</small>\\n\\t\\t\\t                        <div class=\"bottom\">\\n\\t\\t\\t                     \\t<span class=\"badge bg-light light t-gray mt-3 text-dark\">FREE</span>\\t\\t\\t                     \\t</div>\\n\\t\\t\\t                     </div>\\n\\t\\t\\t                  </div>\\n\\t\\t\\t                </div>\\n\\t\\t\\t               \\n\\t\\t\\t               \\n\\t\\t\\t               \\t\\n\\t\\t\\t              \\t<div class=\"col-md-4 mb-3\">\\n\\t\\t\\t                  <div class=\"event-item card overflow-hidden h-100\">\\n\\t\\t\\t                     <div class=\"overflow-hidden banner-sec\">\\n\\t\\t\\t                     \\t\\t\\t\\t                     \\t\\t<a target=\"_blank\" href=\"https://hunthalloween.com/event/christmas-party-eid4a7bubremj\" title=\"christmas party\" class=\"bg-light d-block lozard\" data-background-image=\"https://cdn.hunthalloween.com/events6/banners/ed950f3cbad1eff8f88a90d83ce2dc9a1263f8823fc895ce11522f54ce75f30e-rimg-w960-h540-gmir.jpg?v=1671293393\" style=\"background-size: cover; background-position: top center;\"></a>\\n\\t\\t\\t                     \\t\\t\\t\\t                     </div>\\n\\t\\t\\t                     <div class=\"card-body py-3\">\\n\\t\\t\\t                        <a target=\"_blank\" href=\"https://hunthalloween.com/event/christmas-party-eid4a7bubremj\" title=\"christmas party\" class=\"stretched-link lh-150 t-darkred text-decoration-none\"><h3 class=\"h5 mt-1\">christmas party</h3></a>\\n\\t\\t\\t                       \\t<small class=\"mt-0 mb-1 lh-170 clearfix\">Vashi</small>\\n\\t\\t\\t                        <small class=\"d-block text-sm mt-2\">23 Dec 2022</small>\\n\\t\\t\\t                        <div class=\"bottom\">\\n\\t\\t\\t                     \\t\\t\\t\\t                     \\t</div>\\n\\t\\t\\t                     </div>\\n\\t\\t\\t                  </div>\\n\\t\\t\\t                </div>\\n\\t\\t\\t               \\n\\t\\t\\t               \\n\\t\\t\\t               \\t\\n\\t\\t\\t              \\t<div class=\"col-md-4 mb-3\">\\n\\t\\t\\t                  <div class=\"event-item card overflow-hidden h-100\">\\n\\t\\t\\t                     <div class=\"overflow-hidden banner-sec\">\\n\\t\\t\\t                     \\t\\t\\t\\t                     \\t\\t<a target=\"_blank\" href=\"https://hunthalloween.com/event/the-craft-of-mixology-making-andamp-mastering-a-fine-cocktail-by-trove-experiences-eid1nt69gch3g\" title=\"The Craft of Mixology Making &amp;amp; Mastering A Fine Cocktail by Trove Experiences \" class=\"bg-light d-block lozard\" data-background-image=\"https://cdn-alt.hunthalloween.com/thumbs/thumb63a01f4ba5c88.jpg\" style=\"background-size: cover; background-position: top center;\"></a>\\n\\t\\t\\t                     \\t\\t\\t\\t                     </div>\\n\\t\\t\\t                     <div class=\"card-body py-3\">\\n\\t\\t\\t                        <a target=\"_blank\" href=\"https://hunthalloween.com/event/the-craft-of-mixology-making-andamp-mastering-a-fine-cocktail-by-trove-experiences-eid1nt69gch3g\" title=\"The Craft of Mixology Making &amp;amp; Mastering A Fine Cocktail by Trove Experiences \" class=\"stretched-link lh-150 t-darkred text-decoration-none\"><h3 class=\"h5 mt-1\">The Craft of Mixology Making &amp; Mastering A Fine Cocktail by Trove Experiences </h3></a>\\n\\t\\t\\t                       \\t<small class=\"mt-0 mb-1 lh-170 clearfix\">Mansionz Mumbai, Senapati Bapat Marg, Lower Parel, Mumbai, Maharashtra, India</small>\\n\\t\\t\\t                        <small class=\"d-block text-sm mt-2\">23 Dec 2022</small>\\n\\t\\t\\t                        <div class=\"bottom\">\\n\\t\\t\\t                     \\t\\t\\t\\t                     \\t</div>\\n\\t\\t\\t                     </div>\\n\\t\\t\\t                  </div>\\n\\t\\t\\t                </div>\\n\\t\\t\\t               \\n\\t\\t\\t               \\n\\t\\t\\t               \\t\\n\\t\\t\\t              \\t<div class=\"col-md-4 mb-3\">\\n\\t\\t\\t                  <div class=\"event-item card overflow-hidden h-100\">\\n\\t\\t\\t                     <div class=\"overflow-hidden banner-sec\">\\n\\t\\t\\t                     \\t\\t\\t\\t                     \\t\\t<a target=\"_blank\" href=\"https://hunthalloween.com/event/christmas-eve-special-camp-eid1nt8jp7wi3\" title=\"Christmas eve special camp\" class=\"bg-light d-block lozard\" data-background-image=\"https://cdn-alt.hunthalloween.com/thumbs/thumb639ed082ee020.jpg\" style=\"background-size: cover; background-position: top center;\"></a>\\n\\t\\t\\t                     \\t\\t\\t\\t                     </div>\\n\\t\\t\\t                     <div class=\"card-body py-3\">\\n\\t\\t\\t                        <a target=\"_blank\" href=\"https://hunthalloween.com/event/christmas-eve-special-camp-eid1nt8jp7wi3\" title=\"Christmas eve special camp\" class=\"stretched-link lh-150 t-darkred text-decoration-none\"><h3 class=\"h5 mt-1\">Christmas eve special camp</h3></a>\\n\\t\\t\\t                       \\t<small class=\"mt-0 mb-1 lh-170 clearfix\">Vaitarna Dam, Maharashtra, India</small>\\n\\t\\t\\t                        <small class=\"d-block text-sm mt-2\">24 Dec 2022</small>\\n\\t\\t\\t                        <div class=\"bottom\">\\n\\t\\t\\t                     \\t<span class=\"badge bg-light light t-gray mt-3 text-dark\">INR 1,899</span>\\t\\t\\t                     \\t</div>\\n\\t\\t\\t                     </div>\\n\\t\\t\\t                  </div>\\n\\t\\t\\t                </div>\\n\\t\\t\\t               \\n\\t\\t\\t               \\n\\t\\t\\t               \\t\\n\\t\\t\\t              \\t<div class=\"col-md-4 mb-3\">\\n\\t\\t\\t                  <div class=\"event-item card overflow-hidden h-100\">\\n\\t\\t\\t                     <div class=\"overflow-hidden banner-sec\">\\n\\t\\t\\t                     \\t\\t\\t\\t                     \\t\\t<a target=\"_blank\" href=\"https://hunthalloween.com/event/christmas-carnival-the-fun-fiesta-eid4a7bsi8qih\" title=\"Christmas Carnival - The Fun Fiesta\" class=\"bg-light d-block lozard\" data-background-image=\"https://cdn.hunthalloween.com/events1/banners/2c96c30f90240423a65b0a2cf095bcdf5c091fe0f3f480dbd7a333474ea3c2dd-rimg-w960-h540-gmir.jpg?v=1671430179\" style=\"background-size: cover; background-position: top center;\"></a>\\n\\t\\t\\t                     \\t\\t\\t\\t                     </div>\\n\\t\\t\\t                     <div class=\"card-body py-3\">\\n\\t\\t\\t                        <a target=\"_blank\" href=\"https://hunthalloween.com/event/christmas-carnival-the-fun-fiesta-eid4a7bsi8qih\" title=\"Christmas Carnival - The Fun Fiesta\" class=\"stretched-link lh-150 t-darkred text-decoration-none\"><h3 class=\"h5 mt-1\">Christmas Carnival - The Fun Fiesta</h3></a>\\n\\t\\t\\t                       \\t<small class=\"mt-0 mb-1 lh-170 clearfix\">Mulund High School</small>\\n\\t\\t\\t                        <small class=\"d-block text-sm mt-2\">24 Dec 2022</small>\\n\\t\\t\\t                        <div class=\"bottom\">\\n\\t\\t\\t                     \\t\\t\\t\\t                     \\t</div>\\n\\t\\t\\t                     </div>\\n\\t\\t\\t                  </div>\\n\\t\\t\\t                </div>\\n\\t\\t\\t               \\n\\t\\t\\t               \\n\\t\\t\\t               \\t\\n\\t\\t\\t              \\t<div class=\"col-md-4 mb-3\">\\n\\t\\t\\t                  <div class=\"event-item card overflow-hidden h-100\">\\n\\t\\t\\t                     <div class=\"overflow-hidden banner-sec\">\\n\\t\\t\\t                     \\t\\t\\t\\t                     \\t\\t<a target=\"_blank\" href=\"https://hunthalloween.com/event/christmas-mela-eid4a7bujsa3b\" title=\"Christmas Mela\" class=\"bg-light d-block lozard\" data-background-image=\"https://cdn.hunthalloween.com/events9/banners/5ec6aa0298ab825d3527b3d705a96da9e4d43f1f53d005319937ff3c3a6224ae-rimg-w540-h960-gmir.jpg?v=1671363845\" style=\"background-size: cover; background-position: top center;\"></a>\\n\\t\\t\\t                     \\t\\t\\t\\t                     </div>\\n\\t\\t\\t                     <div class=\"card-body py-3\">\\n\\t\\t\\t                        <a target=\"_blank\" href=\"https://hunthalloween.com/event/christmas-mela-eid4a7bujsa3b\" title=\"Christmas Mela\" class=\"stretched-link lh-150 t-darkred text-decoration-none\"><h3 class=\"h5 mt-1\">Christmas Mela</h3></a>\\n\\t\\t\\t                       \\t<small class=\"mt-0 mb-1 lh-170 clearfix\">Chembur - \\xe0\\xa4\\x9a\\xe0\\xa5\\x87\\xe0\\xa4\\x82\\xe0\\xa4\\xac\\xe0\\xa5\\x82\\xe0\\xa4\\xb0</small>\\n\\t\\t\\t                        <small class=\"d-block text-sm mt-2\">24 Dec 2022</small>\\n\\t\\t\\t                        <div class=\"bottom\">\\n\\t\\t\\t                     \\t\\t\\t\\t                     \\t</div>\\n\\t\\t\\t                     </div>\\n\\t\\t\\t                  </div>\\n\\t\\t\\t                </div>\\n\\t\\t\\t               \\n\\t\\t\\t               \\n\\t\\t\\t               \\t\\n\\t\\t\\t              \\t<div class=\"col-md-4 mb-3\">\\n\\t\\t\\t                  <div class=\"event-item card overflow-hidden h-100\">\\n\\t\\t\\t                     <div class=\"overflow-hidden banner-sec\">\\n\\t\\t\\t                     \\t\\t\\t\\t                     \\t\\t<a target=\"_blank\" href=\"https://hunthalloween.com/event/christmas-party-at-knotty-yard-eid4a7bslgv1a\" title=\"CHRISTMAS PARTY AT KNOTTY YARD\" class=\"bg-light d-block lozard\" data-background-image=\"https://cdn.hunthalloween.com/events10/banners/cf5c2acdbfeb304bb9668fb5d8fbd2ceac735b1e8347bcf2041fd45099e94d7a-rimg-w960-h540-gmir?v=1671326518\" style=\"background-size: cover; background-position: top center;\"></a>\\n\\t\\t\\t                     \\t\\t\\t\\t                     </div>\\n\\t\\t\\t                     <div class=\"card-body py-3\">\\n\\t\\t\\t                        <a target=\"_blank\" href=\"https://hunthalloween.com/event/christmas-party-at-knotty-yard-eid4a7bslgv1a\" title=\"CHRISTMAS PARTY AT KNOTTY YARD\" class=\"stretched-link lh-150 t-darkred text-decoration-none\"><h3 class=\"h5 mt-1\">CHRISTMAS PARTY AT KNOTTY YARD</h3></a>\\n\\t\\t\\t                       \\t<small class=\"mt-0 mb-1 lh-170 clearfix\">Knotty Yard</small>\\n\\t\\t\\t                        <small class=\"d-block text-sm mt-2\">24 Dec 2022</small>\\n\\t\\t\\t                        <div class=\"bottom\">\\n\\t\\t\\t                     \\t\\t\\t\\t                     \\t</div>\\n\\t\\t\\t                     </div>\\n\\t\\t\\t                  </div>\\n\\t\\t\\t                </div>\\n\\t\\t\\t               \\n\\t\\t\\t               \\n\\t\\t\\t               \\t\\n\\t\\t\\t              \\t<div class=\"col-md-4 mb-3\">\\n\\t\\t\\t                  <div class=\"event-item card overflow-hidden h-100\">\\n\\t\\t\\t                     <div class=\"overflow-hidden banner-sec\">\\n\\t\\t\\t                     \\t\\t\\t\\t                     \\t\\t<a target=\"_blank\" href=\"https://hunthalloween.com/event/christmas-party-at-flamiingo-eid4a7bstpuon\" title=\"CHRISTMAS PARTY AT FLAMIINGO \" class=\"bg-light d-block lozard\" data-background-image=\"https://cdn.hunthalloween.com/events9/banners/1776b6316c0f476a8cd84e60a80f4fe4e4ec860c019b958881eef5526e153e1b-rimg-w960-h540-gmir.jpg?v=1671478414\" style=\"background-size: cover; background-position: top center;\"></a>\\n\\t\\t\\t                     \\t\\t\\t\\t                     </div>\\n\\t\\t\\t                     <div class=\"card-body py-3\">\\n\\t\\t\\t                        <a target=\"_blank\" href=\"https://hunthalloween.com/event/christmas-party-at-flamiingo-eid4a7bstpuon\" title=\"CHRISTMAS PARTY AT FLAMIINGO \" class=\"stretched-link lh-150 t-darkred text-decoration-none\"><h3 class=\"h5 mt-1\">CHRISTMAS PARTY AT FLAMIINGO </h3></a>\\n\\t\\t\\t                       \\t<small class=\"mt-0 mb-1 lh-170 clearfix\">Flamiingo Lounge - Belapur</small>\\n\\t\\t\\t                        <small class=\"d-block text-sm mt-2\">24 Dec 2022</small>\\n\\t\\t\\t                        <div class=\"bottom\">\\n\\t\\t\\t                     \\t\\t\\t\\t                     \\t</div>\\n\\t\\t\\t                     </div>\\n\\t\\t\\t                  </div>\\n\\t\\t\\t                </div>\\n\\t\\t\\t               \\n\\t\\t\\t               \\n\\t\\t\\t               \\t\\n\\t\\t\\t              \\t<div class=\"col-md-4 mb-3\">\\n\\t\\t\\t                  <div class=\"event-item card overflow-hidden h-100\">\\n\\t\\t\\t                     <div class=\"overflow-hidden banner-sec\">\\n\\t\\t\\t                     \\t\\t\\t\\t                     \\t\\t<a target=\"_blank\" href=\"https://hunthalloween.com/event/christmas-carnival-andamp-rajasthani-mela-eid1nta76aofj\" title=\"CHRISTMAS CARNIVAL &amp;amp; RAJASTHANI MELA\" class=\"bg-light d-block lozard\" data-background-image=\"https://cdn-alt.hunthalloween.com/thumbs/thumb6397ff5c81c70.jpg\" style=\"background-size: cover; background-position: top center;\"></a>\\n\\t\\t\\t                     \\t\\t\\t\\t                     </div>\\n\\t\\t\\t                     <div class=\"card-body py-3\">\\n\\t\\t\\t                        <a target=\"_blank\" href=\"https://hunthalloween.com/event/christmas-carnival-andamp-rajasthani-mela-eid1nta76aofj\" title=\"CHRISTMAS CARNIVAL &amp;amp; RAJASTHANI MELA\" class=\"stretched-link lh-150 t-darkred text-decoration-none\"><h3 class=\"h5 mt-1\">CHRISTMAS CARNIVAL &amp; RAJASTHANI MELA</h3></a>\\n\\t\\t\\t                       \\t<small class=\"mt-0 mb-1 lh-170 clearfix\">Shri Sunderbai Hall</small>\\n\\t\\t\\t                        <small class=\"d-block text-sm mt-2\">25 Dec 2022</small>\\n\\t\\t\\t                        <div class=\"bottom\">\\n\\t\\t\\t                     \\t<span class=\"badge bg-light light t-gray mt-3 text-dark\">FREE</span>\\t\\t\\t                     \\t</div>\\n\\t\\t\\t                     </div>\\n\\t\\t\\t                  </div>\\n\\t\\t\\t                </div>\\n\\t\\t\\t               \\n\\t\\t\\t               \\n\\t\\t\\t               \\t\\n\\t\\t\\t              \\t<div class=\"col-md-4 mb-3\">\\n\\t\\t\\t                  <div class=\"event-item card overflow-hidden h-100\">\\n\\t\\t\\t                     <div class=\"overflow-hidden banner-sec\">\\n\\t\\t\\t                     \\t\\t\\t\\t                     \\t\\t<a target=\"_blank\" href=\"https://hunthalloween.com/event/sahajyoga-meditation-experience-unconditional-joy-andamppeace-within-eid4a7bv6tmks\" title=\"Sahajyoga meditation. Experience unconditional joy &amp;amp;peace within.\" class=\"bg-light d-block lozard\" data-background-image=\"https://cdn.hunthalloween.com/events5/banners/c5b5f8b1d26aaaff8be6c109c6e241720c1cf1b41c0495672d9db1c832b29028-rimg-w635-h960-gmir.jpg?v=1671455955\" style=\"background-size: cover; background-position: top center;\"></a>\\n\\t\\t\\t                     \\t\\t\\t\\t                     </div>\\n\\t\\t\\t                     <div class=\"card-body py-3\">\\n\\t\\t\\t                        <a target=\"_blank\" href=\"https://hunthalloween.com/event/sahajyoga-meditation-experience-unconditional-joy-andamppeace-within-eid4a7bv6tmks\" title=\"Sahajyoga meditation. Experience unconditional joy &amp;amp;peace within.\" class=\"stretched-link lh-150 t-darkred text-decoration-none\"><h3 class=\"h5 mt-1\">Sahajyoga meditation. Experience unconditional joy &amp;peace within.</h3></a>\\n\\t\\t\\t                       \\t<small class=\"mt-0 mb-1 lh-170 clearfix\">Mumbai - \\xe0\\xa4\\xae\\xe0\\xa5\\x81\\xe0\\xa4\\x82\\xe0\\xa4\\xac\\xe0\\xa4\\x88</small>\\n\\t\\t\\t                        <small class=\"d-block text-sm mt-2\">25 Dec 2022</small>\\n\\t\\t\\t                        <div class=\"bottom\">\\n\\t\\t\\t                     \\t\\t\\t\\t                     \\t</div>\\n\\t\\t\\t                     </div>\\n\\t\\t\\t                  </div>\\n\\t\\t\\t                </div>\\n\\t\\t\\t               \\n\\t\\t\\t               \\n\\t\\t\\t               \\t\\n\\t\\t\\t              \\t<div class=\"col-md-4 mb-3\">\\n\\t\\t\\t                  <div class=\"event-item card overflow-hidden h-100\">\\n\\t\\t\\t                     <div class=\"overflow-hidden banner-sec\">\\n\\t\\t\\t                     \\t\\t\\t\\t                     \\t\\t<a target=\"_blank\" href=\"https://hunthalloween.com/event/christmas-sail-on-a-yacht-in-mumbai-eid4a7bujsb0w\" title=\"Christmas Sail on a Yacht in Mumbai\" class=\"bg-light d-block lozard\" data-background-image=\"https://cdn.hunthalloween.com/events6/banners/bc3ba3cab08e0774cf5ef42f98609d4e0e483da15da2a185ceaf44dbe39f935d-rimg-w960-h503-gmir.jpg?v=1671340851\" style=\"background-size: cover; background-position: top center;\"></a>\\n\\t\\t\\t                     \\t\\t\\t\\t                     </div>\\n\\t\\t\\t                     <div class=\"card-body py-3\">\\n\\t\\t\\t                        <a target=\"_blank\" href=\"https://hunthalloween.com/event/christmas-sail-on-a-yacht-in-mumbai-eid4a7bujsb0w\" title=\"Christmas Sail on a Yacht in Mumbai\" class=\"stretched-link lh-150 t-darkred text-decoration-none\"><h3 class=\"h5 mt-1\">Christmas Sail on a Yacht in Mumbai</h3></a>\\n\\t\\t\\t                       \\t<small class=\"mt-0 mb-1 lh-170 clearfix\">Mumbai</small>\\n\\t\\t\\t                        <small class=\"d-block text-sm mt-2\">25 Dec 2022</small>\\n\\t\\t\\t                        <div class=\"bottom\">\\n\\t\\t\\t                     \\t<span class=\"badge bg-light light t-gray mt-3 text-dark\">INR 2,999 TO 3,999</span>\\t\\t\\t                     \\t</div>\\n\\t\\t\\t                     </div>\\n\\t\\t\\t                  </div>\\n\\t\\t\\t                </div>\\n\\t\\t\\t               \\n\\t\\t\\t               \\n\\t\\t\\t               \\t\\n\\t\\t\\t              \\t<div class=\"col-md-4 mb-3\">\\n\\t\\t\\t                  <div class=\"event-item card overflow-hidden h-100\">\\n\\t\\t\\t                     <div class=\"overflow-hidden banner-sec\">\\n\\t\\t\\t                     \\t\\t\\t\\t                     \\t\\t<a target=\"_blank\" href=\"https://hunthalloween.com/event/blessings-bled-chimanga-performing-live-eid4a7bu6847h\" title=\"BLESSINGS BLED CHIMANGA PERFORMING LIVE\" class=\"bg-light d-block lozard\" data-background-image=\"https://cdn.hunthalloween.com/events2/banners/f89a7e3e69d02c4767a45fef4c77821f0e3083c4489acdb11e8ca874891a39e4-rimg-w960-h502-gmir.jpg?v=1671431275\" style=\"background-size: cover; background-position: top center;\"></a>\\n\\t\\t\\t                     \\t\\t\\t\\t                     </div>\\n\\t\\t\\t                     <div class=\"card-body py-3\">\\n\\t\\t\\t                        <a target=\"_blank\" href=\"https://hunthalloween.com/event/blessings-bled-chimanga-performing-live-eid4a7bu6847h\" title=\"BLESSINGS BLED CHIMANGA PERFORMING LIVE\" class=\"stretched-link lh-150 t-darkred text-decoration-none\"><h3 class=\"h5 mt-1\">BLESSINGS BLED CHIMANGA PERFORMING LIVE</h3></a>\\n\\t\\t\\t                       \\t<small class=\"mt-0 mb-1 lh-170 clearfix\">The Finch Mumbai</small>\\n\\t\\t\\t                        <small class=\"d-block text-sm mt-2\">25 Dec 2022</small>\\n\\t\\t\\t                        <div class=\"bottom\">\\n\\t\\t\\t                     \\t\\t\\t\\t                     \\t</div>\\n\\t\\t\\t                     </div>\\n\\t\\t\\t                  </div>\\n\\t\\t\\t                </div>\\n\\t\\t\\t               \\n\\t\\t\\t               \\n\\t\\t\\t               \\t\\n\\t\\t\\t              \\t<div class=\"col-md-4 mb-3\">\\n\\t\\t\\t                  <div class=\"event-item card overflow-hidden h-100\">\\n\\t\\t\\t                     <div class=\"overflow-hidden banner-sec\">\\n\\t\\t\\t                     \\t\\t\\t\\t                     \\t\\t<a target=\"_blank\" href=\"https://hunthalloween.com/event/kidz-andamp-family-fest-eid1nt52obplo\" title=\"Kidz &amp;amp; Family Fest \" class=\"bg-light d-block lozard\" data-background-image=\"https://cdn-alt.hunthalloween.com/thumbs/thumb6396ecf1d6bc5.jpg\" style=\"background-size: cover; background-position: top center;\"></a>\\n\\t\\t\\t                     \\t\\t\\t\\t                     </div>\\n\\t\\t\\t                     <div class=\"card-body py-3\">\\n\\t\\t\\t                        <a target=\"_blank\" href=\"https://hunthalloween.com/event/kidz-andamp-family-fest-eid1nt52obplo\" title=\"Kidz &amp;amp; Family Fest \" class=\"stretched-link lh-150 t-darkred text-decoration-none\"><h3 class=\"h5 mt-1\">Kidz &amp; Family Fest </h3></a>\\n\\t\\t\\t                       \\t<small class=\"mt-0 mb-1 lh-170 clearfix\">World Trade Center, Cuffe Parade, Mumbai, Maharashtra</small>\\n\\t\\t\\t                        <small class=\"d-block text-sm mt-2\">14 Jan 2023</small>\\n\\t\\t\\t                        <div class=\"bottom\">\\n\\t\\t\\t                     \\t\\t\\t\\t                     \\t</div>\\n\\t\\t\\t                     </div>\\n\\t\\t\\t                  </div>\\n\\t\\t\\t                </div>\\n\\t\\t\\t               \\n\\t\\t\\t               \\n\\t\\t\\t               \\t\\t\\t        </div>\\n               </div>\\n\\n            </div>\\n\\n\\n               \\n               \\n            \\n            \\n         </div>\\n\\n        <script type=\"application/ld+json\">[{\"@context\":\"https:\\\\/\\\\/schema.org\",\"@type\":\"Event\",\"name\":\"Wed 21st Dec\\' Latin Twist Socials @AntiSocial Mumbai ? Christmas Edition ?\",\"image\":\"https:\\\\/\\\\/cdn.hunthalloween.com\\\\/events4\\\\/banners\\\\/63de6d461b200e602a0f310812cb4ff7973162c769dd6e4142c7c95dc4668535-rimg-w960-h960-gmir?v=1671362863\",\"startDate\":\"2022-12-21\",\"endDate\":\"2022-12-22\",\"url\":\"https:\\\\/\\\\/hunthalloween.com\\\\/event\\\\/wed-21st-dec-latin-twist-socials-antisocial-mumbai-christmas-edition-eid4a7btkc42j\",\"eventStatus\":\"https:\\\\/\\\\/schema.org\\\\/EventScheduled\",\"location\":{\"@type\":\"place\",\"name\":\"antiSOCIAL\",\"address\":{\"@type\":\"PostalAddress\",\"streetAddress\":\"Mathuradas Mill Compound, 242, Lower Parel\",\"addressLocality\":\"Mumbai\",\"addressRegion\":\"MH\",\"addressCountry\":\"IN\"},\"geo\":{\"@type\":\"GeoCoordinates\",\"latitude\":\"18.999205\",\"longitude\":\"72.830063\"}},\"eventAttendanceMode\":\"https:\\\\/\\\\/schema.org\\\\/OfflineEventAttendanceMode\",\"offers\":[],\"organizer\":[{\"@type\":\"Organization\",\"name\":\"Mary Lobo Latin Twist\"}]},{\"@context\":\"https:\\\\/\\\\/schema.org\",\"@type\":\"Event\",\"name\":\"Santa\\'s Christmas Workshop for kids (1yr - 3 yrs)\",\"image\":\"https:\\\\/\\\\/cdn-alt.hunthalloween.com\\\\/thumbs\\\\/thumb6380f4adbf07c.jpg\",\"startDate\":\"2022-12-22\",\"endDate\":\"2022-12-22\",\"url\":\"https:\\\\/\\\\/hunthalloween.com\\\\/event\\\\/santas-christmas-workshop-for-kids-1yr-3-yrs-eid1nt5u59tee\",\"eventStatus\":\"https:\\\\/\\\\/schema.org\\\\/EventScheduled\",\"location\":{\"@type\":\"place\",\"name\":\"Little Amigos Montessori, Model JP Road, Seven Bunglow, Andheri West, Mumbai, Maharashtra, India\",\"address\":{\"@type\":\"PostalAddress\",\"name\":\"Little Amigos Montessori, Model JP Road, Seven Bunglow, Andheri West, Mumbai, Maharashtra, India\",\"addressLocality\":\"Mumbai\",\"addressRegion\":\"MH\",\"addressCountry\":\"IN\"},\"geo\":{\"@type\":\"GeoCoordinates\",\"latitude\":\"19.075983\",\"longitude\":\"72.877655\"}},\"eventAttendanceMode\":\"https:\\\\/\\\\/schema.org\\\\/OfflineEventAttendanceMode\",\"offers\":[{\"@type\":\"AggregateOffer\",\"lowPrice\":\"0\",\"highPrice\":\"0\",\"url\":\"https:\\\\/\\\\/hunthalloween.com\\\\/event\\\\/santas-christmas-workshop-for-kids-1yr-3-yrs-eid1nt5u59tee\"}],\"organizer\":[{\"@type\":\"Organization\",\"name\":\"Little Amigos Montessori LLP\"}]},{\"@context\":\"https:\\\\/\\\\/schema.org\",\"@type\":\"Event\",\"name\":\"Christmas Party\",\"image\":\"https:\\\\/\\\\/cdn.hunthalloween.com\\\\/events6\\\\/banners\\\\/7f005c8a1f731fbd5b60826499edd9176fa3374f425fe05e3011bb3dbf2c55f9-rimg-w640-h328-gmir.jpg?v=1671337134\",\"startDate\":\"2022-12-22\",\"url\":\"https:\\\\/\\\\/hunthalloween.com\\\\/event\\\\/christmas-party-eid4a7bv3fa5w\",\"eventStatus\":\"https:\\\\/\\\\/schema.org\\\\/EventScheduled\",\"location\":{\"@type\":\"place\",\"name\":\"Club Aquaria\",\"address\":{\"@type\":\"PostalAddress\",\"streetAddress\":\",Mumbai, India\",\"addressLocality\":\"Mumbai\",\"addressRegion\":\"MH\",\"addressCountry\":\"IN\"},\"geo\":{\"@type\":\"GeoCoordinates\",\"latitude\":\"19.240173\",\"longitude\":\"72.848083\"}},\"eventAttendanceMode\":\"https:\\\\/\\\\/schema.org\\\\/OfflineEventAttendanceMode\",\"offers\":[],\"organizer\":[{\"@type\":\"Organization\",\"name\":\"Club Aquaria\"}]},{\"@context\":\"https:\\\\/\\\\/schema.org\",\"@type\":\"Event\",\"name\":\"Christmas &amp; New Year Utsav 2022\",\"image\":\"https:\\\\/\\\\/cdn-alt.hunthalloween.com\\\\/thumbs\\\\/thumb6378deb5b48b4.jpg\",\"startDate\":\"2022-12-23\",\"endDate\":\"2022-12-25\",\"url\":\"https:\\\\/\\\\/hunthalloween.com\\\\/event\\\\/christmas-andamp-new-year-utsav-2022-eid1nt91kilat\",\"eventStatus\":\"https:\\\\/\\\\/schema.org\\\\/EventScheduled\",\"location\":{\"@type\":\"place\",\"name\":\"Scout Pavilion Hall \",\"address\":{\"@type\":\"PostalAddress\",\"streetAddress\":\"Scout Pavilion Hall, Shivaji Park, Dadar, Mumbai\",\"addressLocality\":\"Mumbai\",\"addressRegion\":\"MH\",\"addressCountry\":\"IN\"},\"geo\":{\"@type\":\"GeoCoordinates\",\"latitude\":\"19.075983\",\"longitude\":\"72.877655\"}},\"eventAttendanceMode\":\"https:\\\\/\\\\/schema.org\\\\/OfflineEventAttendanceMode\",\"offers\":[{\"@type\":\"AggregateOffer\",\"lowPrice\":\"0\",\"highPrice\":\"0\",\"url\":\"https:\\\\/\\\\/hunthalloween.com\\\\/event\\\\/christmas-andamp-new-year-utsav-2022-eid1nt91kilat\"}],\"organizer\":[{\"@type\":\"Organization\",\"name\":\"wooffytoons events\"}]},{\"@context\":\"https:\\\\/\\\\/schema.org\",\"@type\":\"Event\",\"name\":\"christmas party\",\"image\":\"https:\\\\/\\\\/cdn.hunthalloween.com\\\\/events6\\\\/banners\\\\/ed950f3cbad1eff8f88a90d83ce2dc9a1263f8823fc895ce11522f54ce75f30e-rimg-w960-h540-gmir.jpg?v=1671293393\",\"startDate\":\"2022-12-23\",\"url\":\"https:\\\\/\\\\/hunthalloween.com\\\\/event\\\\/christmas-party-eid4a7bubremj\",\"eventStatus\":\"https:\\\\/\\\\/schema.org\\\\/EventScheduled\",\"location\":{\"@type\":\"place\",\"name\":\"Vashi\",\"address\":{\"@type\":\"PostalAddress\",\"streetAddress\":\",Navi Mumbai, India\",\"addressLocality\":\"Mumbai\",\"addressRegion\":\"MH\",\"addressCountry\":\"IN\"},\"geo\":{\"@type\":\"GeoCoordinates\",\"latitude\":\"19.062504\",\"longitude\":\"73.005234\"}},\"eventAttendanceMode\":\"https:\\\\/\\\\/schema.org\\\\/OfflineEventAttendanceMode\",\"offers\":[],\"organizer\":[{\"@type\":\"Organization\",\"name\":\"Priya jetking1\"}]},{\"@context\":\"https:\\\\/\\\\/schema.org\",\"@type\":\"Event\",\"name\":\"The Craft of Mixology Making &amp; Mastering A Fine Cocktail by Trove Experiences\",\"image\":\"https:\\\\/\\\\/cdn-alt.hunthalloween.com\\\\/thumbs\\\\/thumb63a01f4ba5c88.jpg\",\"startDate\":\"2022-12-23\",\"endDate\":\"2022-12-23\",\"url\":\"https:\\\\/\\\\/hunthalloween.com\\\\/event\\\\/the-craft-of-mixology-making-andamp-mastering-a-fine-cocktail-by-trove-experiences-eid1nt69gch3g\",\"eventStatus\":\"https:\\\\/\\\\/schema.org\\\\/EventScheduled\",\"location\":{\"@type\":\"place\",\"name\":\"Mansionz Mumbai, Senapati Bapat Marg, Lower Parel, Mumbai, Maharashtra, India\",\"address\":{\"@type\":\"PostalAddress\",\"name\":\"Mansionz Mumbai, Senapati Bapat Marg, Lower Parel, Mumbai, Maharashtra, India\",\"addressLocality\":\"Mumbai\",\"addressRegion\":\"MH\",\"addressCountry\":\"IN\"},\"geo\":{\"@type\":\"GeoCoordinates\",\"latitude\":\"19.075983\",\"longitude\":\"72.877655\"}},\"eventAttendanceMode\":\"https:\\\\/\\\\/schema.org\\\\/OfflineEventAttendanceMode\",\"offers\":[],\"organizer\":[{\"@type\":\"Organization\",\"name\":\"Trove Experiences \"}]},{\"@context\":\"https:\\\\/\\\\/schema.org\",\"@type\":\"Event\",\"name\":\"Christmas eve special camp\",\"image\":\"https:\\\\/\\\\/cdn-alt.hunthalloween.com\\\\/thumbs\\\\/thumb639ed082ee020.jpg\",\"startDate\":\"2022-12-24\",\"endDate\":\"2022-12-25\",\"url\":\"https:\\\\/\\\\/hunthalloween.com\\\\/event\\\\/christmas-eve-special-camp-eid1nt8jp7wi3\",\"eventStatus\":\"https:\\\\/\\\\/schema.org\\\\/EventScheduled\",\"location\":{\"@type\":\"place\",\"name\":\"Vaitarna Dam, Maharashtra, India\",\"address\":{\"@type\":\"PostalAddress\",\"name\":\"Vaitarna Dam, Maharashtra, India, Mumbai, India\",\"addressLocality\":\"Mumbai\",\"addressRegion\":\"MH\",\"addressCountry\":\"IN\"},\"geo\":{\"@type\":\"GeoCoordinates\",\"latitude\":\"19.075983\",\"longitude\":\"72.877655\"}},\"eventAttendanceMode\":\"https:\\\\/\\\\/schema.org\\\\/OfflineEventAttendanceMode\",\"offers\":[{\"@type\":\"AggregateOffer\",\"lowPrice\":\"1899\",\"highPrice\":\"1899\",\"url\":\"https:\\\\/\\\\/hunthalloween.com\\\\/event\\\\/christmas-eve-special-camp-eid1nt8jp7wi3\"}],\"organizer\":[{\"@type\":\"Organization\",\"name\":\"Swashbucklers\"}]},{\"@context\":\"https:\\\\/\\\\/schema.org\",\"@type\":\"Event\",\"name\":\"Christmas Carnival - The Fun Fiesta\",\"image\":\"https:\\\\/\\\\/cdn.hunthalloween.com\\\\/events1\\\\/banners\\\\/2c96c30f90240423a65b0a2cf095bcdf5c091fe0f3f480dbd7a333474ea3c2dd-rimg-w960-h540-gmir.jpg?v=1671430179\",\"startDate\":\"2022-12-24\",\"endDate\":\"2022-12-25\",\"url\":\"https:\\\\/\\\\/hunthalloween.com\\\\/event\\\\/christmas-carnival-the-fun-fiesta-eid4a7bsi8qih\",\"eventStatus\":\"https:\\\\/\\\\/schema.org\\\\/EventScheduled\",\"location\":{\"@type\":\"place\",\"name\":\"Mulund High School\",\"address\":{\"@type\":\"PostalAddress\",\"streetAddress\":\"Chandan Baug Lane, Mulund West,Mumbai, India\",\"addressLocality\":\"Mumbai\",\"addressRegion\":\"MH\",\"addressCountry\":\"IN\"},\"geo\":{\"@type\":\"GeoCoordinates\",\"latitude\":\"19.176706\",\"longitude\":\"72.950043\"}},\"eventAttendanceMode\":\"https:\\\\/\\\\/schema.org\\\\/OfflineEventAttendanceMode\",\"offers\":[],\"organizer\":[{\"@type\":\"Organization\",\"name\":\"TheFun Fiesta\"}]},{\"@context\":\"https:\\\\/\\\\/schema.org\",\"@type\":\"Event\",\"name\":\"Christmas Mela\",\"image\":\"https:\\\\/\\\\/cdn.hunthalloween.com\\\\/events9\\\\/banners\\\\/5ec6aa0298ab825d3527b3d705a96da9e4d43f1f53d005319937ff3c3a6224ae-rimg-w540-h960-gmir.jpg?v=1671363845\",\"startDate\":\"2022-12-24\",\"endDate\":\"2022-12-24\",\"url\":\"https:\\\\/\\\\/hunthalloween.com\\\\/event\\\\/christmas-mela-eid4a7bujsa3b\",\"eventStatus\":\"https:\\\\/\\\\/schema.org\\\\/EventScheduled\",\"location\":{\"@type\":\"place\",\"name\":\"Chembur - \\\\u091a\\\\u0947\\\\u0902\\\\u092c\\\\u0942\\\\u0930\",\"address\":{\"@type\":\"PostalAddress\",\"streetAddress\":\"Chembur is a suburb in eastern Mumbai, India. It is 15 km from downtown Mumbai and 10 km from Chhatrapati Shivaji International Airport,Mumbai, India\",\"addressLocality\":\"Mumbai\",\"addressRegion\":\"MH\",\"addressCountry\":\"IN\"},\"geo\":{\"@type\":\"GeoCoordinates\",\"latitude\":\"19.188580\",\"longitude\":\"72.853630\"}},\"eventAttendanceMode\":\"https:\\\\/\\\\/schema.org\\\\/OfflineEventAttendanceMode\",\"offers\":[],\"organizer\":[{\"@type\":\"Organization\",\"name\":\"Ranu Thapar\"}]},{\"@context\":\"https:\\\\/\\\\/schema.org\",\"@type\":\"Event\",\"name\":\"CHRISTMAS PARTY AT KNOTTY YARD\",\"image\":\"https:\\\\/\\\\/cdn.hunthalloween.com\\\\/events10\\\\/banners\\\\/cf5c2acdbfeb304bb9668fb5d8fbd2ceac735b1e8347bcf2041fd45099e94d7a-rimg-w960-h540-gmir?v=1671326518\",\"startDate\":\"2022-12-24\",\"endDate\":\"2022-12-25\",\"url\":\"https:\\\\/\\\\/hunthalloween.com\\\\/event\\\\/christmas-party-at-knotty-yard-eid4a7bslgv1a\",\"eventStatus\":\"https:\\\\/\\\\/schema.org\\\\/EventScheduled\",\"location\":{\"@type\":\"place\",\"name\":\"Knotty Yard\",\"address\":{\"@type\":\"PostalAddress\",\"streetAddress\":\"KNOTTY YARD, 1st floor, opposite Powai Hiranandani Bus depot, Besides Jal Vayu Vihar, above China Valley. Powai,Mumbai, India\",\"addressLocality\":\"Mumbai\",\"addressRegion\":\"MH\",\"addressCountry\":\"IN\"},\"geo\":{\"@type\":\"GeoCoordinates\",\"latitude\":\"19.118151\",\"longitude\":\"72.906448\"}},\"eventAttendanceMode\":\"https:\\\\/\\\\/schema.org\\\\/OfflineEventAttendanceMode\",\"offers\":[],\"organizer\":[{\"@type\":\"Organization\",\"name\":\"Knottyyard.Powai\"}]},{\"@context\":\"https:\\\\/\\\\/schema.org\",\"@type\":\"Event\",\"name\":\"CHRISTMAS PARTY AT FLAMIINGO\",\"image\":\"https:\\\\/\\\\/cdn.hunthalloween.com\\\\/events9\\\\/banners\\\\/1776b6316c0f476a8cd84e60a80f4fe4e4ec860c019b958881eef5526e153e1b-rimg-w960-h540-gmir.jpg?v=1671478414\",\"startDate\":\"2022-12-24\",\"endDate\":\"2022-12-25\",\"url\":\"https:\\\\/\\\\/hunthalloween.com\\\\/event\\\\/christmas-party-at-flamiingo-eid4a7bstpuon\",\"eventStatus\":\"https:\\\\/\\\\/schema.org\\\\/EventScheduled\",\"location\":{\"@type\":\"place\",\"name\":\"Flamiingo Lounge - Belapur\",\"address\":{\"@type\":\"PostalAddress\",\"streetAddress\":\"hilton centre , shop no 111, 112 , Plot no 66, Sector 11,  Cbd Belapur,Navi Mumbai, India\",\"addressLocality\":\"Mumbai\",\"addressRegion\":\"MH\",\"addressCountry\":\"IN\"},\"geo\":{\"@type\":\"GeoCoordinates\",\"latitude\":\"19.013754\",\"longitude\":\"73.037910\"}},\"eventAttendanceMode\":\"https:\\\\/\\\\/schema.org\\\\/OfflineEventAttendanceMode\",\"offers\":[],\"organizer\":[{\"@type\":\"Organization\",\"name\":\"Flamiingo Lounge - Belapur\"}]},{\"@context\":\"https:\\\\/\\\\/schema.org\",\"@type\":\"Event\",\"name\":\"CHRISTMAS CARNIVAL &amp; RAJASTHANI MELA\",\"image\":\"https:\\\\/\\\\/cdn-alt.hunthalloween.com\\\\/thumbs\\\\/thumb6397ff5c81c70.jpg\",\"startDate\":\"2022-12-25\",\"endDate\":\"2022-12-25\",\"url\":\"https:\\\\/\\\\/hunthalloween.com\\\\/event\\\\/christmas-carnival-andamp-rajasthani-mela-eid1nta76aofj\",\"eventStatus\":\"https:\\\\/\\\\/schema.org\\\\/EventScheduled\",\"location\":{\"@type\":\"place\",\"name\":\"Shri Sunderbai Hall\",\"address\":{\"@type\":\"PostalAddress\",\"streetAddress\":\"Shri Sunderbai Hall, Opp. Patkar Hall, Marine Lines, Mumbai 400020\",\"addressLocality\":\"Mumbai\",\"addressRegion\":\"MH\",\"addressCountry\":\"IN\"},\"geo\":{\"@type\":\"GeoCoordinates\",\"latitude\":\"19.075983\",\"longitude\":\"72.877655\"}},\"eventAttendanceMode\":\"https:\\\\/\\\\/schema.org\\\\/OfflineEventAttendanceMode\",\"offers\":[{\"@type\":\"AggregateOffer\",\"lowPrice\":\"0\",\"highPrice\":\"0\",\"url\":\"https:\\\\/\\\\/hunthalloween.com\\\\/event\\\\/christmas-carnival-andamp-rajasthani-mela-eid1nta76aofj\"}],\"organizer\":[{\"@type\":\"Organization\",\"name\":\"Krutarth Kadakia\"}]},{\"@context\":\"https:\\\\/\\\\/schema.org\",\"@type\":\"Event\",\"name\":\"Sahajyoga meditation. Experience unconditional joy &amp;peace within.\",\"image\":\"https:\\\\/\\\\/cdn.hunthalloween.com\\\\/events5\\\\/banners\\\\/c5b5f8b1d26aaaff8be6c109c6e241720c1cf1b41c0495672d9db1c832b29028-rimg-w635-h960-gmir.jpg?v=1671455955\",\"startDate\":\"2022-12-25\",\"endDate\":\"2022-12-25\",\"url\":\"https:\\\\/\\\\/hunthalloween.com\\\\/event\\\\/sahajyoga-meditation-experience-unconditional-joy-andamppeace-within-eid4a7bv6tmks\",\"eventStatus\":\"https:\\\\/\\\\/schema.org\\\\/EventScheduled\",\"location\":{\"@type\":\"place\",\"name\":\"Mumbai - \\\\u092e\\\\u0941\\\\u0902\\\\u092c\\\\u0908\",\"address\":{\"@type\":\"PostalAddress\",\"streetAddress\":\"Mumbai,Mumbai, India\",\"addressLocality\":\"Mumbai\",\"addressRegion\":\"MH\",\"addressCountry\":\"IN\"},\"geo\":{\"@type\":\"GeoCoordinates\",\"latitude\":\"18.952896\",\"longitude\":\"72.832344\"}},\"eventAttendanceMode\":\"https:\\\\/\\\\/schema.org\\\\/OfflineEventAttendanceMode\",\"offers\":[],\"organizer\":[{\"@type\":\"Organization\",\"name\":\"Radheshyam Dhanuka\"}]},{\"@context\":\"https:\\\\/\\\\/schema.org\",\"@type\":\"Event\",\"name\":\"Christmas Sail on a Yacht in Mumbai\",\"image\":\"https:\\\\/\\\\/cdn.hunthalloween.com\\\\/events6\\\\/banners\\\\/bc3ba3cab08e0774cf5ef42f98609d4e0e483da15da2a185ceaf44dbe39f935d-rimg-w960-h503-gmir.jpg?v=1671340851\",\"startDate\":\"2022-12-25\",\"endDate\":\"2022-12-25\",\"url\":\"https:\\\\/\\\\/hunthalloween.com\\\\/event\\\\/christmas-sail-on-a-yacht-in-mumbai-eid4a7bujsb0w\",\"eventStatus\":\"https:\\\\/\\\\/schema.org\\\\/EventScheduled\",\"location\":{\"@type\":\"place\",\"name\":\"Mumbai\",\"address\":{\"@type\":\"PostalAddress\",\"name\":\"Mumbai, India\",\"addressLocality\":\"Mumbai\",\"addressRegion\":\"MH\",\"addressCountry\":\"IN\"},\"geo\":{\"@type\":\"GeoCoordinates\",\"latitude\":\"18.931829\",\"longitude\":\"72.836128\"}},\"eventAttendanceMode\":\"https:\\\\/\\\\/schema.org\\\\/OfflineEventAttendanceMode\",\"offers\":[{\"@type\":\"AggregateOffer\",\"lowPrice\":\"2999\",\"highPrice\":\"3999\",\"url\":\"https:\\\\/\\\\/hunthalloween.com\\\\/event\\\\/christmas-sail-on-a-yacht-in-mumbai-eid4a7bujsb0w\"}],\"organizer\":[{\"@type\":\"Organization\",\"name\":\"Captain Jack India\"}]},{\"@context\":\"https:\\\\/\\\\/schema.org\",\"@type\":\"Event\",\"name\":\"BLESSINGS BLED CHIMANGA PERFORMING LIVE\",\"image\":\"https:\\\\/\\\\/cdn.hunthalloween.com\\\\/events2\\\\/banners\\\\/f89a7e3e69d02c4767a45fef4c77821f0e3083c4489acdb11e8ca874891a39e4-rimg-w960-h502-gmir.jpg?v=1671431275\",\"startDate\":\"2022-12-25\",\"url\":\"https:\\\\/\\\\/hunthalloween.com\\\\/event\\\\/blessings-bled-chimanga-performing-live-eid4a7bu6847h\",\"eventStatus\":\"https:\\\\/\\\\/schema.org\\\\/EventScheduled\",\"location\":{\"@type\":\"place\",\"name\":\"The Finch Mumbai\",\"address\":{\"@type\":\"PostalAddress\",\"streetAddress\":\"The Finch Shah Industrial Estate, Opposite to Huntsman Building, Saki Vihar Rd, next to John Baker, Andheri East, Mumbai, Maharashtra 400072,Mumbai, India\",\"addressLocality\":\"Mumbai\",\"addressRegion\":\"MH\",\"addressCountry\":\"IN\"},\"geo\":{\"@type\":\"GeoCoordinates\",\"latitude\":\"19.114929\",\"longitude\":\"72.888779\"}},\"eventAttendanceMode\":\"https:\\\\/\\\\/schema.org\\\\/OfflineEventAttendanceMode\",\"offers\":[],\"organizer\":[{\"@type\":\"Organization\",\"name\":\"The Finch Mumbai\"}]},{\"@context\":\"https:\\\\/\\\\/schema.org\",\"@type\":\"Event\",\"name\":\"Kidz &amp; Family Fest\",\"image\":\"https:\\\\/\\\\/cdn-alt.hunthalloween.com\\\\/thumbs\\\\/thumb6396ecf1d6bc5.jpg\",\"startDate\":\"2023-01-14\",\"endDate\":\"2023-01-15\",\"url\":\"https:\\\\/\\\\/hunthalloween.com\\\\/event\\\\/kidz-andamp-family-fest-eid1nt52obplo\",\"eventStatus\":\"https:\\\\/\\\\/schema.org\\\\/EventScheduled\",\"location\":{\"@type\":\"place\",\"name\":\"World Trade Center, Cuffe Parade, Mumbai, Maharashtra\",\"address\":{\"@type\":\"PostalAddress\",\"streetAddress\":\"Gate No 3, World Trade Center, Cuffe Parade, Mumbai 400005\",\"addressLocality\":\"Mumbai\",\"addressRegion\":\"MH\",\"addressCountry\":\"IN\"},\"geo\":{\"@type\":\"GeoCoordinates\",\"latitude\":\"19.075983\",\"longitude\":\"72.877655\"}},\"eventAttendanceMode\":\"https:\\\\/\\\\/schema.org\\\\/OfflineEventAttendanceMode\",\"offers\":[],\"organizer\":[{\"@type\":\"Organization\",\"name\":\"Affairs Events & Exhibitions\"}]}]</script>\\n  \\t\\n\\n\\t\\t\\t<div class=\"bg-primary-light mt-3\">\\n\\t     \\t<div class=\"row m-0\">\\n\\t\\t        <div class=\"container d-flex justify-content-center mt-4 mb-3 text-white\">\\n\\t\\t         \\t  <nav aria-label=\"breadcrumb\" style=\"--bs-breadcrumb-divider: url(&#34;data:image/svg+xml,%3Csvg xmlns=\\'http://www.w3.org/2000/svg\\' width=\\'8\\' height=\\'8\\'%3E%3Cpath d=\\'M2.5 0L1 1.5 3.5 4 1 6.5 2.5 8l4-4-4-4z\\' fill=\\'%236c757d\\'/%3E%3C/svg%3E&#34;);\">\\n    <ol class=\"breadcrumb breadcrumb-links\" itemscope itemtype=\"https://schema.org/BreadcrumbList\">\\n              <li class=\"breadcrumb-item \" itemprop=\"itemListElement\" itemscope itemtype=\"https://schema.org/ListItem\"><a href=\"https://hunthalloween.com\"  itemscope itemtype=\"https://schema.org/WebPage\" itemprop=\"item\" itemid=\"https://hunthalloween.com\" class=\"\"><span itemprop=\"name\">Home</span></a><meta itemprop=\"position\" content=\"1\" /></li>\\n              <li class=\"breadcrumb-item \" itemprop=\"itemListElement\" itemscope itemtype=\"https://schema.org/ListItem\"><a href=\"https://hunthalloween.com/mumbai\"  itemscope itemtype=\"https://schema.org/WebPage\" itemprop=\"item\" itemid=\"https://hunthalloween.com/mumbai\" class=\"\"><span itemprop=\"name\">Mumbai Events</span></a><meta itemprop=\"position\" content=\"2\" /></li>\\n      <li class=\"breadcrumb-item active \" aria-current=\"page\" itemprop=\"itemListElement\" itemscope itemtype=\"https://schema.org/ListItem\"><span itemprop=\"name\">Christmas in Mumbai</span><meta itemprop=\"position\" content=\"3\"  /></li>\\n          </ol>\\n  </nav> \\n\\t\\t        </div>\\n\\t\\t     </div>\\n\\t\\t </div> \\n        \\n      </section>\\n  \\t\\n  \\t\\n\\n\\n\\n   <footer class=\"position-relative bg-secondary\" id=footer-main>\\n   <div class=\"footer footer-dark b-gray\">\\n      <div class=\"container\">  \\n         <div class=\"row align-items-center justify-content-md-between pb-4 pt-4\">\\n            <div class=col-md-5>\\n               <div class=\"copyright text-sm font-weight-bold text-center text-md-left\">&copy; 2022 HuntHalloween.com</div>\\n            </div>\\n            <div class=col-md-7>\\n               <ul class=\"nav justify-content-center justify-content-md-end mt-3 mt-md-0\">\\n                  <li class=\"nav-item\"><a class=\" nav-link\" href=\"https://hunthalloween.com\" title=\"HuntHalloween Homepage\">Home</a></li>\\n                  <li class=\"nav-item\"><a class=\" nav-link\" href=\"https://hunthalloween.com/pages/contact\" title=\"Contact Us\">Contact</a></li>\\n                  <li class=\"nav-item\"><a class=\" nav-link\" href=\"https://hunthalloween.com/pages/privacy\" rel=\"nofollow\" title=\"Privacy Policy\">Privacy</a></li>\\n               </ul>\\n            </div>\\n         </div>\\n      </div>\\n\\n   </div>\\n</footer>\\n<link href=\"https://fonts.googleapis.com/css2?family=Montserrat:ital,wght@0,400;0,600;0,700;1,400;1,700&family=Shadows+Into+Light&display=swap\" rel=\"stylesheet\">\\n<link rel=\"stylesheet\" href=\"https://hunthalloween.com/assets/css/hhtheme.css?v=4\" media=\"print\" onload=\"this.media=\\'all\\'; this.onload=null;\">\\n\\n<!-- Global site tag (gtag.js) - Google Analytics -->\\n<script async src=\"https://www.googletagmanager.com/gtag/js?id=G-KH8C231NFW\"></script>\\n<script type=\"text/javascript\">/*! lozad.js - v1.16.0 */\\n!function(t,e){\"object\"==typeof exports&&\"undefined\"!=typeof module?module.exports=e():\"function\"==typeof define&&define.amd?define(e):t.lozad=e()}(this,function(){\"use strict\";\\nvar g=\"undefined\"!=typeof document&&document.documentMode,f={rootMargin:\"0px\",threshold:0,load:function(t){if(\"picture\"===t.nodeName.toLowerCase()){var e=t.querySelector(\"img\"),r=!1;null===e&&(e=document.createElement(\"img\"),r=!0),g&&t.getAttribute(\"data-iesrc\")&&(e.src=t.getAttribute(\"data-iesrc\")),t.getAttribute(\"data-alt\")&&(e.alt=t.getAttribute(\"data-alt\")),r&&t.append(e)}if(\"video\"===t.nodeName.toLowerCase()&&!t.getAttribute(\"data-src\")&&t.children){for(var a=t.children,o=void 0,i=0;i<=a.length-1;i++)(o=a[i].getAttribute(\"data-src\"))&&(a[i].src=o);t.load()}t.getAttribute(\"data-poster\")&&(t.poster=t.getAttribute(\"data-poster\")),t.getAttribute(\"data-src\")&&(t.src=t.getAttribute(\"data-src\")),t.getAttribute(\"data-srcset\")&&t.setAttribute(\"srcset\",t.getAttribute(\"data-srcset\"));var n=\",\";if(t.getAttribute(\"data-background-delimiter\")&&(n=t.getAttribute(\"data-background-delimiter\")),t.getAttribute(\"data-background-image\"))t.style.backgroundImage=\"url(\\'\"+t.getAttribute(\"data-background-image\").split(n).join(\"\\'),url(\\'\")+\"\\')\";else if(t.getAttribute(\"data-background-image-set\")){var d=t.getAttribute(\"data-background-image-set\").split(n),u=d[0].substr(0,d[0].indexOf(\" \"))||d[0];// Substring before ... 1x\\nu=-1===u.indexOf(\"url(\")?\"url(\"+u+\")\":u,1===d.length?t.style.backgroundImage=u:t.setAttribute(\"style\",(t.getAttribute(\"style\")||\"\")+\"background-image: \"+u+\"; background-image: -webkit-image-set(\"+d+\"); background-image: image-set(\"+d+\")\")}t.getAttribute(\"data-toggle-class\")&&t.classList.toggle(t.getAttribute(\"data-toggle-class\"))},loaded:function(){}};function A(t){t.setAttribute(\"data-loaded\",!0)}var m=function(t){return\"true\"===t.getAttribute(\"data-loaded\")},v=function(t){var e=1<arguments.length&&void 0!==arguments[1]?arguments[1]:document;return t instanceof Element?[t]:t instanceof NodeList?t:e.querySelectorAll(t)};return function(){var r,a,o=0<arguments.length&&void 0!==arguments[0]?arguments[0]:\".lozad\",t=1<arguments.length&&void 0!==arguments[1]?arguments[1]:{},e=Object.assign({},f,t),i=e.root,n=e.rootMargin,d=e.threshold,u=e.load,g=e.loaded,s=void 0;\"undefined\"!=typeof window&&window.IntersectionObserver&&(s=new IntersectionObserver((r=u,a=g,function(t,e){t.forEach(function(t){(0<t.intersectionRatio||t.isIntersecting)&&(e.unobserve(t.target),m(t.target)||(r(t.target),A(t.target),a(t.target)))})}),{root:i,rootMargin:n,threshold:d}));for(var c,l=v(o,i),b=0;b<l.length;b++)(c=l[b]).getAttribute(\"data-placeholder-background\")&&(c.style.background=c.getAttribute(\"data-placeholder-background\"));return{observe:function(){for(var t=v(o,i),e=0;e<t.length;e++)m(t[e])||(s?s.observe(t[e]):(u(t[e]),A(t[e]),g(t[e])))},triggerLoad:function(t){m(t)||(u(t),A(t),g(t))},observer:s}}});</script>\\n<script src=\"https://code.jquery.com/jquery-3.5.1.min.js\" integrity=\"sha256-9/aliU8dGd2tb6OSsuzixeV4y/faTqgFtohetphbbj0=\" crossorigin=\"anonymous\" defer></script>\\n<script src=\"https://stackpath.bootstrapcdn.com/bootstrap/5.0.0-alpha2/js/bootstrap.min.js\" integrity=\"sha384-5h4UG+6GOuV9qXh6HqOLwZMY4mnLPraeTrjT5v07o347pj6IkfuoASuGBhfDsp3d\" crossorigin=\"anonymous\" defer></script>\\n<script src=\"https://cdn.jsdelivr.net/npm/feather-icons/dist/feather.min.js\" defer></script>\\n<script>window.addEventListener(\\'DOMContentLoaded\\', function() {feather.replace();const lazy =lozad(\\'.lozard\\');lazy.observe();});</script>    </body>\\n</html>\\n'"
      ]
     },
     "execution_count": 6,
     "metadata": {},
     "output_type": "execute_result"
    }
   ],
   "source": [
    "content"
   ]
  },
  {
   "cell_type": "code",
   "execution_count": 7,
   "id": "b9237ff2",
   "metadata": {},
   "outputs": [],
   "source": [
    "soup=BeautifulSoup(content,'html.parser')"
   ]
  },
  {
   "cell_type": "code",
   "execution_count": 8,
   "id": "c01b602b",
   "metadata": {},
   "outputs": [
    {
     "data": {
      "text/plain": [
       "<bound method Tag.prettify of <!DOCTYPE html>\n",
       "\n",
       "<html lang=\"en\">\n",
       "<head>\n",
       "<meta charset=\"utf-8\"/>\n",
       "<meta content=\"width=device-width, initial-scale=1\" name=\"viewport\"/>\n",
       "<link href=\"https://hunthalloween.com/assets/img/apple-touch-icon.png\" rel=\"apple-touch-icon\" sizes=\"180x180\"/>\n",
       "<link href=\"https://hunthalloween.com/assets/img/favicon-32x32.png\" rel=\"icon\" sizes=\"32x32\" type=\"image/png\"/>\n",
       "<link href=\"https://hunthalloween.com/assets/img/favicon-16x16.png\" rel=\"icon\" sizes=\"16x16\" type=\"image/png\"/>\n",
       "<link href=\"https://hunthalloween.com/assets/img/site.webmanifest\" rel=\"manifest\"/>\n",
       "<link color=\"#5bbad5\" href=\"https://hunthalloween.com/assets/img/safari-pinned-tab.svg\" rel=\"mask-icon\"/>\n",
       "<link href=\"https://hunthalloween.com/assets/img/favicon.ico\" rel=\"shortcut icon\"/>\n",
       "<meta content=\"#ffffff\" name=\"msapplication-TileColor\"/>\n",
       "<meta content=\"https://hunthalloween.com/assets/img/browserconfig.xml\" name=\"msapplication-config\"/>\n",
       "<meta content=\"#ffffff\" name=\"theme-color\"/>\n",
       "<title>Best Christmas 2022 Events &amp; Parties Near Mumbai,MH</title><meta content=\"Discover Christmas in Mumbai, MH, India. Explore Christmas events nearby Mumbai\" name=\"description\"/><link href=\"https://hunthalloween.com/mumbai/christmas\" rel=\"canonical\"/> <!-- Bootstrap CSS -->\n",
       "<link as=\"style\" href=\"https://hunthalloween.com/assets/css/hhtheme.css?v=4\" rel=\"preload\"/>\n",
       "<link as=\"image\" href=\"https://hunthalloween.com/assets/img/HuntHalloween.svg\" rel=\"preload\"/>\n",
       "<link href=\"https://fonts.googleapis.com\" rel=\"preconnect\"/>\n",
       "<link crossorigin=\"\" href=\"https://fonts.gstatic.com\" rel=\"preconnect\"/>\n",
       "<script>\n",
       "  window.dataLayer = window.dataLayer || [];\n",
       "  function gtag(){dataLayer.push(arguments);}\n",
       "  gtag('js', new Date());\n",
       "\n",
       "  gtag('config', 'G-KH8C231NFW');\n",
       "</script>\n",
       "<link as=\"image\" href=\"https://cdn.hunthalloween.com/events4/banners/63de6d461b200e602a0f310812cb4ff7973162c769dd6e4142c7c95dc4668535-rimg-w960-h960-gmir?v=1671362863\" rel=\"preload\"/><style type=\"text/css\">\n",
       "\n",
       "/*  .bg-light-2{background: #FCF7F8;}\n",
       "  h1,h2,h3,h4,h5,h6{color: #FE7D17;font-family: 'Shadows Into Light Two';}\n",
       "  .bg-theme{}\n",
       "  .text-theme{color: #FE7D17;}\n",
       "  a,body a,.nav-links {color: #409c9b;}\n",
       "  a:hover,body a:hover,.nav-links: hover{color: #0d605f;}\n",
       "  body{color: #22282F;}*/\n",
       "\n",
       "</style> <style type=\"text/css\">.list-group-item-action{width: 100%;color: #495057;text-align: inherit}.list-group-item{position: relative;display: block;padding: .5rem 1rem;color: #212529;background-color: #fff;border: 1px solid rgba(0,0,0,0.125)}.list-group-item:first-child{border-top-left-radius: inherit;border-top-right-radius: inherit}.list-group-item:last-child{border-bottom-right-radius: inherit;border-bottom-left-radius: inherit}.clearfix::after{display: block;clear: both;content: \"\"}.stretched-link::after{position: absolute;top: 0;right: 0;bottom: 0;left: 0;z-index: 1;content: \"\"}.overflow-hidden{overflow: hidden!important}.d-block{display: block!important}.d-flex{display: flex!important}.d-none{display: none!important}.position-relative{position: relative!important}.h-100{height: 100%!important}.justify-content-center{justify-content: center!important}.justify-content-between{justify-content: space-between!important}.align-items-center{align-items: center!important}.m-0{margin: 0!important}.mx-auto{margin-right: auto!important;margin-left: auto!important}.mt-0{margin-top: 0!important}.mt-1{margin-top: .25rem!important}.mt-2{margin-top: .5rem!important}.mt-3{margin-top: 1rem!important}.mt-4{margin-top: 1.5rem!important}.mb-1{margin-bottom: .25rem!important}.mb-2{margin-bottom: .5rem!important}.mb-3{margin-bottom: 1rem!important}.mb-4{margin-bottom: 1.5rem!important}.mb-5{margin-bottom: 3rem!important}.p-2{padding: .5rem!important}.p-3{padding: 1rem!important}.px-4{padding-right: 1.5rem!important;padding-left: 1.5rem!important}.py-3{padding-top: 1rem!important;padding-bottom: 1rem!important}.pt-4{padding-top: 1.5rem!important}.pt-5{padding-top: 3rem!important}.pb-4{padding-bottom: 1.5rem!important}.text-center{text-align: center!important}.text-decoration-none{text-decoration: none!important}.text-primary{color: #fe7d17!important}.text-dark{color: #212529!important}.text-white{color: #fff!important}.bg-primary{background-color: #fe7d17!important}.bg-secondary{background-color: #7bc8c7!important}.bg-light{background-color: #f8f9fa!important}.bg-white{background-color: #fff!important}@media (min-width:768px){.justify-content-md-end{justify-content: flex-end!important}.justify-content-md-center{justify-content: center!important}.justify-content-md-between{justify-content: space-between!important}.mt-md-0{margin-top: 0!important}.p-md-5{padding: 3rem!important}}@media (min-width:992px){.d-lg-block{display: block!important}.d-lg-none{display: none!important}}@charset \"UTF-8\";button::-moz-focus-inner{border: 0}button{outline: 0}button{padding: 0}ul,ol{list-style: none;padding: 0;margin: 0}ul li,ol li{display: block}.bg-primary,.bg-secondary,.bg-primary h1{color: #fff}*+h2{margin-top: 20px}*+.row{margin-top: 30px}.text-primary{color: #fe7d17!important}.bg-primary{background-color: #fe7d17}.bg-secondary{background-color: #7bc8c7}.bg-primary-light{background-color: rgba(254,234,199,0.3)}body{font-family: \"Montserrat\",-apple-system,BlinkMacSystemFont,\"Segoe UI\",Roboto,\"Helvetica Neue\",Arial,sans-serif;font-size: 18px;line-height: 1.62222;font-weight: 400;color: #22282f;background-color: #fff;-webkit-text-size-adjust: none;-webkit-font-smoothing: subpixel-antialiased}h1,h2,h3,.h5{margin-bottom: 0}h1{font-size: 3rem;line-height: 1;color: #fe7d17}@media (min-width:768px){h1{font-size: 3rem}}@media (min-width:1200px){h1{font-size: 3.5rem}}h2{font-size: 2.8rem;line-height: 1;color: #fe7d17}@media (min-width:768px){h2{font-size: 2.5rem}}@media (min-width:1200px){h2{font-size: 2.8rem}}h3{font-family: \"Montserrat\",-apple-system,BlinkMacSystemFont,\"Segoe UI\",Roboto,\"Helvetica Neue\",Arial,sans-serif;font-size: 30px;font-weight: 600;line-height: 1.3}.h5{font-family: \"Montserrat\",-apple-system,BlinkMacSystemFont,\"Segoe UI\",Roboto,\"Helvetica Neue\",Arial,sans-serif;font-size: 20px;font-weight: 600;line-height: 1.3}small{display: block;font-size: 16px;line-height: 1.5625}a{text-decoration: none}a{color: #fe7d17}img{display: inline-block;max-width: 100%;height: auto}:root{--bs-blue: #0d6efd;--bs-indigo: #6610f2;--bs-purple: #6f42c1;--bs-pink: #d63384;--bs-red: #dc3545;--bs-orange: #fd7e14;--bs-yellow: #ffc107;--bs-green: #198754;--bs-teal: #20c997;--bs-cyan: #0dcaf0;--bs-white: #fff;--bs-gray: #6c757d;--bs-gray-dark: #343a40;--bs-primary: #fe7d17;--bs-secondary: #7bc8c7;--bs-success: #198754;--bs-info: #0dcaf0;--bs-warning: #ffc107;--bs-danger: #dc3545;--bs-light: #f8f9fa;--bs-dark: #212529;--bs-font-sans-serif: \"Montserrat\",-apple-system,BlinkMacSystemFont,\"Segoe UI\",Roboto,\"Helvetica Neue\",Arial,sans-serif;--bs-font-monospace: \"Menlo\",Monaco,Consolas,\"Liberation Mono\",\"Courier New\",monospace;--bs-gradient: linear-gradient(180deg,rgba(255,255,255,0.15),rgba(255,255,255,0))}*,*::before,*::after{box-sizing: border-box}body{margin: 0;font-family: \"Montserrat\",-apple-system,BlinkMacSystemFont,\"Segoe UI\",Roboto,\"Helvetica Neue\",Arial,sans-serif;font-size: 1rem;font-weight: 400;line-height: 1.62222;color: #22282f;background-color: #fff;-webkit-text-size-adjust: 100%}h1,h2,h3,.h5{margin-top: 0;margin-bottom: .5rem;font-family: \"Shadows Into Light\",-apple-system,BlinkMacSystemFont,\"Segoe UI\",Roboto,\"Helvetica Neue\",Arial,sans-serif;font-weight: 400;line-height: 1.1;color: #151515}h1{font-size: calc(2rem+9vw)}@media (min-width:1200px){h1{font-size: 3.5rem}}h2{font-size: calc(1.5625rem+3.75vw)}@media (min-width:1200px){h2{font-size: 3rem}}h3{font-size: calc(1.3125rem+0.75vw)}@media (min-width:1200px){h3{font-size: 1.875rem}}.h5{font-size: 1.25rem}ol,ul{padding-left: 2rem}ol,ul{margin-top: 0;margin-bottom: 1rem}small{font-size: .875em}a{color: #fe7d17;text-decoration: none}img,svg{vertical-align: middle}button{border-radius: 0}button{margin: 0;font-family: inherit;font-size: inherit;line-height: inherit}button{text-transform: none}button,[type=\"button\"]{-webkit-appearance: button}::-moz-focus-inner{padding: 0;border-style: none}::-webkit-datetime-edit-fields-wrapper,::-webkit-datetime-edit-text,::-webkit-datetime-edit-minute,::-webkit-datetime-edit-hour-field,::-webkit-datetime-edit-day-field,::-webkit-datetime-edit-month-field,::-webkit-datetime-edit-year-field{padding: 0}::-webkit-inner-spin-button{height: auto}::-webkit-search-decoration{-webkit-appearance: none}::-webkit-color-swatch-wrapper{padding: 0}::file-selector-button{font: inherit}::-webkit-file-upload-button{font: inherit;-webkit-appearance: button}iframe{border: 0}.container{width: 100%;padding-right: var(--bs-gutter-x,15px);padding-left: var(--bs-gutter-x,15px);margin-right: auto;margin-left: auto}@media (min-width:576px){.container{max-width: 540px}}@media (min-width:768px){.container{max-width: 720px}}@media (min-width:992px){.container{max-width: 960px}}@media (min-width:1200px){.container{max-width: 1200px}}.row{--bs-gutter-x: 30px;--bs-gutter-y: 0;display: flex;flex-wrap: wrap;margin-top: calc(var(--bs-gutter-y) * -1);margin-right: calc(var(--bs-gutter-x) / -2);margin-left: calc(var(--bs-gutter-x) / -2)}.row>*{flex-shrink: 0;width: 100%;max-width: 100%;padding-right: calc(var(--bs-gutter-x) / 2);padding-left: calc(var(--bs-gutter-x) / 2);margin-top: var(--bs-gutter-y)}@media (min-width:768px){.col-md-4{flex: 0 0 auto;width: 33.33333%}.col-md-5{flex: 0 0 auto;width: 41.66667%}.col-md-7{flex: 0 0 auto;width: 58.33333%}.col-md-11{flex: 0 0 auto;width: 91.66667%}}.nav{display: flex;flex-wrap: wrap;padding-left: 0;margin-bottom: 0;list-style: none}.nav-link{display: block;padding: .5rem 1rem;color: #0d6efd}@media (prefers-reduced-motion:reduce){}.navbar{position: relative;display: flex;flex-wrap: wrap;align-items: center;justify-content: space-between;padding-top: .5rem;padding-bottom: .5rem}.navbar-brand{padding-top: .3125rem;padding-bottom: .3125rem;margin-right: 1rem;font-size: 1.25rem;white-space: nowrap}.navbar-nav{display: flex;flex-direction: column;padding-left: 0;margin-bottom: 0;list-style: none}.navbar-nav .nav-link{padding-right: 0;padding-left: 0}.navbar-collapse{flex-basis: 100%;flex-grow: 1;align-items: center}.navbar-toggler{padding: .25rem .75rem;font-size: 1.25rem;line-height: 1;background-color: transparent;border: 1px solid transparent;border-radius: .25rem}@media (prefers-reduced-motion:reduce){}.navbar-toggler-icon{display: inline-block;width: 1.5em;height: 1.5em;vertical-align: middle;background-repeat: no-repeat;background-position: center;background-size: 100%}@media (min-width:992px){.navbar-expand-lg{flex-wrap: nowrap;justify-content: flex-start}.navbar-expand-lg .navbar-nav{flex-direction: row}.navbar-expand-lg .navbar-nav .nav-link{padding-right: .5rem;padding-left: .5rem}.navbar-expand-lg .navbar-collapse{display: flex!important;flex-basis: auto}.navbar-expand-lg .navbar-toggler{display: none}}.navbar-light .navbar-brand{color: rgba(0,0,0,0.9)}.navbar-light .navbar-nav .nav-link{color: rgba(0,0,0,0.55)}.navbar-light .navbar-toggler{color: rgba(0,0,0,0.55);border-color: rgba(0,0,0,0.1)}.navbar-light .navbar-toggler-icon{background-image: url(\"data:image/svg+xml,%3csvg xmlns='http://www.w3.org/2000/svg' viewBox='0 0 30 30'%3e%3cpath stroke='rgba%280,0,0,0.55%29' stroke-linecap='round' stroke-miterlimit='10' stroke-width='2' d='M4 7h22M4 15h22M4 23h22'/%3e%3c/svg%3e\")}.card{position: relative;display: flex;flex-direction: column;min-width: 0;word-wrap: break-word;background-color: #fff;background-clip: border-box;border: 1px solid rgba(0,0,0,0.125);border-radius: .25rem}.card-body{flex: 1 1 auto;padding: 1rem 1rem}.breadcrumb{display: flex;flex-wrap: wrap;padding: 0;margin-bottom: 1rem;list-style: none}.breadcrumb-item+.breadcrumb-item{padding-left: .5rem}.breadcrumb-item+.breadcrumb-item::before{float: left;padding-right: .5rem;color: #6c757d;content: var(--bs-breadcrumb-divider,\"/\")}.breadcrumb-item.active{color: #6c757d}.badge{display: inline-block;padding: .35em .65em;font-size: .75em;font-weight: 700;line-height: 1;color: #fff;text-align: center;white-space: nowrap;vertical-align: baseline;border-radius: .25rem}.list-group-item-action{width: 100%;color: #495057;text-align: inherit}.list-group-item{position: relative;display: block;padding: .5rem 1rem;color: #212529;background-color: #fff;border: 1px solid rgba(0,0,0,0.125)}.list-group-item:first-child{border-top-left-radius: inherit;border-top-right-radius: inherit}.list-group-item:last-child{border-bottom-right-radius: inherit;border-bottom-left-radius: inherit}.clearfix::after{display: block;clear: both;content: \"\"}.stretched-link::after{position: absolute;top: 0;right: 0;bottom: 0;left: 0;z-index: 1;content: \"\"}.overflow-hidden{overflow: hidden!important}.d-block{display: block!important}.d-flex{display: flex!important}.d-none{display: none!important}.position-relative{position: relative!important}.h-100{height: 100%!important}.justify-content-center{justify-content: center!important}.justify-content-between{justify-content: space-between!important}.align-items-center{align-items: center!important}.m-0{margin: 0!important}.mx-auto{margin-right: auto!important;margin-left: auto!important}.mt-0{margin-top: 0!important}.mt-1{margin-top: .25rem!important}.mt-2{margin-top: .5rem!important}.mt-3{margin-top: 1rem!important}.mt-4{margin-top: 1.5rem!important}.mb-1{margin-bottom: .25rem!important}.mb-2{margin-bottom: .5rem!important}.mb-3{margin-bottom: 1rem!important}.mb-4{margin-bottom: 1.5rem!important}.mb-5{margin-bottom: 3rem!important}.p-2{padding: .5rem!important}.p-3{padding: 1rem!important}.px-4{padding-right: 1.5rem!important;padding-left: 1.5rem!important}.py-3{padding-top: 1rem!important;padding-bottom: 1rem!important}.pt-4{padding-top: 1.5rem!important}.pt-5{padding-top: 3rem!important}.pb-4{padding-bottom: 1.5rem!important}.text-center{text-align: center!important}.text-decoration-none{text-decoration: none!important}.text-primary{color: #fe7d17!important}.text-dark{color: #212529!important}.text-white{color: #fff!important}.bg-primary{background-color: #fe7d17!important}.bg-secondary{background-color: #7bc8c7!important}.bg-light{background-color: #f8f9fa!important}.bg-white{background-color: #fff!important}@media (min-width:768px){.justify-content-md-end{justify-content: flex-end!important}.justify-content-md-center{justify-content: center!important}.justify-content-md-between{justify-content: space-between!important}.mt-md-0{margin-top: 0!important}.p-md-5{padding: 3rem!important}}@media (min-width:992px){.d-lg-block{display: block!important}.d-lg-none{display: none!important}}@charset \"UTF-8\";button::-moz-focus-inner{border: 0}button{outline: 0}button{padding: 0}ul,ol{list-style: none;padding: 0;margin: 0}ul li,ol li{display: block}.bg-primary,.bg-secondary,.bg-primary h1{color: #fff}*+h2{margin-top: 20px}*+.row{margin-top: 30px}.text-primary{color: #fe7d17!important}.bg-primary{background-color: #fe7d17}.bg-secondary{background-color: #7bc8c7}.bg-primary-light{background-color: rgba(254,234,199,0.3)}body{font-family: \"Montserrat\",-apple-system,BlinkMacSystemFont,\"Segoe UI\",Roboto,\"Helvetica Neue\",Arial,sans-serif;font-size: 18px;line-height: 1.62222;font-weight: 400;color: #22282f;background-color: #fff;-webkit-text-size-adjust: none;-webkit-font-smoothing: subpixel-antialiased}h1,h2,h3,.h5{margin-bottom: 0}h1{font-size: 3rem;line-height: 1;color: #fe7d17}@media (min-width:768px){h1{font-size: 3rem}}@media (min-width:1200px){h1{font-size: 3.5rem}}h2{font-size: 2.8rem;line-height: 1;color: #fe7d17}@media (min-width:768px){h2{font-size: 2.5rem}}@media (min-width:1200px){h2{font-size: 2.8rem}}h3{font-family: \"Montserrat\",-apple-system,BlinkMacSystemFont,\"Segoe UI\",Roboto,\"Helvetica Neue\",Arial,sans-serif;font-size: 30px;font-weight: 600;line-height: 1.3}.h5{font-family: \"Montserrat\",-apple-system,BlinkMacSystemFont,\"Segoe UI\",Roboto,\"Helvetica Neue\",Arial,sans-serif;font-size: 20px;font-weight: 600;line-height: 1.3}small{display: block;font-size: 16px;line-height: 1.5625}a{text-decoration: none}a{color: #fe7d17}img{display: inline-block;max-width: 100%;height: auto}</style>\n",
       "<style type=\"text/css\">.ads-block-1{height: 280px;}@media only screen and (max-width: 480px) and (min-width: 360px){.ads-block-1{height: 83.3333vw;}}</style>\n",
       "</head>\n",
       "<body class=\"bg-light-2\">\n",
       "<!-- topbar -->\n",
       "<header id=\"header-main\">\n",
       "<nav class=\"navbar navbar-expand-lg navbar-light bg-white\">\n",
       "<a class=\"navbar-brand d-lg-none p-2\" href=\"https://hunthalloween.com/mumbai\" title=\"Holidays Events in Mumbai\"><img alt=\"HuntHalloween Logo\" fetchpriority=\"high\" height=\"40\" id=\"navbar-logo\" src=\"https://hunthalloween.com/assets/img/HuntHalloween.svg\" style=\"max-width: 280px;margin-left: 10px;\" width=\"312\"/></a>\n",
       "<button aria-controls=\"fjNav\" aria-expanded=\"false\" aria-label=\"Toggle navigation\" class=\"navbar-toggler d-none\" data-target=\"#fjNav\" data-toggle=\"collapse\" type=\"button\">\n",
       "<span class=\"navbar-toggler-icon\"></span>\n",
       "</button>\n",
       "<div class=\"collapse navbar-collapse collapse show\" id=\"fjNav\">\n",
       "<ul class=\"navbar-nav mx-auto\">\n",
       "<li><a class=\"d-none d-lg-block p-2\" href=\"https://hunthalloween.com/mumbai\" title=\"Holidays Events in Mumbai\"><img alt=\"Halloween Events\" height=\"40\" src=\"https://hunthalloween.com/assets/img/HuntHalloween.svg\" width=\"312\"/></a></li>\n",
       "<li class=\"nav-item ml-5\" style=\"position: absolute; right: 0; top: 10px; width: 10%;\">\n",
       "<a class=\"nav-link track\" data-track=\"TopBar|clicks|Share-eventlist\" href=\"https://www.facebook.com/sharer/sharer.php?u=https://hunthalloween.com/mumbai/christmas\" rel=\"noopener noreferrer nofollow\" target=\"_blank\" title=\"Share this Page\">\n",
       "<svg id=\"Capa_1\" style=\"enable-background:new 0 0 512 512;max-width: 25px;height: 20px;\" version=\"1.1\" viewbox=\"0 0 512 512\" x=\"0px\" xml:space=\"preserve\" xmlns=\"http://www.w3.org/2000/svg\" xmlns:xlink=\"http://www.w3.org/1999/xlink\" y=\"0px\">\n",
       "<g>\n",
       "<g>\n",
       "<path d=\"M406,332c-29.636,0-55.969,14.402-72.378,36.571l-141.27-72.195C194.722,288.324,196,279.809,196,271\n",
       "\t\t\t\t\t\t\t\t\tc0-11.931-2.339-23.324-6.574-33.753l148.06-88.958C354.006,167.679,378.59,180,406,180c49.626,0,90-40.374,90-90\n",
       "\t\t\t\t\t\t\t\t\tc0-49.626-40.374-90-90-90c-49.626,0-90,40.374-90,90c0,11.47,2.161,22.443,6.09,32.54l-148.43,89.18\n",
       "\t\t\t\t\t\t\t\t\tC157.152,192.902,132.941,181,106,181c-49.626,0-90,40.374-90,90c0,49.626,40.374,90,90,90c30.122,0,56.832-14.876,73.177-37.666\n",
       "\t\t\t\t\t\t\t\t\tl140.86,71.985C317.414,403.753,316,412.714,316,422c0,49.626,40.374,90,90,90c49.626,0,90-40.374,90-90\n",
       "\t\t\t\t\t\t\t\t\tC496,372.374,455.626,332,406,332z M406,30c33.084,0,60,26.916,60,60s-26.916,60-60,60s-60-26.916-60-60S372.916,30,406,30z\n",
       "\t\t\t\t\t\t\t\t\t M106,331c-33.084,0-60-26.916-60-60s26.916-60,60-60s60,26.916,60,60S139.084,331,106,331z M406,482c-33.084,0-60-26.916-60-60\n",
       "\t\t\t\t\t\t\t\t\ts26.916-60,60-60s60,26.916,60,60S439.084,482,406,482z\"></path>\n",
       "</g></g><g></g><g></g><g></g><g></g><g></g><g></g><g></g><g></g><g></g><g></g><g></g><g></g><g></g><g></g><g></g>\n",
       "</svg>\n",
       "</a>\n",
       "</li>\n",
       "</ul>\n",
       "</div>\n",
       "</nav>\n",
       "</header> <!-- topbar -->\n",
       "<style type=\"text/css\">\n",
       "\t      \t.eventList .event-item .bottom{}\n",
       "\t      \t.eventList .event-item{border: 0;box-shadow: 0 .125rem .25rem rgba(0,0,0,.075)!important;}\n",
       "\t      \t.eventList .event-item:hover{box-shadow: 0 .5rem 1rem rgba(0,0,0,.15)!important;}\n",
       "\n",
       "\t\t\t\t\t.eventList .event-item .banner-sec a{\n",
       "\t      \t\tbackground-position: top center;\n",
       "\t      \t\twidth: 100%;\n",
       "\t      \t\tpadding-bottom: 50%;\n",
       "\t      \t}\n",
       "\t      \t.left-sec-menu{position: sticky; top:20px;}\n",
       "\t      \t.custom-content .ccc img{width: 100%;height: 100%;margin-bottom: 20px;}\n",
       "\t      \t.custom-content ul{list-style: disc;}\n",
       "\t      \t.custom-content ul li{display: list-item;margin-bottom: 10px;}\n",
       "\t</style>\n",
       "<section class=\"text-center py-2\">\n",
       "<div class=\"ads-block-1\">\n",
       "<script async=\"\" crossorigin=\"anonymous\" src=\"https://pagead2.googlesyndication.com/pagead/js/adsbygoogle.js?client=ca-pub-4300580573096565\"></script> <!-- HH-Eventlist-Top --> <ins class=\"adsbygoogle\" data-ad-client=\"ca-pub-4300580573096565\" data-ad-format=\"auto\" data-ad-slot=\"3021171273\" data-full-width-responsive=\"true\" style=\"display:block\"></ins> <script> (adsbygoogle = window.adsbygoogle || []).push({}); </script>\n",
       "</div>\n",
       "</section>\n",
       "<section class=\"slice pt-5 pb-7 bg-primary-light\">\n",
       "<div class=\"container mb-5\">\n",
       "<div class=\"row eventList justify-content-center\">\n",
       "<div class=\"col-md-11 left-sec\">\n",
       "<h1 class=\"mb-2 text-center text-primary\">Christmas Events in Mumbai 2022</h1>\n",
       "<h2 class=\"h5 mb-5 text-center text-dark\">Explore The Best Of Christmas Markets, Parties &amp; Parades in Mumbai</h2>\n",
       "<div class=\"row eventlist-row justify-content-md-center\">\n",
       "<div class=\"col-md-4 mb-3\">\n",
       "<div class=\"event-item card overflow-hidden h-100\">\n",
       "<div class=\"overflow-hidden banner-sec\">\n",
       "<a class=\"bg-light d-block\" href=\"https://hunthalloween.com/event/wed-21st-dec-latin-twist-socials-antisocial-mumbai-christmas-edition-eid4a7btkc42j\" style=\"background: url(https://cdn.hunthalloween.com/events4/banners/63de6d461b200e602a0f310812cb4ff7973162c769dd6e4142c7c95dc4668535-rimg-w960-h960-gmir?v=1671362863);background-size: cover; background-position: top center;\" target=\"_blank\" title=\"Wed 21st Dec' Latin Twist Socials @AntiSocial Mumbai ? Christmas Edition ?\"></a>\n",
       "</div>\n",
       "<div class=\"card-body py-3\">\n",
       "<a class=\"stretched-link lh-150 t-darkred text-decoration-none\" href=\"https://hunthalloween.com/event/wed-21st-dec-latin-twist-socials-antisocial-mumbai-christmas-edition-eid4a7btkc42j\" target=\"_blank\" title=\"Wed 21st Dec' Latin Twist Socials @AntiSocial Mumbai ? Christmas Edition ?\"><h3 class=\"h5 mt-1\">Wed 21st Dec' Latin Twist Socials @AntiSocial Mumbai ? Christmas Edition ?</h3></a>\n",
       "<small class=\"mt-0 mb-1 lh-170 clearfix\">antiSOCIAL</small>\n",
       "<small class=\"d-block text-sm mt-2\">21 Dec 2022</small>\n",
       "<div class=\"bottom\">\n",
       "</div>\n",
       "</div>\n",
       "</div>\n",
       "</div>\n",
       "<div class=\"col-md-4 mb-3\">\n",
       "<div class=\"event-item card overflow-hidden h-100\">\n",
       "<div class=\"overflow-hidden banner-sec\">\n",
       "<a class=\"bg-light d-block lozard\" data-background-image=\"https://cdn-alt.hunthalloween.com/thumbs/thumb6380f4adbf07c.jpg\" href=\"https://hunthalloween.com/event/santas-christmas-workshop-for-kids-1yr-3-yrs-eid1nt5u59tee\" style=\"background-size: cover; background-position: top center;\" target=\"_blank\" title=\"Santa's Christmas Workshop for kids (1yr - 3 yrs)\"></a>\n",
       "</div>\n",
       "<div class=\"card-body py-3\">\n",
       "<a class=\"stretched-link lh-150 t-darkred text-decoration-none\" href=\"https://hunthalloween.com/event/santas-christmas-workshop-for-kids-1yr-3-yrs-eid1nt5u59tee\" target=\"_blank\" title=\"Santa's Christmas Workshop for kids (1yr - 3 yrs)\"><h3 class=\"h5 mt-1\">Santa's Christmas Workshop for kids (1yr - 3 yrs)</h3></a>\n",
       "<small class=\"mt-0 mb-1 lh-170 clearfix\">Little Amigos Montessori, Model JP Road, Seven Bunglow, Andheri West, Mumbai, Maharashtra, India</small>\n",
       "<small class=\"d-block text-sm mt-2\">22 Dec 2022</small>\n",
       "<div class=\"bottom\">\n",
       "<span class=\"badge bg-light light t-gray mt-3 text-dark\">FREE</span> </div>\n",
       "</div>\n",
       "</div>\n",
       "</div>\n",
       "<div class=\"col-md-4 mb-3\">\n",
       "<div class=\"event-item card overflow-hidden h-100\">\n",
       "<div class=\"overflow-hidden banner-sec\">\n",
       "<a class=\"bg-light d-block lozard\" data-background-image=\"https://cdn.hunthalloween.com/events6/banners/7f005c8a1f731fbd5b60826499edd9176fa3374f425fe05e3011bb3dbf2c55f9-rimg-w640-h328-gmir.jpg?v=1671337134\" href=\"https://hunthalloween.com/event/christmas-party-eid4a7bv3fa5w\" style=\"background-size: cover; background-position: top center;\" target=\"_blank\" title=\"Christmas Party\"></a>\n",
       "</div>\n",
       "<div class=\"card-body py-3\">\n",
       "<a class=\"stretched-link lh-150 t-darkred text-decoration-none\" href=\"https://hunthalloween.com/event/christmas-party-eid4a7bv3fa5w\" target=\"_blank\" title=\"Christmas Party\"><h3 class=\"h5 mt-1\">Christmas Party</h3></a>\n",
       "<small class=\"mt-0 mb-1 lh-170 clearfix\">Club Aquaria</small>\n",
       "<small class=\"d-block text-sm mt-2\">22 Dec 2022</small>\n",
       "<div class=\"bottom\">\n",
       "</div>\n",
       "</div>\n",
       "</div>\n",
       "</div>\n",
       "<div class=\"col-md-4 mb-3\">\n",
       "<div class=\"event-item card overflow-hidden h-100\">\n",
       "<div class=\"overflow-hidden banner-sec\">\n",
       "<a class=\"bg-light d-block lozard\" data-background-image=\"https://cdn-alt.hunthalloween.com/thumbs/thumb6378deb5b48b4.jpg\" href=\"https://hunthalloween.com/event/christmas-andamp-new-year-utsav-2022-eid1nt91kilat\" style=\"background-size: cover; background-position: top center;\" target=\"_blank\" title=\"Christmas &amp;amp; New Year Utsav 2022\"></a>\n",
       "</div>\n",
       "<div class=\"card-body py-3\">\n",
       "<a class=\"stretched-link lh-150 t-darkred text-decoration-none\" href=\"https://hunthalloween.com/event/christmas-andamp-new-year-utsav-2022-eid1nt91kilat\" target=\"_blank\" title=\"Christmas &amp;amp; New Year Utsav 2022\"><h3 class=\"h5 mt-1\">Christmas &amp; New Year Utsav 2022</h3></a>\n",
       "<small class=\"mt-0 mb-1 lh-170 clearfix\">Scout Pavilion Hall </small>\n",
       "<small class=\"d-block text-sm mt-2\">23 Dec 2022</small>\n",
       "<div class=\"bottom\">\n",
       "<span class=\"badge bg-light light t-gray mt-3 text-dark\">FREE</span> </div>\n",
       "</div>\n",
       "</div>\n",
       "</div>\n",
       "<div class=\"col-md-4 mb-3\">\n",
       "<div class=\"event-item card overflow-hidden h-100\">\n",
       "<div class=\"overflow-hidden banner-sec\">\n",
       "<a class=\"bg-light d-block lozard\" data-background-image=\"https://cdn.hunthalloween.com/events6/banners/ed950f3cbad1eff8f88a90d83ce2dc9a1263f8823fc895ce11522f54ce75f30e-rimg-w960-h540-gmir.jpg?v=1671293393\" href=\"https://hunthalloween.com/event/christmas-party-eid4a7bubremj\" style=\"background-size: cover; background-position: top center;\" target=\"_blank\" title=\"christmas party\"></a>\n",
       "</div>\n",
       "<div class=\"card-body py-3\">\n",
       "<a class=\"stretched-link lh-150 t-darkred text-decoration-none\" href=\"https://hunthalloween.com/event/christmas-party-eid4a7bubremj\" target=\"_blank\" title=\"christmas party\"><h3 class=\"h5 mt-1\">christmas party</h3></a>\n",
       "<small class=\"mt-0 mb-1 lh-170 clearfix\">Vashi</small>\n",
       "<small class=\"d-block text-sm mt-2\">23 Dec 2022</small>\n",
       "<div class=\"bottom\">\n",
       "</div>\n",
       "</div>\n",
       "</div>\n",
       "</div>\n",
       "<div class=\"col-md-4 mb-3\">\n",
       "<div class=\"event-item card overflow-hidden h-100\">\n",
       "<div class=\"overflow-hidden banner-sec\">\n",
       "<a class=\"bg-light d-block lozard\" data-background-image=\"https://cdn-alt.hunthalloween.com/thumbs/thumb63a01f4ba5c88.jpg\" href=\"https://hunthalloween.com/event/the-craft-of-mixology-making-andamp-mastering-a-fine-cocktail-by-trove-experiences-eid1nt69gch3g\" style=\"background-size: cover; background-position: top center;\" target=\"_blank\" title=\"The Craft of Mixology Making &amp;amp; Mastering A Fine Cocktail by Trove Experiences \"></a>\n",
       "</div>\n",
       "<div class=\"card-body py-3\">\n",
       "<a class=\"stretched-link lh-150 t-darkred text-decoration-none\" href=\"https://hunthalloween.com/event/the-craft-of-mixology-making-andamp-mastering-a-fine-cocktail-by-trove-experiences-eid1nt69gch3g\" target=\"_blank\" title=\"The Craft of Mixology Making &amp;amp; Mastering A Fine Cocktail by Trove Experiences \"><h3 class=\"h5 mt-1\">The Craft of Mixology Making &amp; Mastering A Fine Cocktail by Trove Experiences </h3></a>\n",
       "<small class=\"mt-0 mb-1 lh-170 clearfix\">Mansionz Mumbai, Senapati Bapat Marg, Lower Parel, Mumbai, Maharashtra, India</small>\n",
       "<small class=\"d-block text-sm mt-2\">23 Dec 2022</small>\n",
       "<div class=\"bottom\">\n",
       "</div>\n",
       "</div>\n",
       "</div>\n",
       "</div>\n",
       "<div class=\"col-md-4 mb-3\">\n",
       "<div class=\"event-item card overflow-hidden h-100\">\n",
       "<div class=\"overflow-hidden banner-sec\">\n",
       "<a class=\"bg-light d-block lozard\" data-background-image=\"https://cdn-alt.hunthalloween.com/thumbs/thumb639ed082ee020.jpg\" href=\"https://hunthalloween.com/event/christmas-eve-special-camp-eid1nt8jp7wi3\" style=\"background-size: cover; background-position: top center;\" target=\"_blank\" title=\"Christmas eve special camp\"></a>\n",
       "</div>\n",
       "<div class=\"card-body py-3\">\n",
       "<a class=\"stretched-link lh-150 t-darkred text-decoration-none\" href=\"https://hunthalloween.com/event/christmas-eve-special-camp-eid1nt8jp7wi3\" target=\"_blank\" title=\"Christmas eve special camp\"><h3 class=\"h5 mt-1\">Christmas eve special camp</h3></a>\n",
       "<small class=\"mt-0 mb-1 lh-170 clearfix\">Vaitarna Dam, Maharashtra, India</small>\n",
       "<small class=\"d-block text-sm mt-2\">24 Dec 2022</small>\n",
       "<div class=\"bottom\">\n",
       "<span class=\"badge bg-light light t-gray mt-3 text-dark\">INR 1,899</span> </div>\n",
       "</div>\n",
       "</div>\n",
       "</div>\n",
       "<div class=\"col-md-4 mb-3\">\n",
       "<div class=\"event-item card overflow-hidden h-100\">\n",
       "<div class=\"overflow-hidden banner-sec\">\n",
       "<a class=\"bg-light d-block lozard\" data-background-image=\"https://cdn.hunthalloween.com/events1/banners/2c96c30f90240423a65b0a2cf095bcdf5c091fe0f3f480dbd7a333474ea3c2dd-rimg-w960-h540-gmir.jpg?v=1671430179\" href=\"https://hunthalloween.com/event/christmas-carnival-the-fun-fiesta-eid4a7bsi8qih\" style=\"background-size: cover; background-position: top center;\" target=\"_blank\" title=\"Christmas Carnival - The Fun Fiesta\"></a>\n",
       "</div>\n",
       "<div class=\"card-body py-3\">\n",
       "<a class=\"stretched-link lh-150 t-darkred text-decoration-none\" href=\"https://hunthalloween.com/event/christmas-carnival-the-fun-fiesta-eid4a7bsi8qih\" target=\"_blank\" title=\"Christmas Carnival - The Fun Fiesta\"><h3 class=\"h5 mt-1\">Christmas Carnival - The Fun Fiesta</h3></a>\n",
       "<small class=\"mt-0 mb-1 lh-170 clearfix\">Mulund High School</small>\n",
       "<small class=\"d-block text-sm mt-2\">24 Dec 2022</small>\n",
       "<div class=\"bottom\">\n",
       "</div>\n",
       "</div>\n",
       "</div>\n",
       "</div>\n",
       "<div class=\"col-md-4 mb-3\">\n",
       "<div class=\"event-item card overflow-hidden h-100\">\n",
       "<div class=\"overflow-hidden banner-sec\">\n",
       "<a class=\"bg-light d-block lozard\" data-background-image=\"https://cdn.hunthalloween.com/events9/banners/5ec6aa0298ab825d3527b3d705a96da9e4d43f1f53d005319937ff3c3a6224ae-rimg-w540-h960-gmir.jpg?v=1671363845\" href=\"https://hunthalloween.com/event/christmas-mela-eid4a7bujsa3b\" style=\"background-size: cover; background-position: top center;\" target=\"_blank\" title=\"Christmas Mela\"></a>\n",
       "</div>\n",
       "<div class=\"card-body py-3\">\n",
       "<a class=\"stretched-link lh-150 t-darkred text-decoration-none\" href=\"https://hunthalloween.com/event/christmas-mela-eid4a7bujsa3b\" target=\"_blank\" title=\"Christmas Mela\"><h3 class=\"h5 mt-1\">Christmas Mela</h3></a>\n",
       "<small class=\"mt-0 mb-1 lh-170 clearfix\">Chembur - चेंबूर</small>\n",
       "<small class=\"d-block text-sm mt-2\">24 Dec 2022</small>\n",
       "<div class=\"bottom\">\n",
       "</div>\n",
       "</div>\n",
       "</div>\n",
       "</div>\n",
       "<div class=\"col-md-4 mb-3\">\n",
       "<div class=\"event-item card overflow-hidden h-100\">\n",
       "<div class=\"overflow-hidden banner-sec\">\n",
       "<a class=\"bg-light d-block lozard\" data-background-image=\"https://cdn.hunthalloween.com/events10/banners/cf5c2acdbfeb304bb9668fb5d8fbd2ceac735b1e8347bcf2041fd45099e94d7a-rimg-w960-h540-gmir?v=1671326518\" href=\"https://hunthalloween.com/event/christmas-party-at-knotty-yard-eid4a7bslgv1a\" style=\"background-size: cover; background-position: top center;\" target=\"_blank\" title=\"CHRISTMAS PARTY AT KNOTTY YARD\"></a>\n",
       "</div>\n",
       "<div class=\"card-body py-3\">\n",
       "<a class=\"stretched-link lh-150 t-darkred text-decoration-none\" href=\"https://hunthalloween.com/event/christmas-party-at-knotty-yard-eid4a7bslgv1a\" target=\"_blank\" title=\"CHRISTMAS PARTY AT KNOTTY YARD\"><h3 class=\"h5 mt-1\">CHRISTMAS PARTY AT KNOTTY YARD</h3></a>\n",
       "<small class=\"mt-0 mb-1 lh-170 clearfix\">Knotty Yard</small>\n",
       "<small class=\"d-block text-sm mt-2\">24 Dec 2022</small>\n",
       "<div class=\"bottom\">\n",
       "</div>\n",
       "</div>\n",
       "</div>\n",
       "</div>\n",
       "<div class=\"col-md-4 mb-3\">\n",
       "<div class=\"event-item card overflow-hidden h-100\">\n",
       "<div class=\"overflow-hidden banner-sec\">\n",
       "<a class=\"bg-light d-block lozard\" data-background-image=\"https://cdn.hunthalloween.com/events9/banners/1776b6316c0f476a8cd84e60a80f4fe4e4ec860c019b958881eef5526e153e1b-rimg-w960-h540-gmir.jpg?v=1671478414\" href=\"https://hunthalloween.com/event/christmas-party-at-flamiingo-eid4a7bstpuon\" style=\"background-size: cover; background-position: top center;\" target=\"_blank\" title=\"CHRISTMAS PARTY AT FLAMIINGO \"></a>\n",
       "</div>\n",
       "<div class=\"card-body py-3\">\n",
       "<a class=\"stretched-link lh-150 t-darkred text-decoration-none\" href=\"https://hunthalloween.com/event/christmas-party-at-flamiingo-eid4a7bstpuon\" target=\"_blank\" title=\"CHRISTMAS PARTY AT FLAMIINGO \"><h3 class=\"h5 mt-1\">CHRISTMAS PARTY AT FLAMIINGO </h3></a>\n",
       "<small class=\"mt-0 mb-1 lh-170 clearfix\">Flamiingo Lounge - Belapur</small>\n",
       "<small class=\"d-block text-sm mt-2\">24 Dec 2022</small>\n",
       "<div class=\"bottom\">\n",
       "</div>\n",
       "</div>\n",
       "</div>\n",
       "</div>\n",
       "<div class=\"col-md-4 mb-3\">\n",
       "<div class=\"event-item card overflow-hidden h-100\">\n",
       "<div class=\"overflow-hidden banner-sec\">\n",
       "<a class=\"bg-light d-block lozard\" data-background-image=\"https://cdn-alt.hunthalloween.com/thumbs/thumb6397ff5c81c70.jpg\" href=\"https://hunthalloween.com/event/christmas-carnival-andamp-rajasthani-mela-eid1nta76aofj\" style=\"background-size: cover; background-position: top center;\" target=\"_blank\" title=\"CHRISTMAS CARNIVAL &amp;amp; RAJASTHANI MELA\"></a>\n",
       "</div>\n",
       "<div class=\"card-body py-3\">\n",
       "<a class=\"stretched-link lh-150 t-darkred text-decoration-none\" href=\"https://hunthalloween.com/event/christmas-carnival-andamp-rajasthani-mela-eid1nta76aofj\" target=\"_blank\" title=\"CHRISTMAS CARNIVAL &amp;amp; RAJASTHANI MELA\"><h3 class=\"h5 mt-1\">CHRISTMAS CARNIVAL &amp; RAJASTHANI MELA</h3></a>\n",
       "<small class=\"mt-0 mb-1 lh-170 clearfix\">Shri Sunderbai Hall</small>\n",
       "<small class=\"d-block text-sm mt-2\">25 Dec 2022</small>\n",
       "<div class=\"bottom\">\n",
       "<span class=\"badge bg-light light t-gray mt-3 text-dark\">FREE</span> </div>\n",
       "</div>\n",
       "</div>\n",
       "</div>\n",
       "<div class=\"col-md-4 mb-3\">\n",
       "<div class=\"event-item card overflow-hidden h-100\">\n",
       "<div class=\"overflow-hidden banner-sec\">\n",
       "<a class=\"bg-light d-block lozard\" data-background-image=\"https://cdn.hunthalloween.com/events5/banners/c5b5f8b1d26aaaff8be6c109c6e241720c1cf1b41c0495672d9db1c832b29028-rimg-w635-h960-gmir.jpg?v=1671455955\" href=\"https://hunthalloween.com/event/sahajyoga-meditation-experience-unconditional-joy-andamppeace-within-eid4a7bv6tmks\" style=\"background-size: cover; background-position: top center;\" target=\"_blank\" title=\"Sahajyoga meditation. Experience unconditional joy &amp;amp;peace within.\"></a>\n",
       "</div>\n",
       "<div class=\"card-body py-3\">\n",
       "<a class=\"stretched-link lh-150 t-darkred text-decoration-none\" href=\"https://hunthalloween.com/event/sahajyoga-meditation-experience-unconditional-joy-andamppeace-within-eid4a7bv6tmks\" target=\"_blank\" title=\"Sahajyoga meditation. Experience unconditional joy &amp;amp;peace within.\"><h3 class=\"h5 mt-1\">Sahajyoga meditation. Experience unconditional joy &amp;peace within.</h3></a>\n",
       "<small class=\"mt-0 mb-1 lh-170 clearfix\">Mumbai - मुंबई</small>\n",
       "<small class=\"d-block text-sm mt-2\">25 Dec 2022</small>\n",
       "<div class=\"bottom\">\n",
       "</div>\n",
       "</div>\n",
       "</div>\n",
       "</div>\n",
       "<div class=\"col-md-4 mb-3\">\n",
       "<div class=\"event-item card overflow-hidden h-100\">\n",
       "<div class=\"overflow-hidden banner-sec\">\n",
       "<a class=\"bg-light d-block lozard\" data-background-image=\"https://cdn.hunthalloween.com/events6/banners/bc3ba3cab08e0774cf5ef42f98609d4e0e483da15da2a185ceaf44dbe39f935d-rimg-w960-h503-gmir.jpg?v=1671340851\" href=\"https://hunthalloween.com/event/christmas-sail-on-a-yacht-in-mumbai-eid4a7bujsb0w\" style=\"background-size: cover; background-position: top center;\" target=\"_blank\" title=\"Christmas Sail on a Yacht in Mumbai\"></a>\n",
       "</div>\n",
       "<div class=\"card-body py-3\">\n",
       "<a class=\"stretched-link lh-150 t-darkred text-decoration-none\" href=\"https://hunthalloween.com/event/christmas-sail-on-a-yacht-in-mumbai-eid4a7bujsb0w\" target=\"_blank\" title=\"Christmas Sail on a Yacht in Mumbai\"><h3 class=\"h5 mt-1\">Christmas Sail on a Yacht in Mumbai</h3></a>\n",
       "<small class=\"mt-0 mb-1 lh-170 clearfix\">Mumbai</small>\n",
       "<small class=\"d-block text-sm mt-2\">25 Dec 2022</small>\n",
       "<div class=\"bottom\">\n",
       "<span class=\"badge bg-light light t-gray mt-3 text-dark\">INR 2,999 TO 3,999</span> </div>\n",
       "</div>\n",
       "</div>\n",
       "</div>\n",
       "<div class=\"col-md-4 mb-3\">\n",
       "<div class=\"event-item card overflow-hidden h-100\">\n",
       "<div class=\"overflow-hidden banner-sec\">\n",
       "<a class=\"bg-light d-block lozard\" data-background-image=\"https://cdn.hunthalloween.com/events2/banners/f89a7e3e69d02c4767a45fef4c77821f0e3083c4489acdb11e8ca874891a39e4-rimg-w960-h502-gmir.jpg?v=1671431275\" href=\"https://hunthalloween.com/event/blessings-bled-chimanga-performing-live-eid4a7bu6847h\" style=\"background-size: cover; background-position: top center;\" target=\"_blank\" title=\"BLESSINGS BLED CHIMANGA PERFORMING LIVE\"></a>\n",
       "</div>\n",
       "<div class=\"card-body py-3\">\n",
       "<a class=\"stretched-link lh-150 t-darkred text-decoration-none\" href=\"https://hunthalloween.com/event/blessings-bled-chimanga-performing-live-eid4a7bu6847h\" target=\"_blank\" title=\"BLESSINGS BLED CHIMANGA PERFORMING LIVE\"><h3 class=\"h5 mt-1\">BLESSINGS BLED CHIMANGA PERFORMING LIVE</h3></a>\n",
       "<small class=\"mt-0 mb-1 lh-170 clearfix\">The Finch Mumbai</small>\n",
       "<small class=\"d-block text-sm mt-2\">25 Dec 2022</small>\n",
       "<div class=\"bottom\">\n",
       "</div>\n",
       "</div>\n",
       "</div>\n",
       "</div>\n",
       "<div class=\"col-md-4 mb-3\">\n",
       "<div class=\"event-item card overflow-hidden h-100\">\n",
       "<div class=\"overflow-hidden banner-sec\">\n",
       "<a class=\"bg-light d-block lozard\" data-background-image=\"https://cdn-alt.hunthalloween.com/thumbs/thumb6396ecf1d6bc5.jpg\" href=\"https://hunthalloween.com/event/kidz-andamp-family-fest-eid1nt52obplo\" style=\"background-size: cover; background-position: top center;\" target=\"_blank\" title=\"Kidz &amp;amp; Family Fest \"></a>\n",
       "</div>\n",
       "<div class=\"card-body py-3\">\n",
       "<a class=\"stretched-link lh-150 t-darkred text-decoration-none\" href=\"https://hunthalloween.com/event/kidz-andamp-family-fest-eid1nt52obplo\" target=\"_blank\" title=\"Kidz &amp;amp; Family Fest \"><h3 class=\"h5 mt-1\">Kidz &amp; Family Fest </h3></a>\n",
       "<small class=\"mt-0 mb-1 lh-170 clearfix\">World Trade Center, Cuffe Parade, Mumbai, Maharashtra</small>\n",
       "<small class=\"d-block text-sm mt-2\">14 Jan 2023</small>\n",
       "<div class=\"bottom\">\n",
       "</div>\n",
       "</div>\n",
       "</div>\n",
       "</div>\n",
       "</div>\n",
       "</div>\n",
       "</div>\n",
       "</div>\n",
       "<script type=\"application/ld+json\">[{\"@context\":\"https:\\/\\/schema.org\",\"@type\":\"Event\",\"name\":\"Wed 21st Dec' Latin Twist Socials @AntiSocial Mumbai ? Christmas Edition ?\",\"image\":\"https:\\/\\/cdn.hunthalloween.com\\/events4\\/banners\\/63de6d461b200e602a0f310812cb4ff7973162c769dd6e4142c7c95dc4668535-rimg-w960-h960-gmir?v=1671362863\",\"startDate\":\"2022-12-21\",\"endDate\":\"2022-12-22\",\"url\":\"https:\\/\\/hunthalloween.com\\/event\\/wed-21st-dec-latin-twist-socials-antisocial-mumbai-christmas-edition-eid4a7btkc42j\",\"eventStatus\":\"https:\\/\\/schema.org\\/EventScheduled\",\"location\":{\"@type\":\"place\",\"name\":\"antiSOCIAL\",\"address\":{\"@type\":\"PostalAddress\",\"streetAddress\":\"Mathuradas Mill Compound, 242, Lower Parel\",\"addressLocality\":\"Mumbai\",\"addressRegion\":\"MH\",\"addressCountry\":\"IN\"},\"geo\":{\"@type\":\"GeoCoordinates\",\"latitude\":\"18.999205\",\"longitude\":\"72.830063\"}},\"eventAttendanceMode\":\"https:\\/\\/schema.org\\/OfflineEventAttendanceMode\",\"offers\":[],\"organizer\":[{\"@type\":\"Organization\",\"name\":\"Mary Lobo Latin Twist\"}]},{\"@context\":\"https:\\/\\/schema.org\",\"@type\":\"Event\",\"name\":\"Santa's Christmas Workshop for kids (1yr - 3 yrs)\",\"image\":\"https:\\/\\/cdn-alt.hunthalloween.com\\/thumbs\\/thumb6380f4adbf07c.jpg\",\"startDate\":\"2022-12-22\",\"endDate\":\"2022-12-22\",\"url\":\"https:\\/\\/hunthalloween.com\\/event\\/santas-christmas-workshop-for-kids-1yr-3-yrs-eid1nt5u59tee\",\"eventStatus\":\"https:\\/\\/schema.org\\/EventScheduled\",\"location\":{\"@type\":\"place\",\"name\":\"Little Amigos Montessori, Model JP Road, Seven Bunglow, Andheri West, Mumbai, Maharashtra, India\",\"address\":{\"@type\":\"PostalAddress\",\"name\":\"Little Amigos Montessori, Model JP Road, Seven Bunglow, Andheri West, Mumbai, Maharashtra, India\",\"addressLocality\":\"Mumbai\",\"addressRegion\":\"MH\",\"addressCountry\":\"IN\"},\"geo\":{\"@type\":\"GeoCoordinates\",\"latitude\":\"19.075983\",\"longitude\":\"72.877655\"}},\"eventAttendanceMode\":\"https:\\/\\/schema.org\\/OfflineEventAttendanceMode\",\"offers\":[{\"@type\":\"AggregateOffer\",\"lowPrice\":\"0\",\"highPrice\":\"0\",\"url\":\"https:\\/\\/hunthalloween.com\\/event\\/santas-christmas-workshop-for-kids-1yr-3-yrs-eid1nt5u59tee\"}],\"organizer\":[{\"@type\":\"Organization\",\"name\":\"Little Amigos Montessori LLP\"}]},{\"@context\":\"https:\\/\\/schema.org\",\"@type\":\"Event\",\"name\":\"Christmas Party\",\"image\":\"https:\\/\\/cdn.hunthalloween.com\\/events6\\/banners\\/7f005c8a1f731fbd5b60826499edd9176fa3374f425fe05e3011bb3dbf2c55f9-rimg-w640-h328-gmir.jpg?v=1671337134\",\"startDate\":\"2022-12-22\",\"url\":\"https:\\/\\/hunthalloween.com\\/event\\/christmas-party-eid4a7bv3fa5w\",\"eventStatus\":\"https:\\/\\/schema.org\\/EventScheduled\",\"location\":{\"@type\":\"place\",\"name\":\"Club Aquaria\",\"address\":{\"@type\":\"PostalAddress\",\"streetAddress\":\",Mumbai, India\",\"addressLocality\":\"Mumbai\",\"addressRegion\":\"MH\",\"addressCountry\":\"IN\"},\"geo\":{\"@type\":\"GeoCoordinates\",\"latitude\":\"19.240173\",\"longitude\":\"72.848083\"}},\"eventAttendanceMode\":\"https:\\/\\/schema.org\\/OfflineEventAttendanceMode\",\"offers\":[],\"organizer\":[{\"@type\":\"Organization\",\"name\":\"Club Aquaria\"}]},{\"@context\":\"https:\\/\\/schema.org\",\"@type\":\"Event\",\"name\":\"Christmas &amp; New Year Utsav 2022\",\"image\":\"https:\\/\\/cdn-alt.hunthalloween.com\\/thumbs\\/thumb6378deb5b48b4.jpg\",\"startDate\":\"2022-12-23\",\"endDate\":\"2022-12-25\",\"url\":\"https:\\/\\/hunthalloween.com\\/event\\/christmas-andamp-new-year-utsav-2022-eid1nt91kilat\",\"eventStatus\":\"https:\\/\\/schema.org\\/EventScheduled\",\"location\":{\"@type\":\"place\",\"name\":\"Scout Pavilion Hall \",\"address\":{\"@type\":\"PostalAddress\",\"streetAddress\":\"Scout Pavilion Hall, Shivaji Park, Dadar, Mumbai\",\"addressLocality\":\"Mumbai\",\"addressRegion\":\"MH\",\"addressCountry\":\"IN\"},\"geo\":{\"@type\":\"GeoCoordinates\",\"latitude\":\"19.075983\",\"longitude\":\"72.877655\"}},\"eventAttendanceMode\":\"https:\\/\\/schema.org\\/OfflineEventAttendanceMode\",\"offers\":[{\"@type\":\"AggregateOffer\",\"lowPrice\":\"0\",\"highPrice\":\"0\",\"url\":\"https:\\/\\/hunthalloween.com\\/event\\/christmas-andamp-new-year-utsav-2022-eid1nt91kilat\"}],\"organizer\":[{\"@type\":\"Organization\",\"name\":\"wooffytoons events\"}]},{\"@context\":\"https:\\/\\/schema.org\",\"@type\":\"Event\",\"name\":\"christmas party\",\"image\":\"https:\\/\\/cdn.hunthalloween.com\\/events6\\/banners\\/ed950f3cbad1eff8f88a90d83ce2dc9a1263f8823fc895ce11522f54ce75f30e-rimg-w960-h540-gmir.jpg?v=1671293393\",\"startDate\":\"2022-12-23\",\"url\":\"https:\\/\\/hunthalloween.com\\/event\\/christmas-party-eid4a7bubremj\",\"eventStatus\":\"https:\\/\\/schema.org\\/EventScheduled\",\"location\":{\"@type\":\"place\",\"name\":\"Vashi\",\"address\":{\"@type\":\"PostalAddress\",\"streetAddress\":\",Navi Mumbai, India\",\"addressLocality\":\"Mumbai\",\"addressRegion\":\"MH\",\"addressCountry\":\"IN\"},\"geo\":{\"@type\":\"GeoCoordinates\",\"latitude\":\"19.062504\",\"longitude\":\"73.005234\"}},\"eventAttendanceMode\":\"https:\\/\\/schema.org\\/OfflineEventAttendanceMode\",\"offers\":[],\"organizer\":[{\"@type\":\"Organization\",\"name\":\"Priya jetking1\"}]},{\"@context\":\"https:\\/\\/schema.org\",\"@type\":\"Event\",\"name\":\"The Craft of Mixology Making &amp; Mastering A Fine Cocktail by Trove Experiences\",\"image\":\"https:\\/\\/cdn-alt.hunthalloween.com\\/thumbs\\/thumb63a01f4ba5c88.jpg\",\"startDate\":\"2022-12-23\",\"endDate\":\"2022-12-23\",\"url\":\"https:\\/\\/hunthalloween.com\\/event\\/the-craft-of-mixology-making-andamp-mastering-a-fine-cocktail-by-trove-experiences-eid1nt69gch3g\",\"eventStatus\":\"https:\\/\\/schema.org\\/EventScheduled\",\"location\":{\"@type\":\"place\",\"name\":\"Mansionz Mumbai, Senapati Bapat Marg, Lower Parel, Mumbai, Maharashtra, India\",\"address\":{\"@type\":\"PostalAddress\",\"name\":\"Mansionz Mumbai, Senapati Bapat Marg, Lower Parel, Mumbai, Maharashtra, India\",\"addressLocality\":\"Mumbai\",\"addressRegion\":\"MH\",\"addressCountry\":\"IN\"},\"geo\":{\"@type\":\"GeoCoordinates\",\"latitude\":\"19.075983\",\"longitude\":\"72.877655\"}},\"eventAttendanceMode\":\"https:\\/\\/schema.org\\/OfflineEventAttendanceMode\",\"offers\":[],\"organizer\":[{\"@type\":\"Organization\",\"name\":\"Trove Experiences \"}]},{\"@context\":\"https:\\/\\/schema.org\",\"@type\":\"Event\",\"name\":\"Christmas eve special camp\",\"image\":\"https:\\/\\/cdn-alt.hunthalloween.com\\/thumbs\\/thumb639ed082ee020.jpg\",\"startDate\":\"2022-12-24\",\"endDate\":\"2022-12-25\",\"url\":\"https:\\/\\/hunthalloween.com\\/event\\/christmas-eve-special-camp-eid1nt8jp7wi3\",\"eventStatus\":\"https:\\/\\/schema.org\\/EventScheduled\",\"location\":{\"@type\":\"place\",\"name\":\"Vaitarna Dam, Maharashtra, India\",\"address\":{\"@type\":\"PostalAddress\",\"name\":\"Vaitarna Dam, Maharashtra, India, Mumbai, India\",\"addressLocality\":\"Mumbai\",\"addressRegion\":\"MH\",\"addressCountry\":\"IN\"},\"geo\":{\"@type\":\"GeoCoordinates\",\"latitude\":\"19.075983\",\"longitude\":\"72.877655\"}},\"eventAttendanceMode\":\"https:\\/\\/schema.org\\/OfflineEventAttendanceMode\",\"offers\":[{\"@type\":\"AggregateOffer\",\"lowPrice\":\"1899\",\"highPrice\":\"1899\",\"url\":\"https:\\/\\/hunthalloween.com\\/event\\/christmas-eve-special-camp-eid1nt8jp7wi3\"}],\"organizer\":[{\"@type\":\"Organization\",\"name\":\"Swashbucklers\"}]},{\"@context\":\"https:\\/\\/schema.org\",\"@type\":\"Event\",\"name\":\"Christmas Carnival - The Fun Fiesta\",\"image\":\"https:\\/\\/cdn.hunthalloween.com\\/events1\\/banners\\/2c96c30f90240423a65b0a2cf095bcdf5c091fe0f3f480dbd7a333474ea3c2dd-rimg-w960-h540-gmir.jpg?v=1671430179\",\"startDate\":\"2022-12-24\",\"endDate\":\"2022-12-25\",\"url\":\"https:\\/\\/hunthalloween.com\\/event\\/christmas-carnival-the-fun-fiesta-eid4a7bsi8qih\",\"eventStatus\":\"https:\\/\\/schema.org\\/EventScheduled\",\"location\":{\"@type\":\"place\",\"name\":\"Mulund High School\",\"address\":{\"@type\":\"PostalAddress\",\"streetAddress\":\"Chandan Baug Lane, Mulund West,Mumbai, India\",\"addressLocality\":\"Mumbai\",\"addressRegion\":\"MH\",\"addressCountry\":\"IN\"},\"geo\":{\"@type\":\"GeoCoordinates\",\"latitude\":\"19.176706\",\"longitude\":\"72.950043\"}},\"eventAttendanceMode\":\"https:\\/\\/schema.org\\/OfflineEventAttendanceMode\",\"offers\":[],\"organizer\":[{\"@type\":\"Organization\",\"name\":\"TheFun Fiesta\"}]},{\"@context\":\"https:\\/\\/schema.org\",\"@type\":\"Event\",\"name\":\"Christmas Mela\",\"image\":\"https:\\/\\/cdn.hunthalloween.com\\/events9\\/banners\\/5ec6aa0298ab825d3527b3d705a96da9e4d43f1f53d005319937ff3c3a6224ae-rimg-w540-h960-gmir.jpg?v=1671363845\",\"startDate\":\"2022-12-24\",\"endDate\":\"2022-12-24\",\"url\":\"https:\\/\\/hunthalloween.com\\/event\\/christmas-mela-eid4a7bujsa3b\",\"eventStatus\":\"https:\\/\\/schema.org\\/EventScheduled\",\"location\":{\"@type\":\"place\",\"name\":\"Chembur - \\u091a\\u0947\\u0902\\u092c\\u0942\\u0930\",\"address\":{\"@type\":\"PostalAddress\",\"streetAddress\":\"Chembur is a suburb in eastern Mumbai, India. It is 15 km from downtown Mumbai and 10 km from Chhatrapati Shivaji International Airport,Mumbai, India\",\"addressLocality\":\"Mumbai\",\"addressRegion\":\"MH\",\"addressCountry\":\"IN\"},\"geo\":{\"@type\":\"GeoCoordinates\",\"latitude\":\"19.188580\",\"longitude\":\"72.853630\"}},\"eventAttendanceMode\":\"https:\\/\\/schema.org\\/OfflineEventAttendanceMode\",\"offers\":[],\"organizer\":[{\"@type\":\"Organization\",\"name\":\"Ranu Thapar\"}]},{\"@context\":\"https:\\/\\/schema.org\",\"@type\":\"Event\",\"name\":\"CHRISTMAS PARTY AT KNOTTY YARD\",\"image\":\"https:\\/\\/cdn.hunthalloween.com\\/events10\\/banners\\/cf5c2acdbfeb304bb9668fb5d8fbd2ceac735b1e8347bcf2041fd45099e94d7a-rimg-w960-h540-gmir?v=1671326518\",\"startDate\":\"2022-12-24\",\"endDate\":\"2022-12-25\",\"url\":\"https:\\/\\/hunthalloween.com\\/event\\/christmas-party-at-knotty-yard-eid4a7bslgv1a\",\"eventStatus\":\"https:\\/\\/schema.org\\/EventScheduled\",\"location\":{\"@type\":\"place\",\"name\":\"Knotty Yard\",\"address\":{\"@type\":\"PostalAddress\",\"streetAddress\":\"KNOTTY YARD, 1st floor, opposite Powai Hiranandani Bus depot, Besides Jal Vayu Vihar, above China Valley. Powai,Mumbai, India\",\"addressLocality\":\"Mumbai\",\"addressRegion\":\"MH\",\"addressCountry\":\"IN\"},\"geo\":{\"@type\":\"GeoCoordinates\",\"latitude\":\"19.118151\",\"longitude\":\"72.906448\"}},\"eventAttendanceMode\":\"https:\\/\\/schema.org\\/OfflineEventAttendanceMode\",\"offers\":[],\"organizer\":[{\"@type\":\"Organization\",\"name\":\"Knottyyard.Powai\"}]},{\"@context\":\"https:\\/\\/schema.org\",\"@type\":\"Event\",\"name\":\"CHRISTMAS PARTY AT FLAMIINGO\",\"image\":\"https:\\/\\/cdn.hunthalloween.com\\/events9\\/banners\\/1776b6316c0f476a8cd84e60a80f4fe4e4ec860c019b958881eef5526e153e1b-rimg-w960-h540-gmir.jpg?v=1671478414\",\"startDate\":\"2022-12-24\",\"endDate\":\"2022-12-25\",\"url\":\"https:\\/\\/hunthalloween.com\\/event\\/christmas-party-at-flamiingo-eid4a7bstpuon\",\"eventStatus\":\"https:\\/\\/schema.org\\/EventScheduled\",\"location\":{\"@type\":\"place\",\"name\":\"Flamiingo Lounge - Belapur\",\"address\":{\"@type\":\"PostalAddress\",\"streetAddress\":\"hilton centre , shop no 111, 112 , Plot no 66, Sector 11,  Cbd Belapur,Navi Mumbai, India\",\"addressLocality\":\"Mumbai\",\"addressRegion\":\"MH\",\"addressCountry\":\"IN\"},\"geo\":{\"@type\":\"GeoCoordinates\",\"latitude\":\"19.013754\",\"longitude\":\"73.037910\"}},\"eventAttendanceMode\":\"https:\\/\\/schema.org\\/OfflineEventAttendanceMode\",\"offers\":[],\"organizer\":[{\"@type\":\"Organization\",\"name\":\"Flamiingo Lounge - Belapur\"}]},{\"@context\":\"https:\\/\\/schema.org\",\"@type\":\"Event\",\"name\":\"CHRISTMAS CARNIVAL &amp; RAJASTHANI MELA\",\"image\":\"https:\\/\\/cdn-alt.hunthalloween.com\\/thumbs\\/thumb6397ff5c81c70.jpg\",\"startDate\":\"2022-12-25\",\"endDate\":\"2022-12-25\",\"url\":\"https:\\/\\/hunthalloween.com\\/event\\/christmas-carnival-andamp-rajasthani-mela-eid1nta76aofj\",\"eventStatus\":\"https:\\/\\/schema.org\\/EventScheduled\",\"location\":{\"@type\":\"place\",\"name\":\"Shri Sunderbai Hall\",\"address\":{\"@type\":\"PostalAddress\",\"streetAddress\":\"Shri Sunderbai Hall, Opp. Patkar Hall, Marine Lines, Mumbai 400020\",\"addressLocality\":\"Mumbai\",\"addressRegion\":\"MH\",\"addressCountry\":\"IN\"},\"geo\":{\"@type\":\"GeoCoordinates\",\"latitude\":\"19.075983\",\"longitude\":\"72.877655\"}},\"eventAttendanceMode\":\"https:\\/\\/schema.org\\/OfflineEventAttendanceMode\",\"offers\":[{\"@type\":\"AggregateOffer\",\"lowPrice\":\"0\",\"highPrice\":\"0\",\"url\":\"https:\\/\\/hunthalloween.com\\/event\\/christmas-carnival-andamp-rajasthani-mela-eid1nta76aofj\"}],\"organizer\":[{\"@type\":\"Organization\",\"name\":\"Krutarth Kadakia\"}]},{\"@context\":\"https:\\/\\/schema.org\",\"@type\":\"Event\",\"name\":\"Sahajyoga meditation. Experience unconditional joy &amp;peace within.\",\"image\":\"https:\\/\\/cdn.hunthalloween.com\\/events5\\/banners\\/c5b5f8b1d26aaaff8be6c109c6e241720c1cf1b41c0495672d9db1c832b29028-rimg-w635-h960-gmir.jpg?v=1671455955\",\"startDate\":\"2022-12-25\",\"endDate\":\"2022-12-25\",\"url\":\"https:\\/\\/hunthalloween.com\\/event\\/sahajyoga-meditation-experience-unconditional-joy-andamppeace-within-eid4a7bv6tmks\",\"eventStatus\":\"https:\\/\\/schema.org\\/EventScheduled\",\"location\":{\"@type\":\"place\",\"name\":\"Mumbai - \\u092e\\u0941\\u0902\\u092c\\u0908\",\"address\":{\"@type\":\"PostalAddress\",\"streetAddress\":\"Mumbai,Mumbai, India\",\"addressLocality\":\"Mumbai\",\"addressRegion\":\"MH\",\"addressCountry\":\"IN\"},\"geo\":{\"@type\":\"GeoCoordinates\",\"latitude\":\"18.952896\",\"longitude\":\"72.832344\"}},\"eventAttendanceMode\":\"https:\\/\\/schema.org\\/OfflineEventAttendanceMode\",\"offers\":[],\"organizer\":[{\"@type\":\"Organization\",\"name\":\"Radheshyam Dhanuka\"}]},{\"@context\":\"https:\\/\\/schema.org\",\"@type\":\"Event\",\"name\":\"Christmas Sail on a Yacht in Mumbai\",\"image\":\"https:\\/\\/cdn.hunthalloween.com\\/events6\\/banners\\/bc3ba3cab08e0774cf5ef42f98609d4e0e483da15da2a185ceaf44dbe39f935d-rimg-w960-h503-gmir.jpg?v=1671340851\",\"startDate\":\"2022-12-25\",\"endDate\":\"2022-12-25\",\"url\":\"https:\\/\\/hunthalloween.com\\/event\\/christmas-sail-on-a-yacht-in-mumbai-eid4a7bujsb0w\",\"eventStatus\":\"https:\\/\\/schema.org\\/EventScheduled\",\"location\":{\"@type\":\"place\",\"name\":\"Mumbai\",\"address\":{\"@type\":\"PostalAddress\",\"name\":\"Mumbai, India\",\"addressLocality\":\"Mumbai\",\"addressRegion\":\"MH\",\"addressCountry\":\"IN\"},\"geo\":{\"@type\":\"GeoCoordinates\",\"latitude\":\"18.931829\",\"longitude\":\"72.836128\"}},\"eventAttendanceMode\":\"https:\\/\\/schema.org\\/OfflineEventAttendanceMode\",\"offers\":[{\"@type\":\"AggregateOffer\",\"lowPrice\":\"2999\",\"highPrice\":\"3999\",\"url\":\"https:\\/\\/hunthalloween.com\\/event\\/christmas-sail-on-a-yacht-in-mumbai-eid4a7bujsb0w\"}],\"organizer\":[{\"@type\":\"Organization\",\"name\":\"Captain Jack India\"}]},{\"@context\":\"https:\\/\\/schema.org\",\"@type\":\"Event\",\"name\":\"BLESSINGS BLED CHIMANGA PERFORMING LIVE\",\"image\":\"https:\\/\\/cdn.hunthalloween.com\\/events2\\/banners\\/f89a7e3e69d02c4767a45fef4c77821f0e3083c4489acdb11e8ca874891a39e4-rimg-w960-h502-gmir.jpg?v=1671431275\",\"startDate\":\"2022-12-25\",\"url\":\"https:\\/\\/hunthalloween.com\\/event\\/blessings-bled-chimanga-performing-live-eid4a7bu6847h\",\"eventStatus\":\"https:\\/\\/schema.org\\/EventScheduled\",\"location\":{\"@type\":\"place\",\"name\":\"The Finch Mumbai\",\"address\":{\"@type\":\"PostalAddress\",\"streetAddress\":\"The Finch Shah Industrial Estate, Opposite to Huntsman Building, Saki Vihar Rd, next to John Baker, Andheri East, Mumbai, Maharashtra 400072,Mumbai, India\",\"addressLocality\":\"Mumbai\",\"addressRegion\":\"MH\",\"addressCountry\":\"IN\"},\"geo\":{\"@type\":\"GeoCoordinates\",\"latitude\":\"19.114929\",\"longitude\":\"72.888779\"}},\"eventAttendanceMode\":\"https:\\/\\/schema.org\\/OfflineEventAttendanceMode\",\"offers\":[],\"organizer\":[{\"@type\":\"Organization\",\"name\":\"The Finch Mumbai\"}]},{\"@context\":\"https:\\/\\/schema.org\",\"@type\":\"Event\",\"name\":\"Kidz &amp; Family Fest\",\"image\":\"https:\\/\\/cdn-alt.hunthalloween.com\\/thumbs\\/thumb6396ecf1d6bc5.jpg\",\"startDate\":\"2023-01-14\",\"endDate\":\"2023-01-15\",\"url\":\"https:\\/\\/hunthalloween.com\\/event\\/kidz-andamp-family-fest-eid1nt52obplo\",\"eventStatus\":\"https:\\/\\/schema.org\\/EventScheduled\",\"location\":{\"@type\":\"place\",\"name\":\"World Trade Center, Cuffe Parade, Mumbai, Maharashtra\",\"address\":{\"@type\":\"PostalAddress\",\"streetAddress\":\"Gate No 3, World Trade Center, Cuffe Parade, Mumbai 400005\",\"addressLocality\":\"Mumbai\",\"addressRegion\":\"MH\",\"addressCountry\":\"IN\"},\"geo\":{\"@type\":\"GeoCoordinates\",\"latitude\":\"19.075983\",\"longitude\":\"72.877655\"}},\"eventAttendanceMode\":\"https:\\/\\/schema.org\\/OfflineEventAttendanceMode\",\"offers\":[],\"organizer\":[{\"@type\":\"Organization\",\"name\":\"Affairs Events & Exhibitions\"}]}]</script>\n",
       "<div class=\"bg-primary-light mt-3\">\n",
       "<div class=\"row m-0\">\n",
       "<div class=\"container d-flex justify-content-center mt-4 mb-3 text-white\">\n",
       "<nav aria-label=\"breadcrumb\" style=\"--bs-breadcrumb-divider: url(&quot;data:image/svg+xml,%3Csvg xmlns='http://www.w3.org/2000/svg' width='8' height='8'%3E%3Cpath d='M2.5 0L1 1.5 3.5 4 1 6.5 2.5 8l4-4-4-4z' fill='%236c757d'/%3E%3C/svg%3E&quot;);\">\n",
       "<ol class=\"breadcrumb breadcrumb-links\" itemscope=\"\" itemtype=\"https://schema.org/BreadcrumbList\">\n",
       "<li class=\"breadcrumb-item\" itemprop=\"itemListElement\" itemscope=\"\" itemtype=\"https://schema.org/ListItem\"><a class=\"\" href=\"https://hunthalloween.com\" itemid=\"https://hunthalloween.com\" itemprop=\"item\" itemscope=\"\" itemtype=\"https://schema.org/WebPage\"><span itemprop=\"name\">Home</span></a><meta content=\"1\" itemprop=\"position\"/></li>\n",
       "<li class=\"breadcrumb-item\" itemprop=\"itemListElement\" itemscope=\"\" itemtype=\"https://schema.org/ListItem\"><a class=\"\" href=\"https://hunthalloween.com/mumbai\" itemid=\"https://hunthalloween.com/mumbai\" itemprop=\"item\" itemscope=\"\" itemtype=\"https://schema.org/WebPage\"><span itemprop=\"name\">Mumbai Events</span></a><meta content=\"2\" itemprop=\"position\"/></li>\n",
       "<li aria-current=\"page\" class=\"breadcrumb-item active\" itemprop=\"itemListElement\" itemscope=\"\" itemtype=\"https://schema.org/ListItem\"><span itemprop=\"name\">Christmas in Mumbai</span><meta content=\"3\" itemprop=\"position\"/></li>\n",
       "</ol>\n",
       "</nav>\n",
       "</div>\n",
       "</div>\n",
       "</div>\n",
       "</section>\n",
       "<footer class=\"position-relative bg-secondary\" id=\"footer-main\">\n",
       "<div class=\"footer footer-dark b-gray\">\n",
       "<div class=\"container\">\n",
       "<div class=\"row align-items-center justify-content-md-between pb-4 pt-4\">\n",
       "<div class=\"col-md-5\">\n",
       "<div class=\"copyright text-sm font-weight-bold text-center text-md-left\">© 2022 HuntHalloween.com</div>\n",
       "</div>\n",
       "<div class=\"col-md-7\">\n",
       "<ul class=\"nav justify-content-center justify-content-md-end mt-3 mt-md-0\">\n",
       "<li class=\"nav-item\"><a class=\"nav-link\" href=\"https://hunthalloween.com\" title=\"HuntHalloween Homepage\">Home</a></li>\n",
       "<li class=\"nav-item\"><a class=\"nav-link\" href=\"https://hunthalloween.com/pages/contact\" title=\"Contact Us\">Contact</a></li>\n",
       "<li class=\"nav-item\"><a class=\"nav-link\" href=\"https://hunthalloween.com/pages/privacy\" rel=\"nofollow\" title=\"Privacy Policy\">Privacy</a></li>\n",
       "</ul>\n",
       "</div>\n",
       "</div>\n",
       "</div>\n",
       "</div>\n",
       "</footer>\n",
       "<link href=\"https://fonts.googleapis.com/css2?family=Montserrat:ital,wght@0,400;0,600;0,700;1,400;1,700&amp;family=Shadows+Into+Light&amp;display=swap\" rel=\"stylesheet\"/>\n",
       "<link href=\"https://hunthalloween.com/assets/css/hhtheme.css?v=4\" media=\"print\" onload=\"this.media='all'; this.onload=null;\" rel=\"stylesheet\"/>\n",
       "<!-- Global site tag (gtag.js) - Google Analytics -->\n",
       "<script async=\"\" src=\"https://www.googletagmanager.com/gtag/js?id=G-KH8C231NFW\"></script>\n",
       "<script type=\"text/javascript\">/*! lozad.js - v1.16.0 */\n",
       "!function(t,e){\"object\"==typeof exports&&\"undefined\"!=typeof module?module.exports=e():\"function\"==typeof define&&define.amd?define(e):t.lozad=e()}(this,function(){\"use strict\";\n",
       "var g=\"undefined\"!=typeof document&&document.documentMode,f={rootMargin:\"0px\",threshold:0,load:function(t){if(\"picture\"===t.nodeName.toLowerCase()){var e=t.querySelector(\"img\"),r=!1;null===e&&(e=document.createElement(\"img\"),r=!0),g&&t.getAttribute(\"data-iesrc\")&&(e.src=t.getAttribute(\"data-iesrc\")),t.getAttribute(\"data-alt\")&&(e.alt=t.getAttribute(\"data-alt\")),r&&t.append(e)}if(\"video\"===t.nodeName.toLowerCase()&&!t.getAttribute(\"data-src\")&&t.children){for(var a=t.children,o=void 0,i=0;i<=a.length-1;i++)(o=a[i].getAttribute(\"data-src\"))&&(a[i].src=o);t.load()}t.getAttribute(\"data-poster\")&&(t.poster=t.getAttribute(\"data-poster\")),t.getAttribute(\"data-src\")&&(t.src=t.getAttribute(\"data-src\")),t.getAttribute(\"data-srcset\")&&t.setAttribute(\"srcset\",t.getAttribute(\"data-srcset\"));var n=\",\";if(t.getAttribute(\"data-background-delimiter\")&&(n=t.getAttribute(\"data-background-delimiter\")),t.getAttribute(\"data-background-image\"))t.style.backgroundImage=\"url('\"+t.getAttribute(\"data-background-image\").split(n).join(\"'),url('\")+\"')\";else if(t.getAttribute(\"data-background-image-set\")){var d=t.getAttribute(\"data-background-image-set\").split(n),u=d[0].substr(0,d[0].indexOf(\" \"))||d[0];// Substring before ... 1x\n",
       "u=-1===u.indexOf(\"url(\")?\"url(\"+u+\")\":u,1===d.length?t.style.backgroundImage=u:t.setAttribute(\"style\",(t.getAttribute(\"style\")||\"\")+\"background-image: \"+u+\"; background-image: -webkit-image-set(\"+d+\"); background-image: image-set(\"+d+\")\")}t.getAttribute(\"data-toggle-class\")&&t.classList.toggle(t.getAttribute(\"data-toggle-class\"))},loaded:function(){}};function A(t){t.setAttribute(\"data-loaded\",!0)}var m=function(t){return\"true\"===t.getAttribute(\"data-loaded\")},v=function(t){var e=1<arguments.length&&void 0!==arguments[1]?arguments[1]:document;return t instanceof Element?[t]:t instanceof NodeList?t:e.querySelectorAll(t)};return function(){var r,a,o=0<arguments.length&&void 0!==arguments[0]?arguments[0]:\".lozad\",t=1<arguments.length&&void 0!==arguments[1]?arguments[1]:{},e=Object.assign({},f,t),i=e.root,n=e.rootMargin,d=e.threshold,u=e.load,g=e.loaded,s=void 0;\"undefined\"!=typeof window&&window.IntersectionObserver&&(s=new IntersectionObserver((r=u,a=g,function(t,e){t.forEach(function(t){(0<t.intersectionRatio||t.isIntersecting)&&(e.unobserve(t.target),m(t.target)||(r(t.target),A(t.target),a(t.target)))})}),{root:i,rootMargin:n,threshold:d}));for(var c,l=v(o,i),b=0;b<l.length;b++)(c=l[b]).getAttribute(\"data-placeholder-background\")&&(c.style.background=c.getAttribute(\"data-placeholder-background\"));return{observe:function(){for(var t=v(o,i),e=0;e<t.length;e++)m(t[e])||(s?s.observe(t[e]):(u(t[e]),A(t[e]),g(t[e])))},triggerLoad:function(t){m(t)||(u(t),A(t),g(t))},observer:s}}});</script>\n",
       "<script crossorigin=\"anonymous\" defer=\"\" integrity=\"sha256-9/aliU8dGd2tb6OSsuzixeV4y/faTqgFtohetphbbj0=\" src=\"https://code.jquery.com/jquery-3.5.1.min.js\"></script>\n",
       "<script crossorigin=\"anonymous\" defer=\"\" integrity=\"sha384-5h4UG+6GOuV9qXh6HqOLwZMY4mnLPraeTrjT5v07o347pj6IkfuoASuGBhfDsp3d\" src=\"https://stackpath.bootstrapcdn.com/bootstrap/5.0.0-alpha2/js/bootstrap.min.js\"></script>\n",
       "<script defer=\"\" src=\"https://cdn.jsdelivr.net/npm/feather-icons/dist/feather.min.js\"></script>\n",
       "<script>window.addEventListener('DOMContentLoaded', function() {feather.replace();const lazy =lozad('.lozard');lazy.observe();});</script> </body>\n",
       "</html>\n",
       ">"
      ]
     },
     "execution_count": 8,
     "metadata": {},
     "output_type": "execute_result"
    }
   ],
   "source": [
    "soup.prettify"
   ]
  },
  {
   "cell_type": "code",
   "execution_count": 9,
   "id": "9f2d35cb",
   "metadata": {},
   "outputs": [],
   "source": [
    "title=soup.title"
   ]
  },
  {
   "cell_type": "code",
   "execution_count": 10,
   "id": "b4228265",
   "metadata": {},
   "outputs": [
    {
     "data": {
      "text/plain": [
       "'Best Christmas 2022 Events & Parties Near Mumbai,MH'"
      ]
     },
     "execution_count": 10,
     "metadata": {},
     "output_type": "execute_result"
    }
   ],
   "source": [
    "title=title.text\n",
    "title"
   ]
  },
  {
   "cell_type": "code",
   "execution_count": 11,
   "id": "759e03bb",
   "metadata": {},
   "outputs": [],
   "source": [
    "body=soup.find('body')"
   ]
  },
  {
   "cell_type": "code",
   "execution_count": 12,
   "id": "bb0da728",
   "metadata": {},
   "outputs": [
    {
     "data": {
      "text/plain": [
       "<body class=\"bg-light-2\">\n",
       "<!-- topbar -->\n",
       "<header id=\"header-main\">\n",
       "<nav class=\"navbar navbar-expand-lg navbar-light bg-white\">\n",
       "<a class=\"navbar-brand d-lg-none p-2\" href=\"https://hunthalloween.com/mumbai\" title=\"Holidays Events in Mumbai\"><img alt=\"HuntHalloween Logo\" fetchpriority=\"high\" height=\"40\" id=\"navbar-logo\" src=\"https://hunthalloween.com/assets/img/HuntHalloween.svg\" style=\"max-width: 280px;margin-left: 10px;\" width=\"312\"/></a>\n",
       "<button aria-controls=\"fjNav\" aria-expanded=\"false\" aria-label=\"Toggle navigation\" class=\"navbar-toggler d-none\" data-target=\"#fjNav\" data-toggle=\"collapse\" type=\"button\">\n",
       "<span class=\"navbar-toggler-icon\"></span>\n",
       "</button>\n",
       "<div class=\"collapse navbar-collapse collapse show\" id=\"fjNav\">\n",
       "<ul class=\"navbar-nav mx-auto\">\n",
       "<li><a class=\"d-none d-lg-block p-2\" href=\"https://hunthalloween.com/mumbai\" title=\"Holidays Events in Mumbai\"><img alt=\"Halloween Events\" height=\"40\" src=\"https://hunthalloween.com/assets/img/HuntHalloween.svg\" width=\"312\"/></a></li>\n",
       "<li class=\"nav-item ml-5\" style=\"position: absolute; right: 0; top: 10px; width: 10%;\">\n",
       "<a class=\"nav-link track\" data-track=\"TopBar|clicks|Share-eventlist\" href=\"https://www.facebook.com/sharer/sharer.php?u=https://hunthalloween.com/mumbai/christmas\" rel=\"noopener noreferrer nofollow\" target=\"_blank\" title=\"Share this Page\">\n",
       "<svg id=\"Capa_1\" style=\"enable-background:new 0 0 512 512;max-width: 25px;height: 20px;\" version=\"1.1\" viewbox=\"0 0 512 512\" x=\"0px\" xml:space=\"preserve\" xmlns=\"http://www.w3.org/2000/svg\" xmlns:xlink=\"http://www.w3.org/1999/xlink\" y=\"0px\">\n",
       "<g>\n",
       "<g>\n",
       "<path d=\"M406,332c-29.636,0-55.969,14.402-72.378,36.571l-141.27-72.195C194.722,288.324,196,279.809,196,271\n",
       "\t\t\t\t\t\t\t\t\tc0-11.931-2.339-23.324-6.574-33.753l148.06-88.958C354.006,167.679,378.59,180,406,180c49.626,0,90-40.374,90-90\n",
       "\t\t\t\t\t\t\t\t\tc0-49.626-40.374-90-90-90c-49.626,0-90,40.374-90,90c0,11.47,2.161,22.443,6.09,32.54l-148.43,89.18\n",
       "\t\t\t\t\t\t\t\t\tC157.152,192.902,132.941,181,106,181c-49.626,0-90,40.374-90,90c0,49.626,40.374,90,90,90c30.122,0,56.832-14.876,73.177-37.666\n",
       "\t\t\t\t\t\t\t\t\tl140.86,71.985C317.414,403.753,316,412.714,316,422c0,49.626,40.374,90,90,90c49.626,0,90-40.374,90-90\n",
       "\t\t\t\t\t\t\t\t\tC496,372.374,455.626,332,406,332z M406,30c33.084,0,60,26.916,60,60s-26.916,60-60,60s-60-26.916-60-60S372.916,30,406,30z\n",
       "\t\t\t\t\t\t\t\t\t M106,331c-33.084,0-60-26.916-60-60s26.916-60,60-60s60,26.916,60,60S139.084,331,106,331z M406,482c-33.084,0-60-26.916-60-60\n",
       "\t\t\t\t\t\t\t\t\ts26.916-60,60-60s60,26.916,60,60S439.084,482,406,482z\"></path>\n",
       "</g></g><g></g><g></g><g></g><g></g><g></g><g></g><g></g><g></g><g></g><g></g><g></g><g></g><g></g><g></g><g></g>\n",
       "</svg>\n",
       "</a>\n",
       "</li>\n",
       "</ul>\n",
       "</div>\n",
       "</nav>\n",
       "</header> <!-- topbar -->\n",
       "<style type=\"text/css\">\n",
       "\t      \t.eventList .event-item .bottom{}\n",
       "\t      \t.eventList .event-item{border: 0;box-shadow: 0 .125rem .25rem rgba(0,0,0,.075)!important;}\n",
       "\t      \t.eventList .event-item:hover{box-shadow: 0 .5rem 1rem rgba(0,0,0,.15)!important;}\n",
       "\n",
       "\t\t\t\t\t.eventList .event-item .banner-sec a{\n",
       "\t      \t\tbackground-position: top center;\n",
       "\t      \t\twidth: 100%;\n",
       "\t      \t\tpadding-bottom: 50%;\n",
       "\t      \t}\n",
       "\t      \t.left-sec-menu{position: sticky; top:20px;}\n",
       "\t      \t.custom-content .ccc img{width: 100%;height: 100%;margin-bottom: 20px;}\n",
       "\t      \t.custom-content ul{list-style: disc;}\n",
       "\t      \t.custom-content ul li{display: list-item;margin-bottom: 10px;}\n",
       "\t</style>\n",
       "<section class=\"text-center py-2\">\n",
       "<div class=\"ads-block-1\">\n",
       "<script async=\"\" crossorigin=\"anonymous\" src=\"https://pagead2.googlesyndication.com/pagead/js/adsbygoogle.js?client=ca-pub-4300580573096565\"></script> <!-- HH-Eventlist-Top --> <ins class=\"adsbygoogle\" data-ad-client=\"ca-pub-4300580573096565\" data-ad-format=\"auto\" data-ad-slot=\"3021171273\" data-full-width-responsive=\"true\" style=\"display:block\"></ins> <script> (adsbygoogle = window.adsbygoogle || []).push({}); </script>\n",
       "</div>\n",
       "</section>\n",
       "<section class=\"slice pt-5 pb-7 bg-primary-light\">\n",
       "<div class=\"container mb-5\">\n",
       "<div class=\"row eventList justify-content-center\">\n",
       "<div class=\"col-md-11 left-sec\">\n",
       "<h1 class=\"mb-2 text-center text-primary\">Christmas Events in Mumbai 2022</h1>\n",
       "<h2 class=\"h5 mb-5 text-center text-dark\">Explore The Best Of Christmas Markets, Parties &amp; Parades in Mumbai</h2>\n",
       "<div class=\"row eventlist-row justify-content-md-center\">\n",
       "<div class=\"col-md-4 mb-3\">\n",
       "<div class=\"event-item card overflow-hidden h-100\">\n",
       "<div class=\"overflow-hidden banner-sec\">\n",
       "<a class=\"bg-light d-block\" href=\"https://hunthalloween.com/event/wed-21st-dec-latin-twist-socials-antisocial-mumbai-christmas-edition-eid4a7btkc42j\" style=\"background: url(https://cdn.hunthalloween.com/events4/banners/63de6d461b200e602a0f310812cb4ff7973162c769dd6e4142c7c95dc4668535-rimg-w960-h960-gmir?v=1671362863);background-size: cover; background-position: top center;\" target=\"_blank\" title=\"Wed 21st Dec' Latin Twist Socials @AntiSocial Mumbai ? Christmas Edition ?\"></a>\n",
       "</div>\n",
       "<div class=\"card-body py-3\">\n",
       "<a class=\"stretched-link lh-150 t-darkred text-decoration-none\" href=\"https://hunthalloween.com/event/wed-21st-dec-latin-twist-socials-antisocial-mumbai-christmas-edition-eid4a7btkc42j\" target=\"_blank\" title=\"Wed 21st Dec' Latin Twist Socials @AntiSocial Mumbai ? Christmas Edition ?\"><h3 class=\"h5 mt-1\">Wed 21st Dec' Latin Twist Socials @AntiSocial Mumbai ? Christmas Edition ?</h3></a>\n",
       "<small class=\"mt-0 mb-1 lh-170 clearfix\">antiSOCIAL</small>\n",
       "<small class=\"d-block text-sm mt-2\">21 Dec 2022</small>\n",
       "<div class=\"bottom\">\n",
       "</div>\n",
       "</div>\n",
       "</div>\n",
       "</div>\n",
       "<div class=\"col-md-4 mb-3\">\n",
       "<div class=\"event-item card overflow-hidden h-100\">\n",
       "<div class=\"overflow-hidden banner-sec\">\n",
       "<a class=\"bg-light d-block lozard\" data-background-image=\"https://cdn-alt.hunthalloween.com/thumbs/thumb6380f4adbf07c.jpg\" href=\"https://hunthalloween.com/event/santas-christmas-workshop-for-kids-1yr-3-yrs-eid1nt5u59tee\" style=\"background-size: cover; background-position: top center;\" target=\"_blank\" title=\"Santa's Christmas Workshop for kids (1yr - 3 yrs)\"></a>\n",
       "</div>\n",
       "<div class=\"card-body py-3\">\n",
       "<a class=\"stretched-link lh-150 t-darkred text-decoration-none\" href=\"https://hunthalloween.com/event/santas-christmas-workshop-for-kids-1yr-3-yrs-eid1nt5u59tee\" target=\"_blank\" title=\"Santa's Christmas Workshop for kids (1yr - 3 yrs)\"><h3 class=\"h5 mt-1\">Santa's Christmas Workshop for kids (1yr - 3 yrs)</h3></a>\n",
       "<small class=\"mt-0 mb-1 lh-170 clearfix\">Little Amigos Montessori, Model JP Road, Seven Bunglow, Andheri West, Mumbai, Maharashtra, India</small>\n",
       "<small class=\"d-block text-sm mt-2\">22 Dec 2022</small>\n",
       "<div class=\"bottom\">\n",
       "<span class=\"badge bg-light light t-gray mt-3 text-dark\">FREE</span> </div>\n",
       "</div>\n",
       "</div>\n",
       "</div>\n",
       "<div class=\"col-md-4 mb-3\">\n",
       "<div class=\"event-item card overflow-hidden h-100\">\n",
       "<div class=\"overflow-hidden banner-sec\">\n",
       "<a class=\"bg-light d-block lozard\" data-background-image=\"https://cdn.hunthalloween.com/events6/banners/7f005c8a1f731fbd5b60826499edd9176fa3374f425fe05e3011bb3dbf2c55f9-rimg-w640-h328-gmir.jpg?v=1671337134\" href=\"https://hunthalloween.com/event/christmas-party-eid4a7bv3fa5w\" style=\"background-size: cover; background-position: top center;\" target=\"_blank\" title=\"Christmas Party\"></a>\n",
       "</div>\n",
       "<div class=\"card-body py-3\">\n",
       "<a class=\"stretched-link lh-150 t-darkred text-decoration-none\" href=\"https://hunthalloween.com/event/christmas-party-eid4a7bv3fa5w\" target=\"_blank\" title=\"Christmas Party\"><h3 class=\"h5 mt-1\">Christmas Party</h3></a>\n",
       "<small class=\"mt-0 mb-1 lh-170 clearfix\">Club Aquaria</small>\n",
       "<small class=\"d-block text-sm mt-2\">22 Dec 2022</small>\n",
       "<div class=\"bottom\">\n",
       "</div>\n",
       "</div>\n",
       "</div>\n",
       "</div>\n",
       "<div class=\"col-md-4 mb-3\">\n",
       "<div class=\"event-item card overflow-hidden h-100\">\n",
       "<div class=\"overflow-hidden banner-sec\">\n",
       "<a class=\"bg-light d-block lozard\" data-background-image=\"https://cdn-alt.hunthalloween.com/thumbs/thumb6378deb5b48b4.jpg\" href=\"https://hunthalloween.com/event/christmas-andamp-new-year-utsav-2022-eid1nt91kilat\" style=\"background-size: cover; background-position: top center;\" target=\"_blank\" title=\"Christmas &amp;amp; New Year Utsav 2022\"></a>\n",
       "</div>\n",
       "<div class=\"card-body py-3\">\n",
       "<a class=\"stretched-link lh-150 t-darkred text-decoration-none\" href=\"https://hunthalloween.com/event/christmas-andamp-new-year-utsav-2022-eid1nt91kilat\" target=\"_blank\" title=\"Christmas &amp;amp; New Year Utsav 2022\"><h3 class=\"h5 mt-1\">Christmas &amp; New Year Utsav 2022</h3></a>\n",
       "<small class=\"mt-0 mb-1 lh-170 clearfix\">Scout Pavilion Hall </small>\n",
       "<small class=\"d-block text-sm mt-2\">23 Dec 2022</small>\n",
       "<div class=\"bottom\">\n",
       "<span class=\"badge bg-light light t-gray mt-3 text-dark\">FREE</span> </div>\n",
       "</div>\n",
       "</div>\n",
       "</div>\n",
       "<div class=\"col-md-4 mb-3\">\n",
       "<div class=\"event-item card overflow-hidden h-100\">\n",
       "<div class=\"overflow-hidden banner-sec\">\n",
       "<a class=\"bg-light d-block lozard\" data-background-image=\"https://cdn.hunthalloween.com/events6/banners/ed950f3cbad1eff8f88a90d83ce2dc9a1263f8823fc895ce11522f54ce75f30e-rimg-w960-h540-gmir.jpg?v=1671293393\" href=\"https://hunthalloween.com/event/christmas-party-eid4a7bubremj\" style=\"background-size: cover; background-position: top center;\" target=\"_blank\" title=\"christmas party\"></a>\n",
       "</div>\n",
       "<div class=\"card-body py-3\">\n",
       "<a class=\"stretched-link lh-150 t-darkred text-decoration-none\" href=\"https://hunthalloween.com/event/christmas-party-eid4a7bubremj\" target=\"_blank\" title=\"christmas party\"><h3 class=\"h5 mt-1\">christmas party</h3></a>\n",
       "<small class=\"mt-0 mb-1 lh-170 clearfix\">Vashi</small>\n",
       "<small class=\"d-block text-sm mt-2\">23 Dec 2022</small>\n",
       "<div class=\"bottom\">\n",
       "</div>\n",
       "</div>\n",
       "</div>\n",
       "</div>\n",
       "<div class=\"col-md-4 mb-3\">\n",
       "<div class=\"event-item card overflow-hidden h-100\">\n",
       "<div class=\"overflow-hidden banner-sec\">\n",
       "<a class=\"bg-light d-block lozard\" data-background-image=\"https://cdn-alt.hunthalloween.com/thumbs/thumb63a01f4ba5c88.jpg\" href=\"https://hunthalloween.com/event/the-craft-of-mixology-making-andamp-mastering-a-fine-cocktail-by-trove-experiences-eid1nt69gch3g\" style=\"background-size: cover; background-position: top center;\" target=\"_blank\" title=\"The Craft of Mixology Making &amp;amp; Mastering A Fine Cocktail by Trove Experiences \"></a>\n",
       "</div>\n",
       "<div class=\"card-body py-3\">\n",
       "<a class=\"stretched-link lh-150 t-darkred text-decoration-none\" href=\"https://hunthalloween.com/event/the-craft-of-mixology-making-andamp-mastering-a-fine-cocktail-by-trove-experiences-eid1nt69gch3g\" target=\"_blank\" title=\"The Craft of Mixology Making &amp;amp; Mastering A Fine Cocktail by Trove Experiences \"><h3 class=\"h5 mt-1\">The Craft of Mixology Making &amp; Mastering A Fine Cocktail by Trove Experiences </h3></a>\n",
       "<small class=\"mt-0 mb-1 lh-170 clearfix\">Mansionz Mumbai, Senapati Bapat Marg, Lower Parel, Mumbai, Maharashtra, India</small>\n",
       "<small class=\"d-block text-sm mt-2\">23 Dec 2022</small>\n",
       "<div class=\"bottom\">\n",
       "</div>\n",
       "</div>\n",
       "</div>\n",
       "</div>\n",
       "<div class=\"col-md-4 mb-3\">\n",
       "<div class=\"event-item card overflow-hidden h-100\">\n",
       "<div class=\"overflow-hidden banner-sec\">\n",
       "<a class=\"bg-light d-block lozard\" data-background-image=\"https://cdn-alt.hunthalloween.com/thumbs/thumb639ed082ee020.jpg\" href=\"https://hunthalloween.com/event/christmas-eve-special-camp-eid1nt8jp7wi3\" style=\"background-size: cover; background-position: top center;\" target=\"_blank\" title=\"Christmas eve special camp\"></a>\n",
       "</div>\n",
       "<div class=\"card-body py-3\">\n",
       "<a class=\"stretched-link lh-150 t-darkred text-decoration-none\" href=\"https://hunthalloween.com/event/christmas-eve-special-camp-eid1nt8jp7wi3\" target=\"_blank\" title=\"Christmas eve special camp\"><h3 class=\"h5 mt-1\">Christmas eve special camp</h3></a>\n",
       "<small class=\"mt-0 mb-1 lh-170 clearfix\">Vaitarna Dam, Maharashtra, India</small>\n",
       "<small class=\"d-block text-sm mt-2\">24 Dec 2022</small>\n",
       "<div class=\"bottom\">\n",
       "<span class=\"badge bg-light light t-gray mt-3 text-dark\">INR 1,899</span> </div>\n",
       "</div>\n",
       "</div>\n",
       "</div>\n",
       "<div class=\"col-md-4 mb-3\">\n",
       "<div class=\"event-item card overflow-hidden h-100\">\n",
       "<div class=\"overflow-hidden banner-sec\">\n",
       "<a class=\"bg-light d-block lozard\" data-background-image=\"https://cdn.hunthalloween.com/events1/banners/2c96c30f90240423a65b0a2cf095bcdf5c091fe0f3f480dbd7a333474ea3c2dd-rimg-w960-h540-gmir.jpg?v=1671430179\" href=\"https://hunthalloween.com/event/christmas-carnival-the-fun-fiesta-eid4a7bsi8qih\" style=\"background-size: cover; background-position: top center;\" target=\"_blank\" title=\"Christmas Carnival - The Fun Fiesta\"></a>\n",
       "</div>\n",
       "<div class=\"card-body py-3\">\n",
       "<a class=\"stretched-link lh-150 t-darkred text-decoration-none\" href=\"https://hunthalloween.com/event/christmas-carnival-the-fun-fiesta-eid4a7bsi8qih\" target=\"_blank\" title=\"Christmas Carnival - The Fun Fiesta\"><h3 class=\"h5 mt-1\">Christmas Carnival - The Fun Fiesta</h3></a>\n",
       "<small class=\"mt-0 mb-1 lh-170 clearfix\">Mulund High School</small>\n",
       "<small class=\"d-block text-sm mt-2\">24 Dec 2022</small>\n",
       "<div class=\"bottom\">\n",
       "</div>\n",
       "</div>\n",
       "</div>\n",
       "</div>\n",
       "<div class=\"col-md-4 mb-3\">\n",
       "<div class=\"event-item card overflow-hidden h-100\">\n",
       "<div class=\"overflow-hidden banner-sec\">\n",
       "<a class=\"bg-light d-block lozard\" data-background-image=\"https://cdn.hunthalloween.com/events9/banners/5ec6aa0298ab825d3527b3d705a96da9e4d43f1f53d005319937ff3c3a6224ae-rimg-w540-h960-gmir.jpg?v=1671363845\" href=\"https://hunthalloween.com/event/christmas-mela-eid4a7bujsa3b\" style=\"background-size: cover; background-position: top center;\" target=\"_blank\" title=\"Christmas Mela\"></a>\n",
       "</div>\n",
       "<div class=\"card-body py-3\">\n",
       "<a class=\"stretched-link lh-150 t-darkred text-decoration-none\" href=\"https://hunthalloween.com/event/christmas-mela-eid4a7bujsa3b\" target=\"_blank\" title=\"Christmas Mela\"><h3 class=\"h5 mt-1\">Christmas Mela</h3></a>\n",
       "<small class=\"mt-0 mb-1 lh-170 clearfix\">Chembur - चेंबूर</small>\n",
       "<small class=\"d-block text-sm mt-2\">24 Dec 2022</small>\n",
       "<div class=\"bottom\">\n",
       "</div>\n",
       "</div>\n",
       "</div>\n",
       "</div>\n",
       "<div class=\"col-md-4 mb-3\">\n",
       "<div class=\"event-item card overflow-hidden h-100\">\n",
       "<div class=\"overflow-hidden banner-sec\">\n",
       "<a class=\"bg-light d-block lozard\" data-background-image=\"https://cdn.hunthalloween.com/events10/banners/cf5c2acdbfeb304bb9668fb5d8fbd2ceac735b1e8347bcf2041fd45099e94d7a-rimg-w960-h540-gmir?v=1671326518\" href=\"https://hunthalloween.com/event/christmas-party-at-knotty-yard-eid4a7bslgv1a\" style=\"background-size: cover; background-position: top center;\" target=\"_blank\" title=\"CHRISTMAS PARTY AT KNOTTY YARD\"></a>\n",
       "</div>\n",
       "<div class=\"card-body py-3\">\n",
       "<a class=\"stretched-link lh-150 t-darkred text-decoration-none\" href=\"https://hunthalloween.com/event/christmas-party-at-knotty-yard-eid4a7bslgv1a\" target=\"_blank\" title=\"CHRISTMAS PARTY AT KNOTTY YARD\"><h3 class=\"h5 mt-1\">CHRISTMAS PARTY AT KNOTTY YARD</h3></a>\n",
       "<small class=\"mt-0 mb-1 lh-170 clearfix\">Knotty Yard</small>\n",
       "<small class=\"d-block text-sm mt-2\">24 Dec 2022</small>\n",
       "<div class=\"bottom\">\n",
       "</div>\n",
       "</div>\n",
       "</div>\n",
       "</div>\n",
       "<div class=\"col-md-4 mb-3\">\n",
       "<div class=\"event-item card overflow-hidden h-100\">\n",
       "<div class=\"overflow-hidden banner-sec\">\n",
       "<a class=\"bg-light d-block lozard\" data-background-image=\"https://cdn.hunthalloween.com/events9/banners/1776b6316c0f476a8cd84e60a80f4fe4e4ec860c019b958881eef5526e153e1b-rimg-w960-h540-gmir.jpg?v=1671478414\" href=\"https://hunthalloween.com/event/christmas-party-at-flamiingo-eid4a7bstpuon\" style=\"background-size: cover; background-position: top center;\" target=\"_blank\" title=\"CHRISTMAS PARTY AT FLAMIINGO \"></a>\n",
       "</div>\n",
       "<div class=\"card-body py-3\">\n",
       "<a class=\"stretched-link lh-150 t-darkred text-decoration-none\" href=\"https://hunthalloween.com/event/christmas-party-at-flamiingo-eid4a7bstpuon\" target=\"_blank\" title=\"CHRISTMAS PARTY AT FLAMIINGO \"><h3 class=\"h5 mt-1\">CHRISTMAS PARTY AT FLAMIINGO </h3></a>\n",
       "<small class=\"mt-0 mb-1 lh-170 clearfix\">Flamiingo Lounge - Belapur</small>\n",
       "<small class=\"d-block text-sm mt-2\">24 Dec 2022</small>\n",
       "<div class=\"bottom\">\n",
       "</div>\n",
       "</div>\n",
       "</div>\n",
       "</div>\n",
       "<div class=\"col-md-4 mb-3\">\n",
       "<div class=\"event-item card overflow-hidden h-100\">\n",
       "<div class=\"overflow-hidden banner-sec\">\n",
       "<a class=\"bg-light d-block lozard\" data-background-image=\"https://cdn-alt.hunthalloween.com/thumbs/thumb6397ff5c81c70.jpg\" href=\"https://hunthalloween.com/event/christmas-carnival-andamp-rajasthani-mela-eid1nta76aofj\" style=\"background-size: cover; background-position: top center;\" target=\"_blank\" title=\"CHRISTMAS CARNIVAL &amp;amp; RAJASTHANI MELA\"></a>\n",
       "</div>\n",
       "<div class=\"card-body py-3\">\n",
       "<a class=\"stretched-link lh-150 t-darkred text-decoration-none\" href=\"https://hunthalloween.com/event/christmas-carnival-andamp-rajasthani-mela-eid1nta76aofj\" target=\"_blank\" title=\"CHRISTMAS CARNIVAL &amp;amp; RAJASTHANI MELA\"><h3 class=\"h5 mt-1\">CHRISTMAS CARNIVAL &amp; RAJASTHANI MELA</h3></a>\n",
       "<small class=\"mt-0 mb-1 lh-170 clearfix\">Shri Sunderbai Hall</small>\n",
       "<small class=\"d-block text-sm mt-2\">25 Dec 2022</small>\n",
       "<div class=\"bottom\">\n",
       "<span class=\"badge bg-light light t-gray mt-3 text-dark\">FREE</span> </div>\n",
       "</div>\n",
       "</div>\n",
       "</div>\n",
       "<div class=\"col-md-4 mb-3\">\n",
       "<div class=\"event-item card overflow-hidden h-100\">\n",
       "<div class=\"overflow-hidden banner-sec\">\n",
       "<a class=\"bg-light d-block lozard\" data-background-image=\"https://cdn.hunthalloween.com/events5/banners/c5b5f8b1d26aaaff8be6c109c6e241720c1cf1b41c0495672d9db1c832b29028-rimg-w635-h960-gmir.jpg?v=1671455955\" href=\"https://hunthalloween.com/event/sahajyoga-meditation-experience-unconditional-joy-andamppeace-within-eid4a7bv6tmks\" style=\"background-size: cover; background-position: top center;\" target=\"_blank\" title=\"Sahajyoga meditation. Experience unconditional joy &amp;amp;peace within.\"></a>\n",
       "</div>\n",
       "<div class=\"card-body py-3\">\n",
       "<a class=\"stretched-link lh-150 t-darkred text-decoration-none\" href=\"https://hunthalloween.com/event/sahajyoga-meditation-experience-unconditional-joy-andamppeace-within-eid4a7bv6tmks\" target=\"_blank\" title=\"Sahajyoga meditation. Experience unconditional joy &amp;amp;peace within.\"><h3 class=\"h5 mt-1\">Sahajyoga meditation. Experience unconditional joy &amp;peace within.</h3></a>\n",
       "<small class=\"mt-0 mb-1 lh-170 clearfix\">Mumbai - मुंबई</small>\n",
       "<small class=\"d-block text-sm mt-2\">25 Dec 2022</small>\n",
       "<div class=\"bottom\">\n",
       "</div>\n",
       "</div>\n",
       "</div>\n",
       "</div>\n",
       "<div class=\"col-md-4 mb-3\">\n",
       "<div class=\"event-item card overflow-hidden h-100\">\n",
       "<div class=\"overflow-hidden banner-sec\">\n",
       "<a class=\"bg-light d-block lozard\" data-background-image=\"https://cdn.hunthalloween.com/events6/banners/bc3ba3cab08e0774cf5ef42f98609d4e0e483da15da2a185ceaf44dbe39f935d-rimg-w960-h503-gmir.jpg?v=1671340851\" href=\"https://hunthalloween.com/event/christmas-sail-on-a-yacht-in-mumbai-eid4a7bujsb0w\" style=\"background-size: cover; background-position: top center;\" target=\"_blank\" title=\"Christmas Sail on a Yacht in Mumbai\"></a>\n",
       "</div>\n",
       "<div class=\"card-body py-3\">\n",
       "<a class=\"stretched-link lh-150 t-darkred text-decoration-none\" href=\"https://hunthalloween.com/event/christmas-sail-on-a-yacht-in-mumbai-eid4a7bujsb0w\" target=\"_blank\" title=\"Christmas Sail on a Yacht in Mumbai\"><h3 class=\"h5 mt-1\">Christmas Sail on a Yacht in Mumbai</h3></a>\n",
       "<small class=\"mt-0 mb-1 lh-170 clearfix\">Mumbai</small>\n",
       "<small class=\"d-block text-sm mt-2\">25 Dec 2022</small>\n",
       "<div class=\"bottom\">\n",
       "<span class=\"badge bg-light light t-gray mt-3 text-dark\">INR 2,999 TO 3,999</span> </div>\n",
       "</div>\n",
       "</div>\n",
       "</div>\n",
       "<div class=\"col-md-4 mb-3\">\n",
       "<div class=\"event-item card overflow-hidden h-100\">\n",
       "<div class=\"overflow-hidden banner-sec\">\n",
       "<a class=\"bg-light d-block lozard\" data-background-image=\"https://cdn.hunthalloween.com/events2/banners/f89a7e3e69d02c4767a45fef4c77821f0e3083c4489acdb11e8ca874891a39e4-rimg-w960-h502-gmir.jpg?v=1671431275\" href=\"https://hunthalloween.com/event/blessings-bled-chimanga-performing-live-eid4a7bu6847h\" style=\"background-size: cover; background-position: top center;\" target=\"_blank\" title=\"BLESSINGS BLED CHIMANGA PERFORMING LIVE\"></a>\n",
       "</div>\n",
       "<div class=\"card-body py-3\">\n",
       "<a class=\"stretched-link lh-150 t-darkred text-decoration-none\" href=\"https://hunthalloween.com/event/blessings-bled-chimanga-performing-live-eid4a7bu6847h\" target=\"_blank\" title=\"BLESSINGS BLED CHIMANGA PERFORMING LIVE\"><h3 class=\"h5 mt-1\">BLESSINGS BLED CHIMANGA PERFORMING LIVE</h3></a>\n",
       "<small class=\"mt-0 mb-1 lh-170 clearfix\">The Finch Mumbai</small>\n",
       "<small class=\"d-block text-sm mt-2\">25 Dec 2022</small>\n",
       "<div class=\"bottom\">\n",
       "</div>\n",
       "</div>\n",
       "</div>\n",
       "</div>\n",
       "<div class=\"col-md-4 mb-3\">\n",
       "<div class=\"event-item card overflow-hidden h-100\">\n",
       "<div class=\"overflow-hidden banner-sec\">\n",
       "<a class=\"bg-light d-block lozard\" data-background-image=\"https://cdn-alt.hunthalloween.com/thumbs/thumb6396ecf1d6bc5.jpg\" href=\"https://hunthalloween.com/event/kidz-andamp-family-fest-eid1nt52obplo\" style=\"background-size: cover; background-position: top center;\" target=\"_blank\" title=\"Kidz &amp;amp; Family Fest \"></a>\n",
       "</div>\n",
       "<div class=\"card-body py-3\">\n",
       "<a class=\"stretched-link lh-150 t-darkred text-decoration-none\" href=\"https://hunthalloween.com/event/kidz-andamp-family-fest-eid1nt52obplo\" target=\"_blank\" title=\"Kidz &amp;amp; Family Fest \"><h3 class=\"h5 mt-1\">Kidz &amp; Family Fest </h3></a>\n",
       "<small class=\"mt-0 mb-1 lh-170 clearfix\">World Trade Center, Cuffe Parade, Mumbai, Maharashtra</small>\n",
       "<small class=\"d-block text-sm mt-2\">14 Jan 2023</small>\n",
       "<div class=\"bottom\">\n",
       "</div>\n",
       "</div>\n",
       "</div>\n",
       "</div>\n",
       "</div>\n",
       "</div>\n",
       "</div>\n",
       "</div>\n",
       "<script type=\"application/ld+json\">[{\"@context\":\"https:\\/\\/schema.org\",\"@type\":\"Event\",\"name\":\"Wed 21st Dec' Latin Twist Socials @AntiSocial Mumbai ? Christmas Edition ?\",\"image\":\"https:\\/\\/cdn.hunthalloween.com\\/events4\\/banners\\/63de6d461b200e602a0f310812cb4ff7973162c769dd6e4142c7c95dc4668535-rimg-w960-h960-gmir?v=1671362863\",\"startDate\":\"2022-12-21\",\"endDate\":\"2022-12-22\",\"url\":\"https:\\/\\/hunthalloween.com\\/event\\/wed-21st-dec-latin-twist-socials-antisocial-mumbai-christmas-edition-eid4a7btkc42j\",\"eventStatus\":\"https:\\/\\/schema.org\\/EventScheduled\",\"location\":{\"@type\":\"place\",\"name\":\"antiSOCIAL\",\"address\":{\"@type\":\"PostalAddress\",\"streetAddress\":\"Mathuradas Mill Compound, 242, Lower Parel\",\"addressLocality\":\"Mumbai\",\"addressRegion\":\"MH\",\"addressCountry\":\"IN\"},\"geo\":{\"@type\":\"GeoCoordinates\",\"latitude\":\"18.999205\",\"longitude\":\"72.830063\"}},\"eventAttendanceMode\":\"https:\\/\\/schema.org\\/OfflineEventAttendanceMode\",\"offers\":[],\"organizer\":[{\"@type\":\"Organization\",\"name\":\"Mary Lobo Latin Twist\"}]},{\"@context\":\"https:\\/\\/schema.org\",\"@type\":\"Event\",\"name\":\"Santa's Christmas Workshop for kids (1yr - 3 yrs)\",\"image\":\"https:\\/\\/cdn-alt.hunthalloween.com\\/thumbs\\/thumb6380f4adbf07c.jpg\",\"startDate\":\"2022-12-22\",\"endDate\":\"2022-12-22\",\"url\":\"https:\\/\\/hunthalloween.com\\/event\\/santas-christmas-workshop-for-kids-1yr-3-yrs-eid1nt5u59tee\",\"eventStatus\":\"https:\\/\\/schema.org\\/EventScheduled\",\"location\":{\"@type\":\"place\",\"name\":\"Little Amigos Montessori, Model JP Road, Seven Bunglow, Andheri West, Mumbai, Maharashtra, India\",\"address\":{\"@type\":\"PostalAddress\",\"name\":\"Little Amigos Montessori, Model JP Road, Seven Bunglow, Andheri West, Mumbai, Maharashtra, India\",\"addressLocality\":\"Mumbai\",\"addressRegion\":\"MH\",\"addressCountry\":\"IN\"},\"geo\":{\"@type\":\"GeoCoordinates\",\"latitude\":\"19.075983\",\"longitude\":\"72.877655\"}},\"eventAttendanceMode\":\"https:\\/\\/schema.org\\/OfflineEventAttendanceMode\",\"offers\":[{\"@type\":\"AggregateOffer\",\"lowPrice\":\"0\",\"highPrice\":\"0\",\"url\":\"https:\\/\\/hunthalloween.com\\/event\\/santas-christmas-workshop-for-kids-1yr-3-yrs-eid1nt5u59tee\"}],\"organizer\":[{\"@type\":\"Organization\",\"name\":\"Little Amigos Montessori LLP\"}]},{\"@context\":\"https:\\/\\/schema.org\",\"@type\":\"Event\",\"name\":\"Christmas Party\",\"image\":\"https:\\/\\/cdn.hunthalloween.com\\/events6\\/banners\\/7f005c8a1f731fbd5b60826499edd9176fa3374f425fe05e3011bb3dbf2c55f9-rimg-w640-h328-gmir.jpg?v=1671337134\",\"startDate\":\"2022-12-22\",\"url\":\"https:\\/\\/hunthalloween.com\\/event\\/christmas-party-eid4a7bv3fa5w\",\"eventStatus\":\"https:\\/\\/schema.org\\/EventScheduled\",\"location\":{\"@type\":\"place\",\"name\":\"Club Aquaria\",\"address\":{\"@type\":\"PostalAddress\",\"streetAddress\":\",Mumbai, India\",\"addressLocality\":\"Mumbai\",\"addressRegion\":\"MH\",\"addressCountry\":\"IN\"},\"geo\":{\"@type\":\"GeoCoordinates\",\"latitude\":\"19.240173\",\"longitude\":\"72.848083\"}},\"eventAttendanceMode\":\"https:\\/\\/schema.org\\/OfflineEventAttendanceMode\",\"offers\":[],\"organizer\":[{\"@type\":\"Organization\",\"name\":\"Club Aquaria\"}]},{\"@context\":\"https:\\/\\/schema.org\",\"@type\":\"Event\",\"name\":\"Christmas &amp; New Year Utsav 2022\",\"image\":\"https:\\/\\/cdn-alt.hunthalloween.com\\/thumbs\\/thumb6378deb5b48b4.jpg\",\"startDate\":\"2022-12-23\",\"endDate\":\"2022-12-25\",\"url\":\"https:\\/\\/hunthalloween.com\\/event\\/christmas-andamp-new-year-utsav-2022-eid1nt91kilat\",\"eventStatus\":\"https:\\/\\/schema.org\\/EventScheduled\",\"location\":{\"@type\":\"place\",\"name\":\"Scout Pavilion Hall \",\"address\":{\"@type\":\"PostalAddress\",\"streetAddress\":\"Scout Pavilion Hall, Shivaji Park, Dadar, Mumbai\",\"addressLocality\":\"Mumbai\",\"addressRegion\":\"MH\",\"addressCountry\":\"IN\"},\"geo\":{\"@type\":\"GeoCoordinates\",\"latitude\":\"19.075983\",\"longitude\":\"72.877655\"}},\"eventAttendanceMode\":\"https:\\/\\/schema.org\\/OfflineEventAttendanceMode\",\"offers\":[{\"@type\":\"AggregateOffer\",\"lowPrice\":\"0\",\"highPrice\":\"0\",\"url\":\"https:\\/\\/hunthalloween.com\\/event\\/christmas-andamp-new-year-utsav-2022-eid1nt91kilat\"}],\"organizer\":[{\"@type\":\"Organization\",\"name\":\"wooffytoons events\"}]},{\"@context\":\"https:\\/\\/schema.org\",\"@type\":\"Event\",\"name\":\"christmas party\",\"image\":\"https:\\/\\/cdn.hunthalloween.com\\/events6\\/banners\\/ed950f3cbad1eff8f88a90d83ce2dc9a1263f8823fc895ce11522f54ce75f30e-rimg-w960-h540-gmir.jpg?v=1671293393\",\"startDate\":\"2022-12-23\",\"url\":\"https:\\/\\/hunthalloween.com\\/event\\/christmas-party-eid4a7bubremj\",\"eventStatus\":\"https:\\/\\/schema.org\\/EventScheduled\",\"location\":{\"@type\":\"place\",\"name\":\"Vashi\",\"address\":{\"@type\":\"PostalAddress\",\"streetAddress\":\",Navi Mumbai, India\",\"addressLocality\":\"Mumbai\",\"addressRegion\":\"MH\",\"addressCountry\":\"IN\"},\"geo\":{\"@type\":\"GeoCoordinates\",\"latitude\":\"19.062504\",\"longitude\":\"73.005234\"}},\"eventAttendanceMode\":\"https:\\/\\/schema.org\\/OfflineEventAttendanceMode\",\"offers\":[],\"organizer\":[{\"@type\":\"Organization\",\"name\":\"Priya jetking1\"}]},{\"@context\":\"https:\\/\\/schema.org\",\"@type\":\"Event\",\"name\":\"The Craft of Mixology Making &amp; Mastering A Fine Cocktail by Trove Experiences\",\"image\":\"https:\\/\\/cdn-alt.hunthalloween.com\\/thumbs\\/thumb63a01f4ba5c88.jpg\",\"startDate\":\"2022-12-23\",\"endDate\":\"2022-12-23\",\"url\":\"https:\\/\\/hunthalloween.com\\/event\\/the-craft-of-mixology-making-andamp-mastering-a-fine-cocktail-by-trove-experiences-eid1nt69gch3g\",\"eventStatus\":\"https:\\/\\/schema.org\\/EventScheduled\",\"location\":{\"@type\":\"place\",\"name\":\"Mansionz Mumbai, Senapati Bapat Marg, Lower Parel, Mumbai, Maharashtra, India\",\"address\":{\"@type\":\"PostalAddress\",\"name\":\"Mansionz Mumbai, Senapati Bapat Marg, Lower Parel, Mumbai, Maharashtra, India\",\"addressLocality\":\"Mumbai\",\"addressRegion\":\"MH\",\"addressCountry\":\"IN\"},\"geo\":{\"@type\":\"GeoCoordinates\",\"latitude\":\"19.075983\",\"longitude\":\"72.877655\"}},\"eventAttendanceMode\":\"https:\\/\\/schema.org\\/OfflineEventAttendanceMode\",\"offers\":[],\"organizer\":[{\"@type\":\"Organization\",\"name\":\"Trove Experiences \"}]},{\"@context\":\"https:\\/\\/schema.org\",\"@type\":\"Event\",\"name\":\"Christmas eve special camp\",\"image\":\"https:\\/\\/cdn-alt.hunthalloween.com\\/thumbs\\/thumb639ed082ee020.jpg\",\"startDate\":\"2022-12-24\",\"endDate\":\"2022-12-25\",\"url\":\"https:\\/\\/hunthalloween.com\\/event\\/christmas-eve-special-camp-eid1nt8jp7wi3\",\"eventStatus\":\"https:\\/\\/schema.org\\/EventScheduled\",\"location\":{\"@type\":\"place\",\"name\":\"Vaitarna Dam, Maharashtra, India\",\"address\":{\"@type\":\"PostalAddress\",\"name\":\"Vaitarna Dam, Maharashtra, India, Mumbai, India\",\"addressLocality\":\"Mumbai\",\"addressRegion\":\"MH\",\"addressCountry\":\"IN\"},\"geo\":{\"@type\":\"GeoCoordinates\",\"latitude\":\"19.075983\",\"longitude\":\"72.877655\"}},\"eventAttendanceMode\":\"https:\\/\\/schema.org\\/OfflineEventAttendanceMode\",\"offers\":[{\"@type\":\"AggregateOffer\",\"lowPrice\":\"1899\",\"highPrice\":\"1899\",\"url\":\"https:\\/\\/hunthalloween.com\\/event\\/christmas-eve-special-camp-eid1nt8jp7wi3\"}],\"organizer\":[{\"@type\":\"Organization\",\"name\":\"Swashbucklers\"}]},{\"@context\":\"https:\\/\\/schema.org\",\"@type\":\"Event\",\"name\":\"Christmas Carnival - The Fun Fiesta\",\"image\":\"https:\\/\\/cdn.hunthalloween.com\\/events1\\/banners\\/2c96c30f90240423a65b0a2cf095bcdf5c091fe0f3f480dbd7a333474ea3c2dd-rimg-w960-h540-gmir.jpg?v=1671430179\",\"startDate\":\"2022-12-24\",\"endDate\":\"2022-12-25\",\"url\":\"https:\\/\\/hunthalloween.com\\/event\\/christmas-carnival-the-fun-fiesta-eid4a7bsi8qih\",\"eventStatus\":\"https:\\/\\/schema.org\\/EventScheduled\",\"location\":{\"@type\":\"place\",\"name\":\"Mulund High School\",\"address\":{\"@type\":\"PostalAddress\",\"streetAddress\":\"Chandan Baug Lane, Mulund West,Mumbai, India\",\"addressLocality\":\"Mumbai\",\"addressRegion\":\"MH\",\"addressCountry\":\"IN\"},\"geo\":{\"@type\":\"GeoCoordinates\",\"latitude\":\"19.176706\",\"longitude\":\"72.950043\"}},\"eventAttendanceMode\":\"https:\\/\\/schema.org\\/OfflineEventAttendanceMode\",\"offers\":[],\"organizer\":[{\"@type\":\"Organization\",\"name\":\"TheFun Fiesta\"}]},{\"@context\":\"https:\\/\\/schema.org\",\"@type\":\"Event\",\"name\":\"Christmas Mela\",\"image\":\"https:\\/\\/cdn.hunthalloween.com\\/events9\\/banners\\/5ec6aa0298ab825d3527b3d705a96da9e4d43f1f53d005319937ff3c3a6224ae-rimg-w540-h960-gmir.jpg?v=1671363845\",\"startDate\":\"2022-12-24\",\"endDate\":\"2022-12-24\",\"url\":\"https:\\/\\/hunthalloween.com\\/event\\/christmas-mela-eid4a7bujsa3b\",\"eventStatus\":\"https:\\/\\/schema.org\\/EventScheduled\",\"location\":{\"@type\":\"place\",\"name\":\"Chembur - \\u091a\\u0947\\u0902\\u092c\\u0942\\u0930\",\"address\":{\"@type\":\"PostalAddress\",\"streetAddress\":\"Chembur is a suburb in eastern Mumbai, India. It is 15 km from downtown Mumbai and 10 km from Chhatrapati Shivaji International Airport,Mumbai, India\",\"addressLocality\":\"Mumbai\",\"addressRegion\":\"MH\",\"addressCountry\":\"IN\"},\"geo\":{\"@type\":\"GeoCoordinates\",\"latitude\":\"19.188580\",\"longitude\":\"72.853630\"}},\"eventAttendanceMode\":\"https:\\/\\/schema.org\\/OfflineEventAttendanceMode\",\"offers\":[],\"organizer\":[{\"@type\":\"Organization\",\"name\":\"Ranu Thapar\"}]},{\"@context\":\"https:\\/\\/schema.org\",\"@type\":\"Event\",\"name\":\"CHRISTMAS PARTY AT KNOTTY YARD\",\"image\":\"https:\\/\\/cdn.hunthalloween.com\\/events10\\/banners\\/cf5c2acdbfeb304bb9668fb5d8fbd2ceac735b1e8347bcf2041fd45099e94d7a-rimg-w960-h540-gmir?v=1671326518\",\"startDate\":\"2022-12-24\",\"endDate\":\"2022-12-25\",\"url\":\"https:\\/\\/hunthalloween.com\\/event\\/christmas-party-at-knotty-yard-eid4a7bslgv1a\",\"eventStatus\":\"https:\\/\\/schema.org\\/EventScheduled\",\"location\":{\"@type\":\"place\",\"name\":\"Knotty Yard\",\"address\":{\"@type\":\"PostalAddress\",\"streetAddress\":\"KNOTTY YARD, 1st floor, opposite Powai Hiranandani Bus depot, Besides Jal Vayu Vihar, above China Valley. Powai,Mumbai, India\",\"addressLocality\":\"Mumbai\",\"addressRegion\":\"MH\",\"addressCountry\":\"IN\"},\"geo\":{\"@type\":\"GeoCoordinates\",\"latitude\":\"19.118151\",\"longitude\":\"72.906448\"}},\"eventAttendanceMode\":\"https:\\/\\/schema.org\\/OfflineEventAttendanceMode\",\"offers\":[],\"organizer\":[{\"@type\":\"Organization\",\"name\":\"Knottyyard.Powai\"}]},{\"@context\":\"https:\\/\\/schema.org\",\"@type\":\"Event\",\"name\":\"CHRISTMAS PARTY AT FLAMIINGO\",\"image\":\"https:\\/\\/cdn.hunthalloween.com\\/events9\\/banners\\/1776b6316c0f476a8cd84e60a80f4fe4e4ec860c019b958881eef5526e153e1b-rimg-w960-h540-gmir.jpg?v=1671478414\",\"startDate\":\"2022-12-24\",\"endDate\":\"2022-12-25\",\"url\":\"https:\\/\\/hunthalloween.com\\/event\\/christmas-party-at-flamiingo-eid4a7bstpuon\",\"eventStatus\":\"https:\\/\\/schema.org\\/EventScheduled\",\"location\":{\"@type\":\"place\",\"name\":\"Flamiingo Lounge - Belapur\",\"address\":{\"@type\":\"PostalAddress\",\"streetAddress\":\"hilton centre , shop no 111, 112 , Plot no 66, Sector 11,  Cbd Belapur,Navi Mumbai, India\",\"addressLocality\":\"Mumbai\",\"addressRegion\":\"MH\",\"addressCountry\":\"IN\"},\"geo\":{\"@type\":\"GeoCoordinates\",\"latitude\":\"19.013754\",\"longitude\":\"73.037910\"}},\"eventAttendanceMode\":\"https:\\/\\/schema.org\\/OfflineEventAttendanceMode\",\"offers\":[],\"organizer\":[{\"@type\":\"Organization\",\"name\":\"Flamiingo Lounge - Belapur\"}]},{\"@context\":\"https:\\/\\/schema.org\",\"@type\":\"Event\",\"name\":\"CHRISTMAS CARNIVAL &amp; RAJASTHANI MELA\",\"image\":\"https:\\/\\/cdn-alt.hunthalloween.com\\/thumbs\\/thumb6397ff5c81c70.jpg\",\"startDate\":\"2022-12-25\",\"endDate\":\"2022-12-25\",\"url\":\"https:\\/\\/hunthalloween.com\\/event\\/christmas-carnival-andamp-rajasthani-mela-eid1nta76aofj\",\"eventStatus\":\"https:\\/\\/schema.org\\/EventScheduled\",\"location\":{\"@type\":\"place\",\"name\":\"Shri Sunderbai Hall\",\"address\":{\"@type\":\"PostalAddress\",\"streetAddress\":\"Shri Sunderbai Hall, Opp. Patkar Hall, Marine Lines, Mumbai 400020\",\"addressLocality\":\"Mumbai\",\"addressRegion\":\"MH\",\"addressCountry\":\"IN\"},\"geo\":{\"@type\":\"GeoCoordinates\",\"latitude\":\"19.075983\",\"longitude\":\"72.877655\"}},\"eventAttendanceMode\":\"https:\\/\\/schema.org\\/OfflineEventAttendanceMode\",\"offers\":[{\"@type\":\"AggregateOffer\",\"lowPrice\":\"0\",\"highPrice\":\"0\",\"url\":\"https:\\/\\/hunthalloween.com\\/event\\/christmas-carnival-andamp-rajasthani-mela-eid1nta76aofj\"}],\"organizer\":[{\"@type\":\"Organization\",\"name\":\"Krutarth Kadakia\"}]},{\"@context\":\"https:\\/\\/schema.org\",\"@type\":\"Event\",\"name\":\"Sahajyoga meditation. Experience unconditional joy &amp;peace within.\",\"image\":\"https:\\/\\/cdn.hunthalloween.com\\/events5\\/banners\\/c5b5f8b1d26aaaff8be6c109c6e241720c1cf1b41c0495672d9db1c832b29028-rimg-w635-h960-gmir.jpg?v=1671455955\",\"startDate\":\"2022-12-25\",\"endDate\":\"2022-12-25\",\"url\":\"https:\\/\\/hunthalloween.com\\/event\\/sahajyoga-meditation-experience-unconditional-joy-andamppeace-within-eid4a7bv6tmks\",\"eventStatus\":\"https:\\/\\/schema.org\\/EventScheduled\",\"location\":{\"@type\":\"place\",\"name\":\"Mumbai - \\u092e\\u0941\\u0902\\u092c\\u0908\",\"address\":{\"@type\":\"PostalAddress\",\"streetAddress\":\"Mumbai,Mumbai, India\",\"addressLocality\":\"Mumbai\",\"addressRegion\":\"MH\",\"addressCountry\":\"IN\"},\"geo\":{\"@type\":\"GeoCoordinates\",\"latitude\":\"18.952896\",\"longitude\":\"72.832344\"}},\"eventAttendanceMode\":\"https:\\/\\/schema.org\\/OfflineEventAttendanceMode\",\"offers\":[],\"organizer\":[{\"@type\":\"Organization\",\"name\":\"Radheshyam Dhanuka\"}]},{\"@context\":\"https:\\/\\/schema.org\",\"@type\":\"Event\",\"name\":\"Christmas Sail on a Yacht in Mumbai\",\"image\":\"https:\\/\\/cdn.hunthalloween.com\\/events6\\/banners\\/bc3ba3cab08e0774cf5ef42f98609d4e0e483da15da2a185ceaf44dbe39f935d-rimg-w960-h503-gmir.jpg?v=1671340851\",\"startDate\":\"2022-12-25\",\"endDate\":\"2022-12-25\",\"url\":\"https:\\/\\/hunthalloween.com\\/event\\/christmas-sail-on-a-yacht-in-mumbai-eid4a7bujsb0w\",\"eventStatus\":\"https:\\/\\/schema.org\\/EventScheduled\",\"location\":{\"@type\":\"place\",\"name\":\"Mumbai\",\"address\":{\"@type\":\"PostalAddress\",\"name\":\"Mumbai, India\",\"addressLocality\":\"Mumbai\",\"addressRegion\":\"MH\",\"addressCountry\":\"IN\"},\"geo\":{\"@type\":\"GeoCoordinates\",\"latitude\":\"18.931829\",\"longitude\":\"72.836128\"}},\"eventAttendanceMode\":\"https:\\/\\/schema.org\\/OfflineEventAttendanceMode\",\"offers\":[{\"@type\":\"AggregateOffer\",\"lowPrice\":\"2999\",\"highPrice\":\"3999\",\"url\":\"https:\\/\\/hunthalloween.com\\/event\\/christmas-sail-on-a-yacht-in-mumbai-eid4a7bujsb0w\"}],\"organizer\":[{\"@type\":\"Organization\",\"name\":\"Captain Jack India\"}]},{\"@context\":\"https:\\/\\/schema.org\",\"@type\":\"Event\",\"name\":\"BLESSINGS BLED CHIMANGA PERFORMING LIVE\",\"image\":\"https:\\/\\/cdn.hunthalloween.com\\/events2\\/banners\\/f89a7e3e69d02c4767a45fef4c77821f0e3083c4489acdb11e8ca874891a39e4-rimg-w960-h502-gmir.jpg?v=1671431275\",\"startDate\":\"2022-12-25\",\"url\":\"https:\\/\\/hunthalloween.com\\/event\\/blessings-bled-chimanga-performing-live-eid4a7bu6847h\",\"eventStatus\":\"https:\\/\\/schema.org\\/EventScheduled\",\"location\":{\"@type\":\"place\",\"name\":\"The Finch Mumbai\",\"address\":{\"@type\":\"PostalAddress\",\"streetAddress\":\"The Finch Shah Industrial Estate, Opposite to Huntsman Building, Saki Vihar Rd, next to John Baker, Andheri East, Mumbai, Maharashtra 400072,Mumbai, India\",\"addressLocality\":\"Mumbai\",\"addressRegion\":\"MH\",\"addressCountry\":\"IN\"},\"geo\":{\"@type\":\"GeoCoordinates\",\"latitude\":\"19.114929\",\"longitude\":\"72.888779\"}},\"eventAttendanceMode\":\"https:\\/\\/schema.org\\/OfflineEventAttendanceMode\",\"offers\":[],\"organizer\":[{\"@type\":\"Organization\",\"name\":\"The Finch Mumbai\"}]},{\"@context\":\"https:\\/\\/schema.org\",\"@type\":\"Event\",\"name\":\"Kidz &amp; Family Fest\",\"image\":\"https:\\/\\/cdn-alt.hunthalloween.com\\/thumbs\\/thumb6396ecf1d6bc5.jpg\",\"startDate\":\"2023-01-14\",\"endDate\":\"2023-01-15\",\"url\":\"https:\\/\\/hunthalloween.com\\/event\\/kidz-andamp-family-fest-eid1nt52obplo\",\"eventStatus\":\"https:\\/\\/schema.org\\/EventScheduled\",\"location\":{\"@type\":\"place\",\"name\":\"World Trade Center, Cuffe Parade, Mumbai, Maharashtra\",\"address\":{\"@type\":\"PostalAddress\",\"streetAddress\":\"Gate No 3, World Trade Center, Cuffe Parade, Mumbai 400005\",\"addressLocality\":\"Mumbai\",\"addressRegion\":\"MH\",\"addressCountry\":\"IN\"},\"geo\":{\"@type\":\"GeoCoordinates\",\"latitude\":\"19.075983\",\"longitude\":\"72.877655\"}},\"eventAttendanceMode\":\"https:\\/\\/schema.org\\/OfflineEventAttendanceMode\",\"offers\":[],\"organizer\":[{\"@type\":\"Organization\",\"name\":\"Affairs Events & Exhibitions\"}]}]</script>\n",
       "<div class=\"bg-primary-light mt-3\">\n",
       "<div class=\"row m-0\">\n",
       "<div class=\"container d-flex justify-content-center mt-4 mb-3 text-white\">\n",
       "<nav aria-label=\"breadcrumb\" style=\"--bs-breadcrumb-divider: url(&quot;data:image/svg+xml,%3Csvg xmlns='http://www.w3.org/2000/svg' width='8' height='8'%3E%3Cpath d='M2.5 0L1 1.5 3.5 4 1 6.5 2.5 8l4-4-4-4z' fill='%236c757d'/%3E%3C/svg%3E&quot;);\">\n",
       "<ol class=\"breadcrumb breadcrumb-links\" itemscope=\"\" itemtype=\"https://schema.org/BreadcrumbList\">\n",
       "<li class=\"breadcrumb-item\" itemprop=\"itemListElement\" itemscope=\"\" itemtype=\"https://schema.org/ListItem\"><a class=\"\" href=\"https://hunthalloween.com\" itemid=\"https://hunthalloween.com\" itemprop=\"item\" itemscope=\"\" itemtype=\"https://schema.org/WebPage\"><span itemprop=\"name\">Home</span></a><meta content=\"1\" itemprop=\"position\"/></li>\n",
       "<li class=\"breadcrumb-item\" itemprop=\"itemListElement\" itemscope=\"\" itemtype=\"https://schema.org/ListItem\"><a class=\"\" href=\"https://hunthalloween.com/mumbai\" itemid=\"https://hunthalloween.com/mumbai\" itemprop=\"item\" itemscope=\"\" itemtype=\"https://schema.org/WebPage\"><span itemprop=\"name\">Mumbai Events</span></a><meta content=\"2\" itemprop=\"position\"/></li>\n",
       "<li aria-current=\"page\" class=\"breadcrumb-item active\" itemprop=\"itemListElement\" itemscope=\"\" itemtype=\"https://schema.org/ListItem\"><span itemprop=\"name\">Christmas in Mumbai</span><meta content=\"3\" itemprop=\"position\"/></li>\n",
       "</ol>\n",
       "</nav>\n",
       "</div>\n",
       "</div>\n",
       "</div>\n",
       "</section>\n",
       "<footer class=\"position-relative bg-secondary\" id=\"footer-main\">\n",
       "<div class=\"footer footer-dark b-gray\">\n",
       "<div class=\"container\">\n",
       "<div class=\"row align-items-center justify-content-md-between pb-4 pt-4\">\n",
       "<div class=\"col-md-5\">\n",
       "<div class=\"copyright text-sm font-weight-bold text-center text-md-left\">© 2022 HuntHalloween.com</div>\n",
       "</div>\n",
       "<div class=\"col-md-7\">\n",
       "<ul class=\"nav justify-content-center justify-content-md-end mt-3 mt-md-0\">\n",
       "<li class=\"nav-item\"><a class=\"nav-link\" href=\"https://hunthalloween.com\" title=\"HuntHalloween Homepage\">Home</a></li>\n",
       "<li class=\"nav-item\"><a class=\"nav-link\" href=\"https://hunthalloween.com/pages/contact\" title=\"Contact Us\">Contact</a></li>\n",
       "<li class=\"nav-item\"><a class=\"nav-link\" href=\"https://hunthalloween.com/pages/privacy\" rel=\"nofollow\" title=\"Privacy Policy\">Privacy</a></li>\n",
       "</ul>\n",
       "</div>\n",
       "</div>\n",
       "</div>\n",
       "</div>\n",
       "</footer>\n",
       "<link href=\"https://fonts.googleapis.com/css2?family=Montserrat:ital,wght@0,400;0,600;0,700;1,400;1,700&amp;family=Shadows+Into+Light&amp;display=swap\" rel=\"stylesheet\"/>\n",
       "<link href=\"https://hunthalloween.com/assets/css/hhtheme.css?v=4\" media=\"print\" onload=\"this.media='all'; this.onload=null;\" rel=\"stylesheet\"/>\n",
       "<!-- Global site tag (gtag.js) - Google Analytics -->\n",
       "<script async=\"\" src=\"https://www.googletagmanager.com/gtag/js?id=G-KH8C231NFW\"></script>\n",
       "<script type=\"text/javascript\">/*! lozad.js - v1.16.0 */\n",
       "!function(t,e){\"object\"==typeof exports&&\"undefined\"!=typeof module?module.exports=e():\"function\"==typeof define&&define.amd?define(e):t.lozad=e()}(this,function(){\"use strict\";\n",
       "var g=\"undefined\"!=typeof document&&document.documentMode,f={rootMargin:\"0px\",threshold:0,load:function(t){if(\"picture\"===t.nodeName.toLowerCase()){var e=t.querySelector(\"img\"),r=!1;null===e&&(e=document.createElement(\"img\"),r=!0),g&&t.getAttribute(\"data-iesrc\")&&(e.src=t.getAttribute(\"data-iesrc\")),t.getAttribute(\"data-alt\")&&(e.alt=t.getAttribute(\"data-alt\")),r&&t.append(e)}if(\"video\"===t.nodeName.toLowerCase()&&!t.getAttribute(\"data-src\")&&t.children){for(var a=t.children,o=void 0,i=0;i<=a.length-1;i++)(o=a[i].getAttribute(\"data-src\"))&&(a[i].src=o);t.load()}t.getAttribute(\"data-poster\")&&(t.poster=t.getAttribute(\"data-poster\")),t.getAttribute(\"data-src\")&&(t.src=t.getAttribute(\"data-src\")),t.getAttribute(\"data-srcset\")&&t.setAttribute(\"srcset\",t.getAttribute(\"data-srcset\"));var n=\",\";if(t.getAttribute(\"data-background-delimiter\")&&(n=t.getAttribute(\"data-background-delimiter\")),t.getAttribute(\"data-background-image\"))t.style.backgroundImage=\"url('\"+t.getAttribute(\"data-background-image\").split(n).join(\"'),url('\")+\"')\";else if(t.getAttribute(\"data-background-image-set\")){var d=t.getAttribute(\"data-background-image-set\").split(n),u=d[0].substr(0,d[0].indexOf(\" \"))||d[0];// Substring before ... 1x\n",
       "u=-1===u.indexOf(\"url(\")?\"url(\"+u+\")\":u,1===d.length?t.style.backgroundImage=u:t.setAttribute(\"style\",(t.getAttribute(\"style\")||\"\")+\"background-image: \"+u+\"; background-image: -webkit-image-set(\"+d+\"); background-image: image-set(\"+d+\")\")}t.getAttribute(\"data-toggle-class\")&&t.classList.toggle(t.getAttribute(\"data-toggle-class\"))},loaded:function(){}};function A(t){t.setAttribute(\"data-loaded\",!0)}var m=function(t){return\"true\"===t.getAttribute(\"data-loaded\")},v=function(t){var e=1<arguments.length&&void 0!==arguments[1]?arguments[1]:document;return t instanceof Element?[t]:t instanceof NodeList?t:e.querySelectorAll(t)};return function(){var r,a,o=0<arguments.length&&void 0!==arguments[0]?arguments[0]:\".lozad\",t=1<arguments.length&&void 0!==arguments[1]?arguments[1]:{},e=Object.assign({},f,t),i=e.root,n=e.rootMargin,d=e.threshold,u=e.load,g=e.loaded,s=void 0;\"undefined\"!=typeof window&&window.IntersectionObserver&&(s=new IntersectionObserver((r=u,a=g,function(t,e){t.forEach(function(t){(0<t.intersectionRatio||t.isIntersecting)&&(e.unobserve(t.target),m(t.target)||(r(t.target),A(t.target),a(t.target)))})}),{root:i,rootMargin:n,threshold:d}));for(var c,l=v(o,i),b=0;b<l.length;b++)(c=l[b]).getAttribute(\"data-placeholder-background\")&&(c.style.background=c.getAttribute(\"data-placeholder-background\"));return{observe:function(){for(var t=v(o,i),e=0;e<t.length;e++)m(t[e])||(s?s.observe(t[e]):(u(t[e]),A(t[e]),g(t[e])))},triggerLoad:function(t){m(t)||(u(t),A(t),g(t))},observer:s}}});</script>\n",
       "<script crossorigin=\"anonymous\" defer=\"\" integrity=\"sha256-9/aliU8dGd2tb6OSsuzixeV4y/faTqgFtohetphbbj0=\" src=\"https://code.jquery.com/jquery-3.5.1.min.js\"></script>\n",
       "<script crossorigin=\"anonymous\" defer=\"\" integrity=\"sha384-5h4UG+6GOuV9qXh6HqOLwZMY4mnLPraeTrjT5v07o347pj6IkfuoASuGBhfDsp3d\" src=\"https://stackpath.bootstrapcdn.com/bootstrap/5.0.0-alpha2/js/bootstrap.min.js\"></script>\n",
       "<script defer=\"\" src=\"https://cdn.jsdelivr.net/npm/feather-icons/dist/feather.min.js\"></script>\n",
       "<script>window.addEventListener('DOMContentLoaded', function() {feather.replace();const lazy =lozad('.lozard');lazy.observe();});</script> </body>"
      ]
     },
     "execution_count": 12,
     "metadata": {},
     "output_type": "execute_result"
    }
   ],
   "source": [
    "body"
   ]
  },
  {
   "cell_type": "code",
   "execution_count": 13,
   "id": "6687f166",
   "metadata": {},
   "outputs": [],
   "source": [
    "atag=body.find_all('a')"
   ]
  },
  {
   "cell_type": "code",
   "execution_count": 14,
   "id": "6b08b33d",
   "metadata": {},
   "outputs": [
    {
     "data": {
      "text/plain": [
       "[<a class=\"navbar-brand d-lg-none p-2\" href=\"https://hunthalloween.com/mumbai\" title=\"Holidays Events in Mumbai\"><img alt=\"HuntHalloween Logo\" fetchpriority=\"high\" height=\"40\" id=\"navbar-logo\" src=\"https://hunthalloween.com/assets/img/HuntHalloween.svg\" style=\"max-width: 280px;margin-left: 10px;\" width=\"312\"/></a>,\n",
       " <a class=\"d-none d-lg-block p-2\" href=\"https://hunthalloween.com/mumbai\" title=\"Holidays Events in Mumbai\"><img alt=\"Halloween Events\" height=\"40\" src=\"https://hunthalloween.com/assets/img/HuntHalloween.svg\" width=\"312\"/></a>,\n",
       " <a class=\"nav-link track\" data-track=\"TopBar|clicks|Share-eventlist\" href=\"https://www.facebook.com/sharer/sharer.php?u=https://hunthalloween.com/mumbai/christmas\" rel=\"noopener noreferrer nofollow\" target=\"_blank\" title=\"Share this Page\">\n",
       " <svg id=\"Capa_1\" style=\"enable-background:new 0 0 512 512;max-width: 25px;height: 20px;\" version=\"1.1\" viewbox=\"0 0 512 512\" x=\"0px\" xml:space=\"preserve\" xmlns=\"http://www.w3.org/2000/svg\" xmlns:xlink=\"http://www.w3.org/1999/xlink\" y=\"0px\">\n",
       " <g>\n",
       " <g>\n",
       " <path d=\"M406,332c-29.636,0-55.969,14.402-72.378,36.571l-141.27-72.195C194.722,288.324,196,279.809,196,271\n",
       " \t\t\t\t\t\t\t\t\tc0-11.931-2.339-23.324-6.574-33.753l148.06-88.958C354.006,167.679,378.59,180,406,180c49.626,0,90-40.374,90-90\n",
       " \t\t\t\t\t\t\t\t\tc0-49.626-40.374-90-90-90c-49.626,0-90,40.374-90,90c0,11.47,2.161,22.443,6.09,32.54l-148.43,89.18\n",
       " \t\t\t\t\t\t\t\t\tC157.152,192.902,132.941,181,106,181c-49.626,0-90,40.374-90,90c0,49.626,40.374,90,90,90c30.122,0,56.832-14.876,73.177-37.666\n",
       " \t\t\t\t\t\t\t\t\tl140.86,71.985C317.414,403.753,316,412.714,316,422c0,49.626,40.374,90,90,90c49.626,0,90-40.374,90-90\n",
       " \t\t\t\t\t\t\t\t\tC496,372.374,455.626,332,406,332z M406,30c33.084,0,60,26.916,60,60s-26.916,60-60,60s-60-26.916-60-60S372.916,30,406,30z\n",
       " \t\t\t\t\t\t\t\t\t M106,331c-33.084,0-60-26.916-60-60s26.916-60,60-60s60,26.916,60,60S139.084,331,106,331z M406,482c-33.084,0-60-26.916-60-60\n",
       " \t\t\t\t\t\t\t\t\ts26.916-60,60-60s60,26.916,60,60S439.084,482,406,482z\"></path>\n",
       " </g></g><g></g><g></g><g></g><g></g><g></g><g></g><g></g><g></g><g></g><g></g><g></g><g></g><g></g><g></g><g></g>\n",
       " </svg>\n",
       " </a>,\n",
       " <a class=\"bg-light d-block\" href=\"https://hunthalloween.com/event/wed-21st-dec-latin-twist-socials-antisocial-mumbai-christmas-edition-eid4a7btkc42j\" style=\"background: url(https://cdn.hunthalloween.com/events4/banners/63de6d461b200e602a0f310812cb4ff7973162c769dd6e4142c7c95dc4668535-rimg-w960-h960-gmir?v=1671362863);background-size: cover; background-position: top center;\" target=\"_blank\" title=\"Wed 21st Dec' Latin Twist Socials @AntiSocial Mumbai ? Christmas Edition ?\"></a>,\n",
       " <a class=\"stretched-link lh-150 t-darkred text-decoration-none\" href=\"https://hunthalloween.com/event/wed-21st-dec-latin-twist-socials-antisocial-mumbai-christmas-edition-eid4a7btkc42j\" target=\"_blank\" title=\"Wed 21st Dec' Latin Twist Socials @AntiSocial Mumbai ? Christmas Edition ?\"><h3 class=\"h5 mt-1\">Wed 21st Dec' Latin Twist Socials @AntiSocial Mumbai ? Christmas Edition ?</h3></a>,\n",
       " <a class=\"bg-light d-block lozard\" data-background-image=\"https://cdn-alt.hunthalloween.com/thumbs/thumb6380f4adbf07c.jpg\" href=\"https://hunthalloween.com/event/santas-christmas-workshop-for-kids-1yr-3-yrs-eid1nt5u59tee\" style=\"background-size: cover; background-position: top center;\" target=\"_blank\" title=\"Santa's Christmas Workshop for kids (1yr - 3 yrs)\"></a>,\n",
       " <a class=\"stretched-link lh-150 t-darkred text-decoration-none\" href=\"https://hunthalloween.com/event/santas-christmas-workshop-for-kids-1yr-3-yrs-eid1nt5u59tee\" target=\"_blank\" title=\"Santa's Christmas Workshop for kids (1yr - 3 yrs)\"><h3 class=\"h5 mt-1\">Santa's Christmas Workshop for kids (1yr - 3 yrs)</h3></a>,\n",
       " <a class=\"bg-light d-block lozard\" data-background-image=\"https://cdn.hunthalloween.com/events6/banners/7f005c8a1f731fbd5b60826499edd9176fa3374f425fe05e3011bb3dbf2c55f9-rimg-w640-h328-gmir.jpg?v=1671337134\" href=\"https://hunthalloween.com/event/christmas-party-eid4a7bv3fa5w\" style=\"background-size: cover; background-position: top center;\" target=\"_blank\" title=\"Christmas Party\"></a>,\n",
       " <a class=\"stretched-link lh-150 t-darkred text-decoration-none\" href=\"https://hunthalloween.com/event/christmas-party-eid4a7bv3fa5w\" target=\"_blank\" title=\"Christmas Party\"><h3 class=\"h5 mt-1\">Christmas Party</h3></a>,\n",
       " <a class=\"bg-light d-block lozard\" data-background-image=\"https://cdn-alt.hunthalloween.com/thumbs/thumb6378deb5b48b4.jpg\" href=\"https://hunthalloween.com/event/christmas-andamp-new-year-utsav-2022-eid1nt91kilat\" style=\"background-size: cover; background-position: top center;\" target=\"_blank\" title=\"Christmas &amp;amp; New Year Utsav 2022\"></a>,\n",
       " <a class=\"stretched-link lh-150 t-darkred text-decoration-none\" href=\"https://hunthalloween.com/event/christmas-andamp-new-year-utsav-2022-eid1nt91kilat\" target=\"_blank\" title=\"Christmas &amp;amp; New Year Utsav 2022\"><h3 class=\"h5 mt-1\">Christmas &amp; New Year Utsav 2022</h3></a>,\n",
       " <a class=\"bg-light d-block lozard\" data-background-image=\"https://cdn.hunthalloween.com/events6/banners/ed950f3cbad1eff8f88a90d83ce2dc9a1263f8823fc895ce11522f54ce75f30e-rimg-w960-h540-gmir.jpg?v=1671293393\" href=\"https://hunthalloween.com/event/christmas-party-eid4a7bubremj\" style=\"background-size: cover; background-position: top center;\" target=\"_blank\" title=\"christmas party\"></a>,\n",
       " <a class=\"stretched-link lh-150 t-darkred text-decoration-none\" href=\"https://hunthalloween.com/event/christmas-party-eid4a7bubremj\" target=\"_blank\" title=\"christmas party\"><h3 class=\"h5 mt-1\">christmas party</h3></a>,\n",
       " <a class=\"bg-light d-block lozard\" data-background-image=\"https://cdn-alt.hunthalloween.com/thumbs/thumb63a01f4ba5c88.jpg\" href=\"https://hunthalloween.com/event/the-craft-of-mixology-making-andamp-mastering-a-fine-cocktail-by-trove-experiences-eid1nt69gch3g\" style=\"background-size: cover; background-position: top center;\" target=\"_blank\" title=\"The Craft of Mixology Making &amp;amp; Mastering A Fine Cocktail by Trove Experiences \"></a>,\n",
       " <a class=\"stretched-link lh-150 t-darkred text-decoration-none\" href=\"https://hunthalloween.com/event/the-craft-of-mixology-making-andamp-mastering-a-fine-cocktail-by-trove-experiences-eid1nt69gch3g\" target=\"_blank\" title=\"The Craft of Mixology Making &amp;amp; Mastering A Fine Cocktail by Trove Experiences \"><h3 class=\"h5 mt-1\">The Craft of Mixology Making &amp; Mastering A Fine Cocktail by Trove Experiences </h3></a>,\n",
       " <a class=\"bg-light d-block lozard\" data-background-image=\"https://cdn-alt.hunthalloween.com/thumbs/thumb639ed082ee020.jpg\" href=\"https://hunthalloween.com/event/christmas-eve-special-camp-eid1nt8jp7wi3\" style=\"background-size: cover; background-position: top center;\" target=\"_blank\" title=\"Christmas eve special camp\"></a>,\n",
       " <a class=\"stretched-link lh-150 t-darkred text-decoration-none\" href=\"https://hunthalloween.com/event/christmas-eve-special-camp-eid1nt8jp7wi3\" target=\"_blank\" title=\"Christmas eve special camp\"><h3 class=\"h5 mt-1\">Christmas eve special camp</h3></a>,\n",
       " <a class=\"bg-light d-block lozard\" data-background-image=\"https://cdn.hunthalloween.com/events1/banners/2c96c30f90240423a65b0a2cf095bcdf5c091fe0f3f480dbd7a333474ea3c2dd-rimg-w960-h540-gmir.jpg?v=1671430179\" href=\"https://hunthalloween.com/event/christmas-carnival-the-fun-fiesta-eid4a7bsi8qih\" style=\"background-size: cover; background-position: top center;\" target=\"_blank\" title=\"Christmas Carnival - The Fun Fiesta\"></a>,\n",
       " <a class=\"stretched-link lh-150 t-darkred text-decoration-none\" href=\"https://hunthalloween.com/event/christmas-carnival-the-fun-fiesta-eid4a7bsi8qih\" target=\"_blank\" title=\"Christmas Carnival - The Fun Fiesta\"><h3 class=\"h5 mt-1\">Christmas Carnival - The Fun Fiesta</h3></a>,\n",
       " <a class=\"bg-light d-block lozard\" data-background-image=\"https://cdn.hunthalloween.com/events9/banners/5ec6aa0298ab825d3527b3d705a96da9e4d43f1f53d005319937ff3c3a6224ae-rimg-w540-h960-gmir.jpg?v=1671363845\" href=\"https://hunthalloween.com/event/christmas-mela-eid4a7bujsa3b\" style=\"background-size: cover; background-position: top center;\" target=\"_blank\" title=\"Christmas Mela\"></a>,\n",
       " <a class=\"stretched-link lh-150 t-darkred text-decoration-none\" href=\"https://hunthalloween.com/event/christmas-mela-eid4a7bujsa3b\" target=\"_blank\" title=\"Christmas Mela\"><h3 class=\"h5 mt-1\">Christmas Mela</h3></a>,\n",
       " <a class=\"bg-light d-block lozard\" data-background-image=\"https://cdn.hunthalloween.com/events10/banners/cf5c2acdbfeb304bb9668fb5d8fbd2ceac735b1e8347bcf2041fd45099e94d7a-rimg-w960-h540-gmir?v=1671326518\" href=\"https://hunthalloween.com/event/christmas-party-at-knotty-yard-eid4a7bslgv1a\" style=\"background-size: cover; background-position: top center;\" target=\"_blank\" title=\"CHRISTMAS PARTY AT KNOTTY YARD\"></a>,\n",
       " <a class=\"stretched-link lh-150 t-darkred text-decoration-none\" href=\"https://hunthalloween.com/event/christmas-party-at-knotty-yard-eid4a7bslgv1a\" target=\"_blank\" title=\"CHRISTMAS PARTY AT KNOTTY YARD\"><h3 class=\"h5 mt-1\">CHRISTMAS PARTY AT KNOTTY YARD</h3></a>,\n",
       " <a class=\"bg-light d-block lozard\" data-background-image=\"https://cdn.hunthalloween.com/events9/banners/1776b6316c0f476a8cd84e60a80f4fe4e4ec860c019b958881eef5526e153e1b-rimg-w960-h540-gmir.jpg?v=1671478414\" href=\"https://hunthalloween.com/event/christmas-party-at-flamiingo-eid4a7bstpuon\" style=\"background-size: cover; background-position: top center;\" target=\"_blank\" title=\"CHRISTMAS PARTY AT FLAMIINGO \"></a>,\n",
       " <a class=\"stretched-link lh-150 t-darkred text-decoration-none\" href=\"https://hunthalloween.com/event/christmas-party-at-flamiingo-eid4a7bstpuon\" target=\"_blank\" title=\"CHRISTMAS PARTY AT FLAMIINGO \"><h3 class=\"h5 mt-1\">CHRISTMAS PARTY AT FLAMIINGO </h3></a>,\n",
       " <a class=\"bg-light d-block lozard\" data-background-image=\"https://cdn-alt.hunthalloween.com/thumbs/thumb6397ff5c81c70.jpg\" href=\"https://hunthalloween.com/event/christmas-carnival-andamp-rajasthani-mela-eid1nta76aofj\" style=\"background-size: cover; background-position: top center;\" target=\"_blank\" title=\"CHRISTMAS CARNIVAL &amp;amp; RAJASTHANI MELA\"></a>,\n",
       " <a class=\"stretched-link lh-150 t-darkred text-decoration-none\" href=\"https://hunthalloween.com/event/christmas-carnival-andamp-rajasthani-mela-eid1nta76aofj\" target=\"_blank\" title=\"CHRISTMAS CARNIVAL &amp;amp; RAJASTHANI MELA\"><h3 class=\"h5 mt-1\">CHRISTMAS CARNIVAL &amp; RAJASTHANI MELA</h3></a>,\n",
       " <a class=\"bg-light d-block lozard\" data-background-image=\"https://cdn.hunthalloween.com/events5/banners/c5b5f8b1d26aaaff8be6c109c6e241720c1cf1b41c0495672d9db1c832b29028-rimg-w635-h960-gmir.jpg?v=1671455955\" href=\"https://hunthalloween.com/event/sahajyoga-meditation-experience-unconditional-joy-andamppeace-within-eid4a7bv6tmks\" style=\"background-size: cover; background-position: top center;\" target=\"_blank\" title=\"Sahajyoga meditation. Experience unconditional joy &amp;amp;peace within.\"></a>,\n",
       " <a class=\"stretched-link lh-150 t-darkred text-decoration-none\" href=\"https://hunthalloween.com/event/sahajyoga-meditation-experience-unconditional-joy-andamppeace-within-eid4a7bv6tmks\" target=\"_blank\" title=\"Sahajyoga meditation. Experience unconditional joy &amp;amp;peace within.\"><h3 class=\"h5 mt-1\">Sahajyoga meditation. Experience unconditional joy &amp;peace within.</h3></a>,\n",
       " <a class=\"bg-light d-block lozard\" data-background-image=\"https://cdn.hunthalloween.com/events6/banners/bc3ba3cab08e0774cf5ef42f98609d4e0e483da15da2a185ceaf44dbe39f935d-rimg-w960-h503-gmir.jpg?v=1671340851\" href=\"https://hunthalloween.com/event/christmas-sail-on-a-yacht-in-mumbai-eid4a7bujsb0w\" style=\"background-size: cover; background-position: top center;\" target=\"_blank\" title=\"Christmas Sail on a Yacht in Mumbai\"></a>,\n",
       " <a class=\"stretched-link lh-150 t-darkred text-decoration-none\" href=\"https://hunthalloween.com/event/christmas-sail-on-a-yacht-in-mumbai-eid4a7bujsb0w\" target=\"_blank\" title=\"Christmas Sail on a Yacht in Mumbai\"><h3 class=\"h5 mt-1\">Christmas Sail on a Yacht in Mumbai</h3></a>,\n",
       " <a class=\"bg-light d-block lozard\" data-background-image=\"https://cdn.hunthalloween.com/events2/banners/f89a7e3e69d02c4767a45fef4c77821f0e3083c4489acdb11e8ca874891a39e4-rimg-w960-h502-gmir.jpg?v=1671431275\" href=\"https://hunthalloween.com/event/blessings-bled-chimanga-performing-live-eid4a7bu6847h\" style=\"background-size: cover; background-position: top center;\" target=\"_blank\" title=\"BLESSINGS BLED CHIMANGA PERFORMING LIVE\"></a>,\n",
       " <a class=\"stretched-link lh-150 t-darkred text-decoration-none\" href=\"https://hunthalloween.com/event/blessings-bled-chimanga-performing-live-eid4a7bu6847h\" target=\"_blank\" title=\"BLESSINGS BLED CHIMANGA PERFORMING LIVE\"><h3 class=\"h5 mt-1\">BLESSINGS BLED CHIMANGA PERFORMING LIVE</h3></a>,\n",
       " <a class=\"bg-light d-block lozard\" data-background-image=\"https://cdn-alt.hunthalloween.com/thumbs/thumb6396ecf1d6bc5.jpg\" href=\"https://hunthalloween.com/event/kidz-andamp-family-fest-eid1nt52obplo\" style=\"background-size: cover; background-position: top center;\" target=\"_blank\" title=\"Kidz &amp;amp; Family Fest \"></a>,\n",
       " <a class=\"stretched-link lh-150 t-darkred text-decoration-none\" href=\"https://hunthalloween.com/event/kidz-andamp-family-fest-eid1nt52obplo\" target=\"_blank\" title=\"Kidz &amp;amp; Family Fest \"><h3 class=\"h5 mt-1\">Kidz &amp; Family Fest </h3></a>,\n",
       " <a class=\"\" href=\"https://hunthalloween.com\" itemid=\"https://hunthalloween.com\" itemprop=\"item\" itemscope=\"\" itemtype=\"https://schema.org/WebPage\"><span itemprop=\"name\">Home</span></a>,\n",
       " <a class=\"\" href=\"https://hunthalloween.com/mumbai\" itemid=\"https://hunthalloween.com/mumbai\" itemprop=\"item\" itemscope=\"\" itemtype=\"https://schema.org/WebPage\"><span itemprop=\"name\">Mumbai Events</span></a>,\n",
       " <a class=\"nav-link\" href=\"https://hunthalloween.com\" title=\"HuntHalloween Homepage\">Home</a>,\n",
       " <a class=\"nav-link\" href=\"https://hunthalloween.com/pages/contact\" title=\"Contact Us\">Contact</a>,\n",
       " <a class=\"nav-link\" href=\"https://hunthalloween.com/pages/privacy\" rel=\"nofollow\" title=\"Privacy Policy\">Privacy</a>]"
      ]
     },
     "execution_count": 14,
     "metadata": {},
     "output_type": "execute_result"
    }
   ],
   "source": [
    "atag"
   ]
  },
  {
   "cell_type": "code",
   "execution_count": 15,
   "id": "84d764b9",
   "metadata": {},
   "outputs": [],
   "source": [
    "l1=[]\n",
    "for link in soup.find_all('a'):\n",
    "    l1.append(link.get('href'))"
   ]
  },
  {
   "cell_type": "code",
   "execution_count": 16,
   "id": "59f4d0ba",
   "metadata": {},
   "outputs": [
    {
     "data": {
      "text/plain": [
       "['https://hunthalloween.com/mumbai',\n",
       " 'https://hunthalloween.com/mumbai',\n",
       " 'https://www.facebook.com/sharer/sharer.php?u=https://hunthalloween.com/mumbai/christmas',\n",
       " 'https://hunthalloween.com/event/wed-21st-dec-latin-twist-socials-antisocial-mumbai-christmas-edition-eid4a7btkc42j',\n",
       " 'https://hunthalloween.com/event/wed-21st-dec-latin-twist-socials-antisocial-mumbai-christmas-edition-eid4a7btkc42j',\n",
       " 'https://hunthalloween.com/event/santas-christmas-workshop-for-kids-1yr-3-yrs-eid1nt5u59tee',\n",
       " 'https://hunthalloween.com/event/santas-christmas-workshop-for-kids-1yr-3-yrs-eid1nt5u59tee',\n",
       " 'https://hunthalloween.com/event/christmas-party-eid4a7bv3fa5w',\n",
       " 'https://hunthalloween.com/event/christmas-party-eid4a7bv3fa5w',\n",
       " 'https://hunthalloween.com/event/christmas-andamp-new-year-utsav-2022-eid1nt91kilat',\n",
       " 'https://hunthalloween.com/event/christmas-andamp-new-year-utsav-2022-eid1nt91kilat',\n",
       " 'https://hunthalloween.com/event/christmas-party-eid4a7bubremj',\n",
       " 'https://hunthalloween.com/event/christmas-party-eid4a7bubremj',\n",
       " 'https://hunthalloween.com/event/the-craft-of-mixology-making-andamp-mastering-a-fine-cocktail-by-trove-experiences-eid1nt69gch3g',\n",
       " 'https://hunthalloween.com/event/the-craft-of-mixology-making-andamp-mastering-a-fine-cocktail-by-trove-experiences-eid1nt69gch3g',\n",
       " 'https://hunthalloween.com/event/christmas-eve-special-camp-eid1nt8jp7wi3',\n",
       " 'https://hunthalloween.com/event/christmas-eve-special-camp-eid1nt8jp7wi3',\n",
       " 'https://hunthalloween.com/event/christmas-carnival-the-fun-fiesta-eid4a7bsi8qih',\n",
       " 'https://hunthalloween.com/event/christmas-carnival-the-fun-fiesta-eid4a7bsi8qih',\n",
       " 'https://hunthalloween.com/event/christmas-mela-eid4a7bujsa3b',\n",
       " 'https://hunthalloween.com/event/christmas-mela-eid4a7bujsa3b',\n",
       " 'https://hunthalloween.com/event/christmas-party-at-knotty-yard-eid4a7bslgv1a',\n",
       " 'https://hunthalloween.com/event/christmas-party-at-knotty-yard-eid4a7bslgv1a',\n",
       " 'https://hunthalloween.com/event/christmas-party-at-flamiingo-eid4a7bstpuon',\n",
       " 'https://hunthalloween.com/event/christmas-party-at-flamiingo-eid4a7bstpuon',\n",
       " 'https://hunthalloween.com/event/christmas-carnival-andamp-rajasthani-mela-eid1nta76aofj',\n",
       " 'https://hunthalloween.com/event/christmas-carnival-andamp-rajasthani-mela-eid1nta76aofj',\n",
       " 'https://hunthalloween.com/event/sahajyoga-meditation-experience-unconditional-joy-andamppeace-within-eid4a7bv6tmks',\n",
       " 'https://hunthalloween.com/event/sahajyoga-meditation-experience-unconditional-joy-andamppeace-within-eid4a7bv6tmks',\n",
       " 'https://hunthalloween.com/event/christmas-sail-on-a-yacht-in-mumbai-eid4a7bujsb0w',\n",
       " 'https://hunthalloween.com/event/christmas-sail-on-a-yacht-in-mumbai-eid4a7bujsb0w',\n",
       " 'https://hunthalloween.com/event/blessings-bled-chimanga-performing-live-eid4a7bu6847h',\n",
       " 'https://hunthalloween.com/event/blessings-bled-chimanga-performing-live-eid4a7bu6847h',\n",
       " 'https://hunthalloween.com/event/kidz-andamp-family-fest-eid1nt52obplo',\n",
       " 'https://hunthalloween.com/event/kidz-andamp-family-fest-eid1nt52obplo',\n",
       " 'https://hunthalloween.com',\n",
       " 'https://hunthalloween.com/mumbai',\n",
       " 'https://hunthalloween.com',\n",
       " 'https://hunthalloween.com/pages/contact',\n",
       " 'https://hunthalloween.com/pages/privacy']"
      ]
     },
     "execution_count": 16,
     "metadata": {},
     "output_type": "execute_result"
    }
   ],
   "source": [
    "l1"
   ]
  },
  {
   "cell_type": "code",
   "execution_count": 17,
   "id": "f97817d2",
   "metadata": {},
   "outputs": [],
   "source": [
    "l1=set(l1)"
   ]
  },
  {
   "cell_type": "code",
   "execution_count": 18,
   "id": "df5458f2",
   "metadata": {},
   "outputs": [],
   "source": [
    "l1=list(l1)"
   ]
  },
  {
   "cell_type": "code",
   "execution_count": 19,
   "id": "733946d5",
   "metadata": {},
   "outputs": [
    {
     "data": {
      "text/plain": [
       "['https://hunthalloween.com/pages/contact',\n",
       " 'https://hunthalloween.com/event/christmas-party-at-knotty-yard-eid4a7bslgv1a',\n",
       " 'https://hunthalloween.com/event/the-craft-of-mixology-making-andamp-mastering-a-fine-cocktail-by-trove-experiences-eid1nt69gch3g',\n",
       " 'https://hunthalloween.com/event/christmas-party-at-flamiingo-eid4a7bstpuon',\n",
       " 'https://hunthalloween.com/event/sahajyoga-meditation-experience-unconditional-joy-andamppeace-within-eid4a7bv6tmks',\n",
       " 'https://hunthalloween.com',\n",
       " 'https://hunthalloween.com/event/blessings-bled-chimanga-performing-live-eid4a7bu6847h',\n",
       " 'https://hunthalloween.com/event/christmas-mela-eid4a7bujsa3b',\n",
       " 'https://hunthalloween.com/event/christmas-party-eid4a7bv3fa5w',\n",
       " 'https://hunthalloween.com/mumbai',\n",
       " 'https://hunthalloween.com/event/kidz-andamp-family-fest-eid1nt52obplo',\n",
       " 'https://www.facebook.com/sharer/sharer.php?u=https://hunthalloween.com/mumbai/christmas',\n",
       " 'https://hunthalloween.com/event/christmas-party-eid4a7bubremj',\n",
       " 'https://hunthalloween.com/event/christmas-carnival-the-fun-fiesta-eid4a7bsi8qih',\n",
       " 'https://hunthalloween.com/event/christmas-sail-on-a-yacht-in-mumbai-eid4a7bujsb0w',\n",
       " 'https://hunthalloween.com/event/christmas-eve-special-camp-eid1nt8jp7wi3',\n",
       " 'https://hunthalloween.com/event/christmas-carnival-andamp-rajasthani-mela-eid1nta76aofj',\n",
       " 'https://hunthalloween.com/event/christmas-andamp-new-year-utsav-2022-eid1nt91kilat',\n",
       " 'https://hunthalloween.com/event/santas-christmas-workshop-for-kids-1yr-3-yrs-eid1nt5u59tee',\n",
       " 'https://hunthalloween.com/pages/privacy',\n",
       " 'https://hunthalloween.com/event/wed-21st-dec-latin-twist-socials-antisocial-mumbai-christmas-edition-eid4a7btkc42j']"
      ]
     },
     "execution_count": 19,
     "metadata": {},
     "output_type": "execute_result"
    }
   ],
   "source": [
    "l1"
   ]
  },
  {
   "cell_type": "code",
   "execution_count": null,
   "id": "ff811f0b",
   "metadata": {},
   "outputs": [],
   "source": []
  },
  {
   "cell_type": "code",
   "execution_count": 20,
   "id": "d5ffceb0",
   "metadata": {},
   "outputs": [],
   "source": [
    "url='https://hunthalloween.com/event/wed-21st-dec-latin-twist-socials-antisocial-mumbai-christmas-edition-eid4a7btkc42j'"
   ]
  },
  {
   "cell_type": "code",
   "execution_count": 21,
   "id": "902674d8",
   "metadata": {},
   "outputs": [
    {
     "data": {
      "text/plain": [
       "<Response [200]>"
      ]
     },
     "execution_count": 21,
     "metadata": {},
     "output_type": "execute_result"
    }
   ],
   "source": [
    "r=requests.get(url)\n",
    "r"
   ]
  },
  {
   "cell_type": "code",
   "execution_count": 22,
   "id": "66e7e950",
   "metadata": {},
   "outputs": [],
   "source": [
    "content=r.content"
   ]
  },
  {
   "cell_type": "code",
   "execution_count": 23,
   "id": "6d86e8d5",
   "metadata": {},
   "outputs": [],
   "source": [
    "soup=BeautifulSoup(content,'html.parser')"
   ]
  },
  {
   "cell_type": "code",
   "execution_count": 58,
   "id": "ce5da8c2",
   "metadata": {},
   "outputs": [],
   "source": [
    "DateTime=soup.find_all('p',class_='h6 m-0')"
   ]
  },
  {
   "cell_type": "code",
   "execution_count": 59,
   "id": "5af292a3",
   "metadata": {},
   "outputs": [
    {
     "data": {
      "text/plain": [
       "[<p class=\"h6 m-0\">Wed Dec 21 2022 at 08:00 pm to Thu Dec 22 2022 at 01:00 am</p>,\n",
       " <p class=\"h6 m-0\">antiSOCIAL | Mumbai, MH</p>]"
      ]
     },
     "execution_count": 59,
     "metadata": {},
     "output_type": "execute_result"
    }
   ],
   "source": [
    "DateTime"
   ]
  },
  {
   "cell_type": "code",
   "execution_count": 60,
   "id": "d241c454",
   "metadata": {},
   "outputs": [
    {
     "data": {
      "text/plain": [
       "'Wed Dec 21 2022 at 08:00 pm to Thu Dec 22 2022 at 01:00 am'"
      ]
     },
     "execution_count": 60,
     "metadata": {},
     "output_type": "execute_result"
    }
   ],
   "source": [
    "DateTime[0].get_text()"
   ]
  },
  {
   "cell_type": "code",
   "execution_count": 61,
   "id": "47e264ff",
   "metadata": {},
   "outputs": [],
   "source": [
    "DateTime=DateTime[0].get_text().split('to')"
   ]
  },
  {
   "cell_type": "code",
   "execution_count": 62,
   "id": "a430eabc",
   "metadata": {},
   "outputs": [
    {
     "data": {
      "text/plain": [
       "['Wed Dec 21 2022 at 08:00 pm ', ' Thu Dec 22 2022 at 01:00 am']"
      ]
     },
     "execution_count": 62,
     "metadata": {},
     "output_type": "execute_result"
    }
   ],
   "source": [
    "DateTime"
   ]
  },
  {
   "cell_type": "code",
   "execution_count": 63,
   "id": "a85d097b",
   "metadata": {},
   "outputs": [],
   "source": [
    "StartTime=DateTime[0]\n",
    "EndTime=DateTime[1]"
   ]
  },
  {
   "cell_type": "code",
   "execution_count": 64,
   "id": "77c3a6bb",
   "metadata": {},
   "outputs": [
    {
     "data": {
      "text/plain": [
       "'Wed Dec 21 2022 at 08:00 pm '"
      ]
     },
     "execution_count": 64,
     "metadata": {},
     "output_type": "execute_result"
    }
   ],
   "source": [
    "StartTime"
   ]
  },
  {
   "cell_type": "code",
   "execution_count": 65,
   "id": "aa62c6fc",
   "metadata": {},
   "outputs": [],
   "source": [
    "StartTime=StartTime.split(' ',1)"
   ]
  },
  {
   "cell_type": "code",
   "execution_count": 66,
   "id": "43c5d13b",
   "metadata": {},
   "outputs": [],
   "source": [
    "Day=StartTime[0]"
   ]
  },
  {
   "cell_type": "code",
   "execution_count": 67,
   "id": "7b066a23",
   "metadata": {},
   "outputs": [
    {
     "data": {
      "text/plain": [
       "'Wed'"
      ]
     },
     "execution_count": 67,
     "metadata": {},
     "output_type": "execute_result"
    }
   ],
   "source": [
    "Day"
   ]
  },
  {
   "cell_type": "code",
   "execution_count": 68,
   "id": "f69fd180",
   "metadata": {},
   "outputs": [],
   "source": [
    "StartTime=StartTime[1]"
   ]
  },
  {
   "cell_type": "code",
   "execution_count": 69,
   "id": "fc47661f",
   "metadata": {},
   "outputs": [],
   "source": [
    "StartTime=StartTime.split('at')"
   ]
  },
  {
   "cell_type": "code",
   "execution_count": 70,
   "id": "8309814b",
   "metadata": {},
   "outputs": [
    {
     "data": {
      "text/plain": [
       "['Dec 21 2022 ', ' 08:00 pm ']"
      ]
     },
     "execution_count": 70,
     "metadata": {},
     "output_type": "execute_result"
    }
   ],
   "source": [
    "StartTime"
   ]
  },
  {
   "cell_type": "code",
   "execution_count": 71,
   "id": "2ef75991",
   "metadata": {},
   "outputs": [],
   "source": [
    "StartingDate=StartTime[0]"
   ]
  },
  {
   "cell_type": "code",
   "execution_count": 72,
   "id": "fb0d655f",
   "metadata": {},
   "outputs": [],
   "source": [
    "StartingTime=StartTime[1]"
   ]
  },
  {
   "cell_type": "code",
   "execution_count": null,
   "id": "05203131",
   "metadata": {},
   "outputs": [],
   "source": []
  },
  {
   "cell_type": "code",
   "execution_count": 73,
   "id": "5968b1f6",
   "metadata": {},
   "outputs": [
    {
     "data": {
      "text/plain": [
       "' Thu Dec 22 2022 at 01:00 am'"
      ]
     },
     "execution_count": 73,
     "metadata": {},
     "output_type": "execute_result"
    }
   ],
   "source": [
    "EndTime"
   ]
  },
  {
   "cell_type": "code",
   "execution_count": 74,
   "id": "921d5f30",
   "metadata": {},
   "outputs": [],
   "source": [
    "EndTime=EndTime.split(' ',1)"
   ]
  },
  {
   "cell_type": "code",
   "execution_count": 75,
   "id": "2bbd4d32",
   "metadata": {},
   "outputs": [],
   "source": [
    "EndTime=EndTime[1]"
   ]
  },
  {
   "cell_type": "code",
   "execution_count": 76,
   "id": "937f46cf",
   "metadata": {},
   "outputs": [],
   "source": [
    "EndTime=EndTime.split(' ',1)"
   ]
  },
  {
   "cell_type": "code",
   "execution_count": 77,
   "id": "25f4f43c",
   "metadata": {},
   "outputs": [
    {
     "data": {
      "text/plain": [
       "['Thu', 'Dec 22 2022 at 01:00 am']"
      ]
     },
     "execution_count": 77,
     "metadata": {},
     "output_type": "execute_result"
    }
   ],
   "source": [
    "EndTime"
   ]
  },
  {
   "cell_type": "code",
   "execution_count": 78,
   "id": "1d16add8",
   "metadata": {},
   "outputs": [],
   "source": [
    "Day=EndTime[0]"
   ]
  },
  {
   "cell_type": "code",
   "execution_count": 79,
   "id": "5245550d",
   "metadata": {},
   "outputs": [
    {
     "data": {
      "text/plain": [
       "'Thu'"
      ]
     },
     "execution_count": 79,
     "metadata": {},
     "output_type": "execute_result"
    }
   ],
   "source": [
    "Day"
   ]
  },
  {
   "cell_type": "code",
   "execution_count": 80,
   "id": "f69fb88f",
   "metadata": {},
   "outputs": [],
   "source": [
    "EndTime=EndTime[1]"
   ]
  },
  {
   "cell_type": "code",
   "execution_count": 81,
   "id": "edd98f22",
   "metadata": {},
   "outputs": [],
   "source": [
    "EndTime=EndTime.split('at')"
   ]
  },
  {
   "cell_type": "code",
   "execution_count": 82,
   "id": "3c45db38",
   "metadata": {},
   "outputs": [
    {
     "data": {
      "text/plain": [
       "['Dec 22 2022 ', ' 01:00 am']"
      ]
     },
     "execution_count": 82,
     "metadata": {},
     "output_type": "execute_result"
    }
   ],
   "source": [
    "EndTime"
   ]
  },
  {
   "cell_type": "code",
   "execution_count": 83,
   "id": "00345506",
   "metadata": {},
   "outputs": [],
   "source": [
    "EndingingDate=EndTime[0]"
   ]
  },
  {
   "cell_type": "code",
   "execution_count": 84,
   "id": "6f405bf8",
   "metadata": {},
   "outputs": [],
   "source": [
    "EndingTime=EndTime[1]"
   ]
  },
  {
   "cell_type": "code",
   "execution_count": null,
   "id": "75cd6acb",
   "metadata": {},
   "outputs": [],
   "source": []
  },
  {
   "cell_type": "code",
   "execution_count": 85,
   "id": "19e246f2",
   "metadata": {},
   "outputs": [
    {
     "ename": "AttributeError",
     "evalue": "'str' object has no attribute 'get_text'",
     "output_type": "error",
     "traceback": [
      "\u001b[1;31m---------------------------------------------------------------------------\u001b[0m",
      "\u001b[1;31mAttributeError\u001b[0m                            Traceback (most recent call last)",
      "Input \u001b[1;32mIn [85]\u001b[0m, in \u001b[0;36m<cell line: 1>\u001b[1;34m()\u001b[0m\n\u001b[1;32m----> 1\u001b[0m \u001b[43mDateTime\u001b[49m\u001b[43m[\u001b[49m\u001b[38;5;241;43m0\u001b[39;49m\u001b[43m]\u001b[49m\u001b[38;5;241;43m.\u001b[39;49m\u001b[43mget_text\u001b[49m()\n",
      "\u001b[1;31mAttributeError\u001b[0m: 'str' object has no attribute 'get_text'"
     ]
    }
   ],
   "source": [
    "DateTime[0].get_text()"
   ]
  },
  {
   "cell_type": "code",
   "execution_count": 87,
   "id": "c7d01f7e",
   "metadata": {},
   "outputs": [
    {
     "data": {
      "text/plain": [
       "list"
      ]
     },
     "execution_count": 87,
     "metadata": {},
     "output_type": "execute_result"
    }
   ],
   "source": [
    "type(DateTime)"
   ]
  },
  {
   "cell_type": "code",
   "execution_count": 88,
   "id": "445fd3dc",
   "metadata": {},
   "outputs": [
    {
     "data": {
      "text/plain": [
       "['Wed Dec 21 2022 at 08:00 pm ', ' Thu Dec 22 2022 at 01:00 am']"
      ]
     },
     "execution_count": 88,
     "metadata": {},
     "output_type": "execute_result"
    }
   ],
   "source": [
    "DateTime"
   ]
  },
  {
   "cell_type": "code",
   "execution_count": null,
   "id": "8107ed3f",
   "metadata": {},
   "outputs": [],
   "source": []
  },
  {
   "cell_type": "code",
   "execution_count": null,
   "id": "4967977c",
   "metadata": {},
   "outputs": [],
   "source": []
  },
  {
   "cell_type": "code",
   "execution_count": 89,
   "id": "ff169f26",
   "metadata": {},
   "outputs": [],
   "source": [
    "DateTime=soup.find_all('p',class_='h6 m-0')"
   ]
  },
  {
   "cell_type": "code",
   "execution_count": 90,
   "id": "da28a16a",
   "metadata": {},
   "outputs": [
    {
     "data": {
      "text/plain": [
       "[<p class=\"h6 m-0\">Wed Dec 21 2022 at 08:00 pm to Thu Dec 22 2022 at 01:00 am</p>,\n",
       " <p class=\"h6 m-0\">antiSOCIAL | Mumbai, MH</p>]"
      ]
     },
     "execution_count": 90,
     "metadata": {},
     "output_type": "execute_result"
    }
   ],
   "source": [
    "DateTime"
   ]
  },
  {
   "cell_type": "code",
   "execution_count": null,
   "id": "6cf7cfd5",
   "metadata": {},
   "outputs": [],
   "source": []
  },
  {
   "cell_type": "code",
   "execution_count": 92,
   "id": "aee4dcfb",
   "metadata": {},
   "outputs": [],
   "source": [
    "DateTime=DateTime[1].get_text()"
   ]
  },
  {
   "cell_type": "code",
   "execution_count": 95,
   "id": "a7738b95",
   "metadata": {},
   "outputs": [],
   "source": [
    "DateTime=DateTime.split('|')"
   ]
  },
  {
   "cell_type": "code",
   "execution_count": 96,
   "id": "08f20784",
   "metadata": {},
   "outputs": [
    {
     "data": {
      "text/plain": [
       "['antiSOCIAL ', ' Mumbai, MH']"
      ]
     },
     "execution_count": 96,
     "metadata": {},
     "output_type": "execute_result"
    }
   ],
   "source": [
    "DateTime"
   ]
  },
  {
   "cell_type": "code",
   "execution_count": 99,
   "id": "7aeef335",
   "metadata": {},
   "outputs": [],
   "source": [
    "Venue=DateTime[0]"
   ]
  },
  {
   "cell_type": "code",
   "execution_count": 100,
   "id": "3d2479e5",
   "metadata": {},
   "outputs": [
    {
     "data": {
      "text/plain": [
       "'antiSOCIAL '"
      ]
     },
     "execution_count": 100,
     "metadata": {},
     "output_type": "execute_result"
    }
   ],
   "source": [
    "Venue"
   ]
  },
  {
   "cell_type": "code",
   "execution_count": 102,
   "id": "f7709ded",
   "metadata": {},
   "outputs": [],
   "source": [
    "Location=DateTime[1]"
   ]
  },
  {
   "cell_type": "code",
   "execution_count": 105,
   "id": "c0c679f1",
   "metadata": {},
   "outputs": [],
   "source": [
    "Location=Location.lstrip()"
   ]
  },
  {
   "cell_type": "code",
   "execution_count": 106,
   "id": "8bfd24fe",
   "metadata": {},
   "outputs": [
    {
     "data": {
      "text/plain": [
       "'Mumbai, MH'"
      ]
     },
     "execution_count": 106,
     "metadata": {},
     "output_type": "execute_result"
    }
   ],
   "source": [
    "Location"
   ]
  },
  {
   "cell_type": "code",
   "execution_count": null,
   "id": "2ac6d415",
   "metadata": {},
   "outputs": [],
   "source": []
  },
  {
   "cell_type": "code",
   "execution_count": null,
   "id": "b380ef01",
   "metadata": {},
   "outputs": [],
   "source": []
  },
  {
   "cell_type": "code",
   "execution_count": null,
   "id": "1398cf45",
   "metadata": {},
   "outputs": [],
   "source": []
  },
  {
   "cell_type": "code",
   "execution_count": null,
   "id": "f34a9c35",
   "metadata": {},
   "outputs": [],
   "source": []
  },
  {
   "cell_type": "code",
   "execution_count": null,
   "id": "249ece98",
   "metadata": {},
   "outputs": [],
   "source": []
  },
  {
   "cell_type": "code",
   "execution_count": null,
   "id": "39f71943",
   "metadata": {},
   "outputs": [],
   "source": []
  },
  {
   "cell_type": "code",
   "execution_count": null,
   "id": "d4fae129",
   "metadata": {},
   "outputs": [],
   "source": []
  },
  {
   "cell_type": "code",
   "execution_count": null,
   "id": "bf27e18c",
   "metadata": {},
   "outputs": [],
   "source": []
  },
  {
   "cell_type": "code",
   "execution_count": null,
   "id": "ba8ad98a",
   "metadata": {},
   "outputs": [],
   "source": []
  },
  {
   "cell_type": "code",
   "execution_count": 107,
   "id": "a59089bd",
   "metadata": {},
   "outputs": [],
   "source": [
    "StartingDayList=[]\n",
    "StartingDateList=[]\n",
    "StartingTimeList=[]\n",
    "EndingDayList=[]\n",
    "EndingDateList=[]\n",
    "EndingTimeList=[]\n",
    "VenueList=[]\n",
    "LocationList=[]\n",
    "def scrap(URL):\n",
    "    r=request.get(url)\n",
    "    content=r.content\n",
    "    soup=BeautifulSoup(content,'html.parser')\n",
    "    DateTime=soup.find_all('p',class_='h6 m-0')\n",
    "    \n",
    "    DateTime[0].get_text()\n",
    "    DateTime=DateTime[0].get_text().split('to')\n",
    "    StartTime=DateTime[0]\n",
    "    EndTime=DateTime[1]\n",
    "    StartTime=StartTime.split(' ',1)\n",
    "    Day=StartTime[0]\n",
    "    StartingDayList.append(Day)\n",
    "    StartTime=StartTime[1]\n",
    "    StartTime=StartTime.split('at')\n",
    "    StartingDate=StartTime[0]\n",
    "    StartingDateList.append(StartingDate)\n",
    "    StartingTime=StartTime[1]\n",
    "    StartingTimeList.append(StartingTime)\n",
    "    \n",
    "    EndTime=EndTime.split(' ',1)\n",
    "    EndTime=EndTime[1]\n",
    "    EndTime=EndTime.split(' ',1)\n",
    "    Day=EndTime[0]\n",
    "    EndingDayList.append(Day)\n",
    "    EndTime=EndTime[1]\n",
    "    EndTime=EndTime.split('at')\n",
    "    EndingDate=EndTime[0]\n",
    "    EndingDateList.append(EndingDate)\n",
    "    EndingTime=EndTime[1]\n",
    "    EndingTimeList.append(EndingTime)\n",
    "    \n",
    "    DateTime=soup.find_all('p',class_='h6 m-0')\n",
    "    DateTime=DateTime[1].get_text()\n",
    "    DateTime=DateTime.split('|')\n",
    "    Venue=DateTime[0]\n",
    "    VenueList.append(Venue)\n",
    "    Location=DateTime[1]\n",
    "    Location=Location.lstrip()\n",
    "    LocationList.append(Location)\n",
    "    \n",
    "    \n",
    "    "
   ]
  },
  {
   "cell_type": "code",
   "execution_count": 110,
   "id": "cde1c382",
   "metadata": {},
   "outputs": [
    {
     "data": {
      "text/plain": [
       "[<h2 class=\"h5 text-primary\">Date &amp; Time</h2>,\n",
       " <h2 class=\"h5 text-primary\">Location</h2>,\n",
       " <h2 class=\"h5 text-primary\">Details</h2>]"
      ]
     },
     "execution_count": 110,
     "metadata": {},
     "output_type": "execute_result"
    }
   ],
   "source": [
    "soup.find_all('h2')"
   ]
  },
  {
   "cell_type": "code",
   "execution_count": 111,
   "id": "84244a45",
   "metadata": {},
   "outputs": [
    {
     "data": {
      "text/plain": [
       "[<h2 class=\"h5 text-primary\">Date &amp; Time</h2>,\n",
       " <h2 class=\"h5 text-primary\">Location</h2>,\n",
       " <h2 class=\"h5 text-primary\">Details</h2>,\n",
       " <h3 class=\"h5 text-primary\">Event Location</h3>,\n",
       " <h3 class=\"h5 text-primary\">Event Host</h3>]"
      ]
     },
     "execution_count": 111,
     "metadata": {},
     "output_type": "execute_result"
    }
   ],
   "source": [
    "soup.find_all(class_=\"h5 text-primary\")"
   ]
  },
  {
   "cell_type": "code",
   "execution_count": null,
   "id": "fcc7b7d1",
   "metadata": {},
   "outputs": [],
   "source": []
  }
 ],
 "metadata": {
  "kernelspec": {
   "display_name": "Python 3 (ipykernel)",
   "language": "python",
   "name": "python3"
  },
  "language_info": {
   "codemirror_mode": {
    "name": "ipython",
    "version": 3
   },
   "file_extension": ".py",
   "mimetype": "text/x-python",
   "name": "python",
   "nbconvert_exporter": "python",
   "pygments_lexer": "ipython3",
   "version": "3.9.12"
  }
 },
 "nbformat": 4,
 "nbformat_minor": 5
}
